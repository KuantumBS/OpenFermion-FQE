{
 "cells": [
  {
   "cell_type": "code",
   "execution_count": 1,
   "metadata": {},
   "outputs": [],
   "source": [
    "import cirq\n",
    "import fqe\n",
    "from openfermion import FermionOperator, count_qubits\n",
    "from openfermion.transforms import jordan_wigner\n",
    "from openfermion.utils import trotter_operator_grouping\n",
    "import numpy"
   ]
  },
  {
   "cell_type": "code",
   "execution_count": 2,
   "metadata": {},
   "outputs": [],
   "source": [
    "wfn = fqe.wavefunction.Wavefunction(param=[[4, 0, 4]], conserve=['spin', 'particlenumber'])"
   ]
  },
  {
   "cell_type": "code",
   "execution_count": 3,
   "metadata": {},
   "outputs": [],
   "source": [
    "wfn.set_wfn(strategy='random')"
   ]
  },
  {
   "cell_type": "code",
   "execution_count": 4,
   "metadata": {},
   "outputs": [
    {
     "name": "stdout",
     "output_type": "stream",
     "text": [
      "Sector N = 4 : S_z = 0\n",
      "a'0011'b'0011' (0.07782902931417084+0.05371129958709878j)\n",
      "a'0011'b'0101' (-0.09728768441217797+0.09208292288251187j)\n",
      "a'0011'b'1001' (0.09112585711217955+0.1443143281554376j)\n",
      "a'0011'b'0110' (0.07718204139793736+0.2925825405012374j)\n",
      "a'0011'b'1010' (-0.06926910655885951-0.02688295337763714j)\n",
      "a'0011'b'1100' (-0.11343136490150556+0.05359080346733419j)\n",
      "a'0101'b'0011' (-0.02598694300721102-0.09014498425827365j)\n",
      "a'0101'b'0101' (-0.04812919739576149-0.15183544102060387j)\n",
      "a'0101'b'1001' (-0.09523643562536332+0.061610870349137495j)\n",
      "a'0101'b'0110' (0.0951348097633611-0.17992209673028658j)\n",
      "a'0101'b'1010' (0.12346543370886064-0.1506982124902059j)\n",
      "a'0101'b'1100' (-0.03666247744285777-0.12475357810711603j)\n",
      "a'1001'b'0011' (-0.18902399080686783+0.04224737146877269j)\n",
      "a'1001'b'0101' (-0.23729065471098887+0.12315563974524975j)\n",
      "a'1001'b'1001' (-0.09916145374251192+0.08376813298809514j)\n",
      "a'1001'b'0110' (0.020739865515183926+0.012123166782443087j)\n",
      "a'1001'b'1010' (0.13664404098354194+0.14019472432792468j)\n",
      "a'1001'b'1100' (-0.08806613398400001-0.179144283944386j)\n",
      "a'0110'b'0011' (0.07949512614083817-0.14361108147402885j)\n",
      "a'0110'b'0101' (-0.05541027598720888-0.1821594656963483j)\n",
      "a'0110'b'1001' (-0.09928694859660213-0.04371679566197643j)\n",
      "a'0110'b'0110' (0.13866816981734034+0.03692746767577181j)\n",
      "a'0110'b'1010' (-0.00028911332837705165-0.03711892630937784j)\n",
      "a'0110'b'1100' (0.19022221530911543-0.14628483969100964j)\n",
      "a'1010'b'0011' (0.0002898160494043901-0.0730560448052911j)\n",
      "a'1010'b'0101' (0.04331430181366188+0.04825469804057622j)\n",
      "a'1010'b'1001' (0.12173834243764198+0.2873049677206217j)\n",
      "a'1010'b'0110' (0.024637322462761256+0.04121475759163289j)\n",
      "a'1010'b'1010' (-0.2046004878891521-0.1745405105616686j)\n",
      "a'1010'b'1100' (-0.01497308815104543-0.11592207774527073j)\n",
      "a'1100'b'0011' (-0.07159269931005209+0.03534515230326432j)\n",
      "a'1100'b'0101' (0.04942865094135764-0.09511842913162921j)\n",
      "a'1100'b'1001' (0.14546893921736323-0.1711178236632322j)\n",
      "a'1100'b'0110' (-0.13201822437586347-0.19331120785210051j)\n",
      "a'1100'b'1010' (0.05317124599837731+0.03898778183028263j)\n",
      "a'1100'b'1100' (0.0593704748288922+0.05052121227808381j)\n"
     ]
    }
   ],
   "source": [
    "wfn.print_wfn()"
   ]
  },
  {
   "cell_type": "code",
   "execution_count": 5,
   "metadata": {},
   "outputs": [],
   "source": [
    "initial_state = fqe.to_cirq(wfn)"
   ]
  },
  {
   "cell_type": "code",
   "execution_count": 6,
   "metadata": {},
   "outputs": [
    {
     "name": "stdout",
     "output_type": "stream",
     "text": [
      "Digaonal Hamiltonian\n",
      "-2.0 [0^ 0] +\n",
      "-2.0 [1^ 1] +\n",
      "-0.7 [2^ 2] +\n",
      "-0.7 [3^ 3] +\n",
      "-0.1 [4^ 4] +\n",
      "-0.1 [5^ 5] +\n",
      "0.5 [6^ 6] +\n",
      "0.5 [7^ 7]\n"
     ]
    }
   ],
   "source": [
    "diagonal = FermionOperator('0^ 0', -2.0) + \\\n",
    "           FermionOperator('1^ 1', -2.0) + \\\n",
    "           FermionOperator('2^ 2', -0.7) + \\\n",
    "           FermionOperator('3^ 3', -0.7) + \\\n",
    "           FermionOperator('4^ 4', -0.1) + \\\n",
    "           FermionOperator('5^ 5', -0.1) + \\\n",
    "           FermionOperator('6^ 6', 0.5) + \\\n",
    "           FermionOperator('7^ 7', 0.5)\n",
    "print('Digaonal Hamiltonian')\n",
    "print(diagonal)\n",
    "nqubits = count_qubits(diagonal)"
   ]
  },
  {
   "cell_type": "code",
   "execution_count": 11,
   "metadata": {},
   "outputs": [
    {
     "name": "stdout",
     "output_type": "stream",
     "text": [
      "(-2.3+0j) [] +\n",
      "(1+0j) [Z0] +\n",
      "(1+0j) [Z1] +\n",
      "(0.35+0j) [Z2] +\n",
      "(0.35+0j) [Z3] +\n",
      "(0.05+0j) [Z4] +\n",
      "(0.05+0j) [Z5] +\n",
      "(-0.25+0j) [Z6] +\n",
      "(-0.25+0j) [Z7]\n",
      "\n",
      "\n",
      "()\n",
      "((0, 'Z'),)\n",
      "((1, 'Z'),)\n",
      "((2, 'Z'),)\n",
      "((3, 'Z'),)\n",
      "((4, 'Z'),)\n",
      "((5, 'Z'),)\n",
      "((6, 'Z'),)\n",
      "((7, 'Z'),)\n",
      "()\n",
      "((0, 'Z'),)\n",
      "((1, 'Z'),)\n",
      "((2, 'Z'),)\n",
      "((3, 'Z'),)\n",
      "((4, 'Z'),)\n",
      "((5, 'Z'),)\n",
      "((6, 'Z'),)\n",
      "((7, 'Z'),)\n",
      "()\n",
      "((0, 'Z'),)\n",
      "((1, 'Z'),)\n",
      "((2, 'Z'),)\n",
      "((3, 'Z'),)\n",
      "((4, 'Z'),)\n",
      "((5, 'Z'),)\n",
      "((6, 'Z'),)\n",
      "((7, 'Z'),)\n",
      "()\n",
      "((0, 'Z'),)\n",
      "((1, 'Z'),)\n",
      "((2, 'Z'),)\n",
      "((3, 'Z'),)\n",
      "((4, 'Z'),)\n",
      "((5, 'Z'),)\n",
      "((6, 'Z'),)\n",
      "((7, 'Z'),)\n",
      "\n",
      "\n"
     ]
    },
    {
     "ename": "TypeError",
     "evalue": "'QubitOperator' object is not subscriptable",
     "output_type": "error",
     "traceback": [
      "\u001b[0;31m---------------------------------------------------------------------------\u001b[0m",
      "\u001b[0;31mTypeError\u001b[0m                                 Traceback (most recent call last)",
      "\u001b[0;32m<ipython-input-11-b5f67d8a0d19>\u001b[0m in \u001b[0;36m<module>\u001b[0;34m\u001b[0m\n\u001b[1;32m     13\u001b[0m         \u001b[0mprint\u001b[0m\u001b[0;34m(\u001b[0m\u001b[0mx\u001b[0m\u001b[0;34m)\u001b[0m\u001b[0;34m\u001b[0m\u001b[0;34m\u001b[0m\u001b[0m\n\u001b[1;32m     14\u001b[0m \u001b[0mprint\u001b[0m\u001b[0;34m(\u001b[0m\u001b[0;34m'\\n'\u001b[0m\u001b[0;34m)\u001b[0m\u001b[0;34m\u001b[0m\u001b[0;34m\u001b[0m\u001b[0m\n\u001b[0;32m---> 15\u001b[0;31m \u001b[0mfqe\u001b[0m\u001b[0;34m.\u001b[0m\u001b[0mcirq_utils\u001b[0m\u001b[0;34m.\u001b[0m\u001b[0mqubit_ops_to_circuit\u001b[0m\u001b[0;34m(\u001b[0m\u001b[0mi\u001b[0m\u001b[0;34m,\u001b[0m \u001b[0mqpu\u001b[0m\u001b[0;34m)\u001b[0m\u001b[0;34m\u001b[0m\u001b[0;34m\u001b[0m\u001b[0m\n\u001b[0m\u001b[1;32m     16\u001b[0m \u001b[0mcircuit\u001b[0m \u001b[0;34m=\u001b[0m \u001b[0mfqe\u001b[0m\u001b[0;34m.\u001b[0m\u001b[0mcirq_utils\u001b[0m\u001b[0;34m.\u001b[0m\u001b[0mqubit_ops_to_circuit\u001b[0m\u001b[0;34m(\u001b[0m\u001b[0mjordan_wigner\u001b[0m\u001b[0;34m(\u001b[0m\u001b[0mdiagonal\u001b[0m\u001b[0;34m)\u001b[0m\u001b[0;34m,\u001b[0m \u001b[0mqpu\u001b[0m\u001b[0;34m)\u001b[0m\u001b[0;34m\u001b[0m\u001b[0;34m\u001b[0m\u001b[0m\n\u001b[1;32m     17\u001b[0m \u001b[0;31m#print(circuit)\u001b[0m\u001b[0;34m\u001b[0m\u001b[0;34m\u001b[0m\u001b[0;34m\u001b[0m\u001b[0m\n",
      "\u001b[0;32m~/fqe-env/lib/python3.7/site-packages/fqe-0.0.0.dev1-py3.7.egg/fqe/cirq_utils.py\u001b[0m in \u001b[0;36mqubit_ops_to_circuit\u001b[0;34m(ops, qpu)\u001b[0m\n\u001b[1;32m     44\u001b[0m     \u001b[0mgates\u001b[0m \u001b[0;34m=\u001b[0m \u001b[0;34m[\u001b[0m\u001b[0;34m]\u001b[0m\u001b[0;34m\u001b[0m\u001b[0;34m\u001b[0m\u001b[0m\n\u001b[1;32m     45\u001b[0m     \u001b[0;32mfor\u001b[0m \u001b[0moperation\u001b[0m \u001b[0;32min\u001b[0m \u001b[0mops\u001b[0m\u001b[0;34m:\u001b[0m\u001b[0;34m\u001b[0m\u001b[0;34m\u001b[0m\u001b[0m\n\u001b[0;32m---> 46\u001b[0;31m         \u001b[0mgate_type\u001b[0m \u001b[0;34m=\u001b[0m \u001b[0moperation\u001b[0m\u001b[0;34m[\u001b[0m\u001b[0;36m1\u001b[0m\u001b[0;34m]\u001b[0m\u001b[0;34m\u001b[0m\u001b[0;34m\u001b[0m\u001b[0m\n\u001b[0m\u001b[1;32m     47\u001b[0m         \u001b[0mqubit\u001b[0m \u001b[0;34m=\u001b[0m \u001b[0mqpu\u001b[0m\u001b[0;34m[\u001b[0m\u001b[0moperation\u001b[0m\u001b[0;34m[\u001b[0m\u001b[0;36m0\u001b[0m\u001b[0;34m]\u001b[0m\u001b[0;34m]\u001b[0m\u001b[0;34m\u001b[0m\u001b[0;34m\u001b[0m\u001b[0m\n\u001b[1;32m     48\u001b[0m         \u001b[0mgates\u001b[0m\u001b[0;34m.\u001b[0m\u001b[0mappend\u001b[0m\u001b[0;34m(\u001b[0m\u001b[0mqubit_op_to_gate\u001b[0m\u001b[0;34m(\u001b[0m\u001b[0mgate_type\u001b[0m\u001b[0;34m,\u001b[0m \u001b[0mqubit\u001b[0m\u001b[0;34m)\u001b[0m\u001b[0;34m)\u001b[0m\u001b[0;34m\u001b[0m\u001b[0;34m\u001b[0m\u001b[0m\n",
      "\u001b[0;31mTypeError\u001b[0m: 'QubitOperator' object is not subscriptable"
     ]
    }
   ],
   "source": [
    "qubits = cirq.LineQubit.range(nqubits)\n",
    "jw_ops = jordan_wigner(diagonal)\n",
    "print(jw_ops)\n",
    "print('\\n')\n",
    "time = 3\n",
    "nsteps = 4\n",
    "qpu = cirq.LineQubit.range(nqubits)\n",
    "\n",
    "dt = time / nsteps\n",
    "gen = trotter_operator_grouping(jw_ops, trotter_number=nsteps, k_exp=dt)\n",
    "for i in gen:\n",
    "    for x in i.terms:\n",
    "        print(x)\n",
    "print('\\n')\n",
    "fqe.cirq_utils.qubit_ops_to_circuit(i, qpu)\n",
    "circuit = fqe.cirq_utils.qubit_ops_to_circuit(jordan_wigner(diagonal), qpu)\n",
    "#print(circuit)\n",
    "\n",
    "# Use Cirq simulator to apply circuit.\n",
    "#simulator = cirq.Simulator()\n",
    "#result = simulator.simulate(circuit, qubit_order=qubits, initial_state=initial_state)\n",
    "#simulated_state = result.final_state"
   ]
  },
  {
   "cell_type": "code",
   "execution_count": null,
   "metadata": {},
   "outputs": [],
   "source": []
  }
 ],
 "metadata": {
  "kernelspec": {
   "display_name": "fqe_kernel",
   "language": "python",
   "name": "fqe_kernel"
  },
  "language_info": {
   "codemirror_mode": {
    "name": "ipython",
    "version": 3
   },
   "file_extension": ".py",
   "mimetype": "text/x-python",
   "name": "python",
   "nbconvert_exporter": "python",
   "pygments_lexer": "ipython3",
   "version": "3.7.3"
  }
 },
 "nbformat": 4,
 "nbformat_minor": 2
}
