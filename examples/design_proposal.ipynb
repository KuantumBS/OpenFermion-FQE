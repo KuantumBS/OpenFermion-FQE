{
 "cells": [
  {
   "cell_type": "markdown",
   "metadata": {},
   "source": [
    "# OpenFermion Fermionic Quantum Emulator \n",
    "## Phase I Design Proposal\n",
    "\n",
    "This document outlines the functionality of the API for the OpenFermion Fermionic Quantum Emulator as defined in the design proposal.\n",
    "\n",
    " The code is covered and tested with pytest-cov at 99%. Toggle the print option to see output."
   ]
  },
  {
   "cell_type": "code",
   "execution_count": 1,
   "metadata": {},
   "outputs": [],
   "source": [
    "fqeprint = True"
   ]
  },
  {
   "cell_type": "markdown",
   "metadata": {},
   "source": [
    "### 2.A.2 API for data conversion between OpenFermion's backend and OpenFermion-FQE\n",
    "The API supports data conversion between native Cirq wavefunctions and the FQE wavefunction for arbitrary particle number and spin configuration.  A linequbit wavefunction result is a normalized numpy array."
   ]
  },
  {
   "cell_type": "code",
   "execution_count": 2,
   "metadata": {},
   "outputs": [
    {
     "name": "stdout",
     "output_type": "stream",
     "text": [
      "Inital wavefunction is \n",
      " [0.13021848+0.10604389j 0.26332561+0.24265186j 0.29492744+0.28493664j\n",
      " 0.16027682+0.11131328j 0.28246029+0.23136724j 0.13826045+0.07071791j\n",
      " 0.0136616 +0.20124395j 0.04977281+0.15287608j 0.01397691+0.20703857j\n",
      " 0.23519529+0.0175475j  0.07599475+0.08382844j 0.00162126+0.22461263j\n",
      " 0.20667498+0.05097401j 0.24164648+0.00695315j 0.22218586+0.07588733j\n",
      " 0.29277687+0.08259798j] \n",
      " with norm (1+0j)\n",
      "Sector N = 0 : S_z = 0\n",
      "a'00'b'00' (0.1302184831092495+0.10604388636032029j)\n",
      "Sector N = 1 : S_z = -1\n",
      "a'00'b'01' (0.2824602875439038+0.23136723950216423j)\n",
      "a'00'b'10' (0.26332561335087656+0.24265185521834995j)\n",
      "Sector N = 1 : S_z = 1\n",
      "a'01'b'00' (0.013976909592975447+0.20703856990343883j)\n",
      "a'10'b'00' (0.29492743938955734+0.28493664175385763j)\n",
      "Sector N = 2 : S_z = -2\n",
      "a'00'b'11' (0.13826045473912837+0.07071791419269755j)\n",
      "Sector N = 2 : S_z = 0\n",
      "a'01'b'01' (0.2066749770899652+0.050974011826395334j)\n",
      "a'01'b'10' (0.23519529197839167+0.017547500940564145j)\n",
      "a'10'b'01' (-0.013661600689465217-0.2012439467938738j)\n",
      "a'10'b'10' (0.16027681926045173+0.11131328086242248j)\n",
      "Sector N = 2 : S_z = 2\n",
      "a'11'b'00' (0.0759947496392153+0.08382844453325253j)\n",
      "Sector N = 3 : S_z = -1\n",
      "a'01'b'11' (0.2416464818447311+0.006953154640125172j)\n",
      "a'10'b'11' (-0.04977281213093627-0.1528760837434253j)\n",
      "Sector N = 3 : S_z = 1\n",
      "a'11'b'01' (-0.222185860038206-0.07588732660218613j)\n",
      "a'11'b'10' (0.0016212648925604868+0.22461262965671105j)\n",
      "Sector N = 4 : S_z = 0\n",
      "a'11'b'11' (-0.29277686960426225-0.08259797760540658j)\n"
     ]
    }
   ],
   "source": [
    "import fqe\n",
    "import numpy\n",
    "import cirq\n",
    "\n",
    "nqubit = 4\n",
    "\n",
    "cirq_wfn = numpy.random.rand(2**nqubit).astype(numpy.complex128) + numpy.random.rand(2**nqubit).astype(numpy.complex128)*1.j\n",
    "norm = numpy.sqrt(numpy.vdot(cirq_wfn, cirq_wfn))\n",
    "numpy.divide(cirq_wfn, norm, out=cirq_wfn)\n",
    "wfn_from_cirq = fqe.from_cirq(cirq_wfn, 0.0001)\n",
    "\n",
    "if fqeprint:\n",
    "    print('Inital wavefunction is \\n {} \\n with norm {}'.format(cirq_wfn, numpy.vdot(cirq_wfn, cirq_wfn)))\n",
    "    wfn_from_cirq.print_wfn()"
   ]
  },
  {
   "cell_type": "markdown",
   "metadata": {},
   "source": [
    "### 2.A.3 Initialization of wave functions\n",
    "FQE wave functions can be initialized by calling the constructor directly. fqe.get_wavefunction and get_wavefunction_mutltiple are utility wrappers that provide wrappers for common initialization motifs. e.g. get_spin_nonconserving_wavefunction will build a wavefunction that permits spin breaking Operators to be applied while get_wavefunction_multiple will return a list of initialize wavefunctions"
   ]
  },
  {
   "cell_type": "code",
   "execution_count": 3,
   "metadata": {},
   "outputs": [],
   "source": [
    "wfFqe = fqe.Wavefunction([[4, -2, 10]], broken=None)\n",
    "wfFqe = fqe.get_wavefunction(4, -2, 10)"
   ]
  },
  {
   "cell_type": "code",
   "execution_count": 4,
   "metadata": {},
   "outputs": [],
   "source": [
    "n = 3\n",
    "m = -2\n",
    "wfFQE = fqe.Wavefunction([[n, m, 10], [n+1, m+2, 10]], broken=None)\n",
    "wfFQE = fqe.get_wavefunction_multiple([[4, 0, 10], [5, -5, 10]])"
   ]
  },
  {
   "cell_type": "code",
   "execution_count": 5,
   "metadata": {},
   "outputs": [
    {
     "name": "stdout",
     "output_type": "stream",
     "text": [
      "Sector N = 2 : S_z = -2\n",
      "a'0000'b'0011' (0.22997775343026733+0.08615295784881312j)\n",
      "a'0000'b'0101' (0.05516335203892644-0.46076275890197155j)\n",
      "a'0000'b'1001' (0.2589715413729897-0.24055433543776833j)\n",
      "a'0000'b'0110' (-0.08893603209627304-0.2056697723402523j)\n",
      "a'0000'b'1010' (-0.5762638511993537-0.13426846293402575j)\n",
      "a'0000'b'1100' (-0.046221179772583165-0.4437970493210447j)\n",
      "Sector N = 2 : S_z = 0\n",
      "a'0001'b'0001' (-0.2009463741491089+0.30702328278202784j)\n",
      "a'0001'b'0010' (0.08055742138713175-0.27625908617663925j)\n",
      "a'0001'b'0100' (-0.041261242667836505+0.343476586718014j)\n",
      "a'0001'b'1000' (-0.08156556195302686-0.003425730152197814j)\n",
      "a'0010'b'0001' (-0.04267181440534871+0.388798782448254j)\n",
      "a'0010'b'0010' (0.1100960127727151-0.3188534929164057j)\n",
      "a'0010'b'0100' (-0.2012398314866085-0.036134076630434914j)\n",
      "a'0010'b'1000' (-0.04528159948796421-0.06986238599874375j)\n",
      "a'0100'b'0001' (-0.0227584011700199-0.18576559249370736j)\n",
      "a'0100'b'0010' (0.07097346928252087-0.1346627873998385j)\n",
      "a'0100'b'0100' (-0.24044589692997007+0.12988691397861515j)\n",
      "a'0100'b'1000' (-0.31617537682311553+0.08034886037128369j)\n",
      "a'1000'b'0001' (-0.059954565065841584+0.07526265514074348j)\n",
      "a'1000'b'0010' (0.09672762511545702+0.12611978701341803j)\n",
      "a'1000'b'0100' (0.12444135624036166-0.1862509046861178j)\n",
      "a'1000'b'1000' (0.09810893299656119-0.08407946507844098j)\n",
      "Sector N = 2 : S_z = 2\n",
      "a'0011'b'0000' (0.6603783660441279+0.0061799250926591045j)\n",
      "a'0101'b'0000' (-0.07913053966787116-0.2623644727153661j)\n",
      "a'1001'b'0000' (-0.48624640150511234-0.14349749925442654j)\n",
      "a'0110'b'0000' (0.36086088491157-0.24471618722518212j)\n",
      "a'1010'b'0000' (0.031083292581479717-0.11176975747489276j)\n",
      "a'1100'b'0000' (-0.09638641711691276+0.13741465114361676j)\n"
     ]
    }
   ],
   "source": [
    "wfFQE = fqe.get_number_conserving_wavefunction(2, 4)\n",
    "wfFQE.set_wfn(strategy='random')\n",
    "if fqeprint:\n",
    "    wfFQE.print_wfn()"
   ]
  },
  {
   "cell_type": "markdown",
   "metadata": {},
   "source": [
    "### 2.A.4 Element access\n",
    "\n",
    "Element access is modified from the original propsal to add more convient getter and setter functionalities.  The orginally proposed methods are availible with an addition function to add a value to an existing element."
   ]
  },
  {
   "cell_type": "code",
   "execution_count": 6,
   "metadata": {},
   "outputs": [
    {
     "name": "stdout",
     "output_type": "stream",
     "text": [
      "(3.14159265359-0j)\n"
     ]
    }
   ],
   "source": [
    "wfFQE[(1, 8)] = .14159265359j\n",
    "wfFQE[(1, 8)] += 3.j\n",
    "imaginary_pi = wfFQE[(1, 8)]\n",
    "if fqeprint:\n",
    "    print(-imaginary_pi*1.j)"
   ]
  },
  {
   "cell_type": "markdown",
   "metadata": {},
   "source": [
    "The new components not originally in the proposal allow access of entire vectors for getting and setting methods."
   ]
  },
  {
   "cell_type": "code",
   "execution_count": 7,
   "metadata": {},
   "outputs": [
    {
     "name": "stdout",
     "output_type": "stream",
     "text": [
      "[[ 0.20667498+0.05097401j  0.23519529+0.0175475j ]\n",
      " [-0.0136616 -0.20124395j  0.16027682+0.11131328j]]\n"
     ]
    }
   ],
   "source": [
    "interesting_states = wfn_from_cirq.get_coeff((2, 0))\n",
    "if fqeprint:\n",
    "    print(interesting_states)"
   ]
  },
  {
   "cell_type": "code",
   "execution_count": 8,
   "metadata": {},
   "outputs": [
    {
     "name": "stdout",
     "output_type": "stream",
     "text": [
      "[[ 0.15996469-0.02632068j  0.89990095-0.28827534j]\n",
      " [-0.0699363 -0.13677228j  0.87558776-0.20016375j]]\n"
     ]
    }
   ],
   "source": [
    "interesting_states[:, 1] += 1. + .1j\n",
    "interesting_states *= .7 - .3j\n",
    "if fqeprint:\n",
    "    print(interesting_states)"
   ]
  },
  {
   "cell_type": "code",
   "execution_count": 9,
   "metadata": {},
   "outputs": [
    {
     "name": "stdout",
     "output_type": "stream",
     "text": [
      "Sector N = 0 : S_z = 0\n",
      "a'00'b'00' (0.1302184831092495+0.10604388636032029j)\n",
      "Sector N = 1 : S_z = -1\n",
      "a'00'b'01' (0.2824602875439038+0.23136723950216423j)\n",
      "a'00'b'10' (0.26332561335087656+0.24265185521834995j)\n",
      "Sector N = 1 : S_z = 1\n",
      "a'01'b'00' (0.013976909592975447+0.20703856990343883j)\n",
      "a'10'b'00' (0.29492743938955734+0.28493664175385763j)\n",
      "Sector N = 2 : S_z = -2\n",
      "a'00'b'11' (0.13826045473912837+0.07071791419269755j)\n",
      "Sector N = 2 : S_z = 0\n",
      "a'01'b'01' (0.15996468751089424-0.026320684848512833j)\n",
      "a'01'b'10' (0.8999009546670435-0.28827533693512264j)\n",
      "a'10'b'01' (-0.06993630452078779-0.13677228254887208j)\n",
      "a'10'b'10' (0.875587757741043-0.2001637491744398j)\n",
      "Sector N = 2 : S_z = 2\n",
      "a'11'b'00' (0.0759947496392153+0.08382844453325253j)\n",
      "Sector N = 3 : S_z = -1\n",
      "a'01'b'11' (0.2416464818447311+0.006953154640125172j)\n",
      "a'10'b'11' (-0.04977281213093627-0.1528760837434253j)\n",
      "Sector N = 3 : S_z = 1\n",
      "a'11'b'01' (-0.222185860038206-0.07588732660218613j)\n",
      "a'11'b'10' (0.0016212648925604868+0.22461262965671105j)\n",
      "Sector N = 4 : S_z = 0\n",
      "a'11'b'11' (-0.29277686960426225-0.08259797760540658j)\n"
     ]
    }
   ],
   "source": [
    "data = {}\n",
    "data[(2, 0)] = interesting_states\n",
    "wfn_from_cirq.set_wfn(strategy='from_data', raw_data=data)\n",
    "if fqeprint:\n",
    "    wfn_from_cirq.print_wfn()"
   ]
  },
  {
   "cell_type": "markdown",
   "metadata": {},
   "source": [
    "### 2.A.5 Printing/Saving\n",
    "\n",
    "Printing is currently availible as alpha beta strings followed by the coefficient as well as orbital occupation representation."
   ]
  },
  {
   "cell_type": "code",
   "execution_count": 10,
   "metadata": {},
   "outputs": [
    {
     "name": "stdout",
     "output_type": "stream",
     "text": [
      "String forrmatting\n",
      "Sector N = 0 : S_z = 0\n",
      "a'00'b'00' (0.1302184831092495+0.10604388636032029j)\n",
      "Sector N = 1 : S_z = -1\n",
      "a'00'b'01' (0.2824602875439038+0.23136723950216423j)\n",
      "a'00'b'10' (0.26332561335087656+0.24265185521834995j)\n",
      "Sector N = 1 : S_z = 1\n",
      "a'01'b'00' (0.013976909592975447+0.20703856990343883j)\n",
      "a'10'b'00' (0.29492743938955734+0.28493664175385763j)\n",
      "Sector N = 2 : S_z = -2\n",
      "a'00'b'11' (0.13826045473912837+0.07071791419269755j)\n",
      "Sector N = 2 : S_z = 0\n",
      "a'01'b'01' (0.15996468751089424-0.026320684848512833j)\n",
      "a'01'b'10' (0.8999009546670435-0.28827533693512264j)\n",
      "a'10'b'01' (-0.06993630452078779-0.13677228254887208j)\n",
      "a'10'b'10' (0.875587757741043-0.2001637491744398j)\n",
      "Sector N = 2 : S_z = 2\n",
      "a'11'b'00' (0.0759947496392153+0.08382844453325253j)\n",
      "Sector N = 3 : S_z = -1\n",
      "a'01'b'11' (0.2416464818447311+0.006953154640125172j)\n",
      "a'10'b'11' (-0.04977281213093627-0.1528760837434253j)\n",
      "Sector N = 3 : S_z = 1\n",
      "a'11'b'01' (-0.222185860038206-0.07588732660218613j)\n",
      "a'11'b'10' (0.0016212648925604868+0.22461262965671105j)\n",
      "Sector N = 4 : S_z = 0\n",
      "a'11'b'11' (-0.29277686960426225-0.08259797760540658j)\n",
      "\n",
      " Occupation forrmatting\n",
      "Sector N = 0 : S_z = 0\n",
      ".. (0.1302184831092495+0.10604388636032029j)\n",
      "Sector N = 1 : S_z = -1\n",
      ".b (0.2824602875439038+0.23136723950216423j)\n",
      "b. (0.26332561335087656+0.24265185521834995j)\n",
      "Sector N = 1 : S_z = 1\n",
      ".a (0.013976909592975447+0.20703856990343883j)\n",
      "a. (0.29492743938955734+0.28493664175385763j)\n",
      "Sector N = 2 : S_z = -2\n",
      "bb (0.13826045473912837+0.07071791419269755j)\n",
      "Sector N = 2 : S_z = 0\n",
      ".2 (0.15996468751089424-0.026320684848512833j)\n",
      "ba (0.8999009546670435-0.28827533693512264j)\n",
      "ab (-0.06993630452078779-0.13677228254887208j)\n",
      "2. (0.875587757741043-0.2001637491744398j)\n",
      "Sector N = 2 : S_z = 2\n",
      "aa (0.0759947496392153+0.08382844453325253j)\n",
      "Sector N = 3 : S_z = -1\n",
      "b2 (0.2416464818447311+0.006953154640125172j)\n",
      "2b (-0.04977281213093627-0.1528760837434253j)\n",
      "Sector N = 3 : S_z = 1\n",
      "a2 (-0.222185860038206-0.07588732660218613j)\n",
      "2a (0.0016212648925604868+0.22461262965671105j)\n",
      "Sector N = 4 : S_z = 0\n",
      "22 (-0.29277686960426225-0.08259797760540658j)\n"
     ]
    }
   ],
   "source": [
    "print('String forrmatting')\n",
    "wfn_from_cirq.print_wfn(fmt='str')\n",
    "print('\\n Occupation forrmatting')\n",
    "wfn_from_cirq.print_wfn(fmt='occ')"
   ]
  },
  {
   "cell_type": "markdown",
   "metadata": {},
   "source": [
    "### 2.A.6 Fermionic algebra operations and their unitaries on the state\n",
    "\n",
    "FermionOperators can be directly passed in to create a newwavefunction based on application of the operators."
   ]
  },
  {
   "cell_type": "code",
   "execution_count": 11,
   "metadata": {},
   "outputs": [
    {
     "ename": "AssertionError",
     "evalue": "",
     "output_type": "error",
     "traceback": [
      "\u001b[0;31m---------------------------------------------------------------------------\u001b[0m",
      "\u001b[0;31mAssertionError\u001b[0m                            Traceback (most recent call last)",
      "\u001b[0;32m<ipython-input-11-89c1e32aa03d>\u001b[0m in \u001b[0;36m<module>\u001b[0;34m\u001b[0m\n\u001b[1;32m      1\u001b[0m \u001b[0;32mfrom\u001b[0m \u001b[0mopenfermion\u001b[0m \u001b[0;32mimport\u001b[0m \u001b[0mFermionOperator\u001b[0m\u001b[0;34m\u001b[0m\u001b[0;34m\u001b[0m\u001b[0m\n\u001b[1;32m      2\u001b[0m \u001b[0mops\u001b[0m \u001b[0;34m=\u001b[0m \u001b[0mFermionOperator\u001b[0m\u001b[0;34m(\u001b[0m\u001b[0;34m'2^ 0'\u001b[0m\u001b[0;34m,\u001b[0m \u001b[0;36m1.2\u001b[0m\u001b[0;34m)\u001b[0m\u001b[0;34m\u001b[0m\u001b[0;34m\u001b[0m\u001b[0m\n\u001b[0;32m----> 3\u001b[0;31m \u001b[0mnew_wfn\u001b[0m \u001b[0;34m=\u001b[0m \u001b[0mwfn_from_cirq\u001b[0m\u001b[0;34m.\u001b[0m\u001b[0mapply\u001b[0m\u001b[0;34m(\u001b[0m\u001b[0mops\u001b[0m\u001b[0;34m)\u001b[0m\u001b[0;34m\u001b[0m\u001b[0;34m\u001b[0m\u001b[0m\n\u001b[0m",
      "\u001b[0;32m~/opt/OpenFermion-FQE/src/fqe/fqe_decorators.py\u001b[0m in \u001b[0;36mconvert\u001b[0;34m(self, ops)\u001b[0m\n\u001b[1;32m    338\u001b[0m             \u001b[0mops\u001b[0m \u001b[0;34m(\u001b[0m\u001b[0mFermionOperator\u001b[0m \u001b[0;32mor\u001b[0m \u001b[0mHamiltonian\u001b[0m\u001b[0;34m)\u001b[0m \u001b[0;34m-\u001b[0m \u001b[0minput\u001b[0m \u001b[0moperator\u001b[0m\u001b[0;34m\u001b[0m\u001b[0;34m\u001b[0m\u001b[0m\n\u001b[1;32m    339\u001b[0m         \"\"\"\n\u001b[0;32m--> 340\u001b[0;31m         \u001b[0mhamil\u001b[0m \u001b[0;34m=\u001b[0m \u001b[0mbuild_hamiltonian\u001b[0m\u001b[0;34m(\u001b[0m\u001b[0mops\u001b[0m\u001b[0;34m,\u001b[0m \u001b[0mconserve_number\u001b[0m\u001b[0;34m=\u001b[0m\u001b[0mself\u001b[0m\u001b[0;34m.\u001b[0m\u001b[0mconserve_number\u001b[0m\u001b[0;34m(\u001b[0m\u001b[0;34m)\u001b[0m\u001b[0;34m)\u001b[0m\u001b[0;34m\u001b[0m\u001b[0;34m\u001b[0m\u001b[0m\n\u001b[0m\u001b[1;32m    341\u001b[0m         \u001b[0;32mreturn\u001b[0m \u001b[0mapply\u001b[0m\u001b[0;34m(\u001b[0m\u001b[0mself\u001b[0m\u001b[0;34m,\u001b[0m \u001b[0mhamil\u001b[0m\u001b[0;34m)\u001b[0m\u001b[0;34m\u001b[0m\u001b[0;34m\u001b[0m\u001b[0m\n\u001b[1;32m    342\u001b[0m     \u001b[0;32mreturn\u001b[0m \u001b[0mconvert\u001b[0m\u001b[0;34m\u001b[0m\u001b[0;34m\u001b[0m\u001b[0m\n",
      "\u001b[0;32m~/opt/OpenFermion-FQE/src/fqe/fqe_decorators.py\u001b[0m in \u001b[0;36mbuild_hamiltonian\u001b[0;34m(ops, norb, conserve_number, e_0)\u001b[0m\n\u001b[1;32m     73\u001b[0m                         ' but received {}.'.format(type(ops)))\n\u001b[1;32m     74\u001b[0m \u001b[0;34m\u001b[0m\u001b[0m\n\u001b[0;32m---> 75\u001b[0;31m     \u001b[0;32massert\u001b[0m \u001b[0mis_hermitian\u001b[0m\u001b[0;34m(\u001b[0m\u001b[0mops\u001b[0m\u001b[0;34m)\u001b[0m\u001b[0;34m\u001b[0m\u001b[0;34m\u001b[0m\u001b[0m\n\u001b[0m\u001b[1;32m     76\u001b[0m \u001b[0;34m\u001b[0m\u001b[0m\n\u001b[1;32m     77\u001b[0m     \u001b[0;32mif\u001b[0m \u001b[0mlen\u001b[0m\u001b[0;34m(\u001b[0m\u001b[0mops\u001b[0m\u001b[0;34m.\u001b[0m\u001b[0mterms\u001b[0m\u001b[0;34m)\u001b[0m \u001b[0;34m<=\u001b[0m \u001b[0;36m2\u001b[0m\u001b[0;34m:\u001b[0m\u001b[0;34m\u001b[0m\u001b[0;34m\u001b[0m\u001b[0m\n",
      "\u001b[0;31mAssertionError\u001b[0m: "
     ]
    }
   ],
   "source": [
    "from openfermion import FermionOperator\n",
    "ops = FermionOperator('2^ 0', 1.2)\n",
    "new_wfn = wfn_from_cirq.apply(ops)"
   ]
  },
  {
   "cell_type": "code",
   "execution_count": 12,
   "metadata": {},
   "outputs": [
    {
     "name": "stdout",
     "output_type": "stream",
     "text": [
      "Sector N = 2 : S_z = -2\n",
      "a'0000'b'0011' (0.22997775343026733+0.08615295784881312j)\n",
      "a'0000'b'0101' (0.05516335203892644-0.46076275890197155j)\n",
      "a'0000'b'1001' (0.2589715413729897-0.24055433543776833j)\n",
      "a'0000'b'0110' (-0.08893603209627304-0.2056697723402523j)\n",
      "a'0000'b'1010' (-0.5762638511993537-0.13426846293402575j)\n",
      "a'0000'b'1100' (-0.046221179772583165-0.4437970493210447j)\n",
      "Sector N = 2 : S_z = 0\n",
      "a'0001'b'0001' (-0.2009463741491089+0.30702328278202784j)\n",
      "a'0001'b'0010' (0.08055742138713175-0.27625908617663925j)\n",
      "a'0001'b'0100' (-0.041261242667836505+0.343476586718014j)\n",
      "a'0001'b'1000' 3.14159265359j\n",
      "a'0010'b'0001' (-0.04267181440534871+0.388798782448254j)\n",
      "a'0010'b'0010' (0.1100960127727151-0.3188534929164057j)\n",
      "a'0010'b'0100' (-0.2012398314866085-0.036134076630434914j)\n",
      "a'0010'b'1000' (-0.04528159948796421-0.06986238599874375j)\n",
      "a'0100'b'0001' (-0.0227584011700199-0.18576559249370736j)\n",
      "a'0100'b'0010' (0.07097346928252087-0.1346627873998385j)\n",
      "a'0100'b'0100' (-0.24044589692997007+0.12988691397861515j)\n",
      "a'0100'b'1000' (-0.31617537682311553+0.08034886037128369j)\n",
      "a'1000'b'0001' (-0.059954565065841584+0.07526265514074348j)\n",
      "a'1000'b'0010' (0.09672762511545702+0.12611978701341803j)\n",
      "a'1000'b'0100' (0.12444135624036166-0.1862509046861178j)\n",
      "a'1000'b'1000' (0.09810893299656119-0.08407946507844098j)\n",
      "Sector N = 2 : S_z = 2\n",
      "a'0011'b'0000' (0.6603783660441279+0.0061799250926591045j)\n",
      "a'0101'b'0000' (-0.07913053966787116-0.2623644727153661j)\n",
      "a'1001'b'0000' (-0.48624640150511234-0.14349749925442654j)\n",
      "a'0110'b'0000' (0.36086088491157-0.24471618722518212j)\n",
      "a'1010'b'0000' (0.031083292581479717-0.11176975747489276j)\n",
      "a'1100'b'0000' (-0.09638641711691276+0.13741465114361676j)\n",
      "Sector N = 2 : S_z = -2\n",
      "Sector N = 2 : S_z = 0\n",
      "a'0001'b'0001' (-0.2009463741491089+0.30702328278202784j)\n",
      "a'0001'b'0010' (0.08055742138713175-0.27625908617663925j)\n",
      "a'0001'b'0100' (-0.041261242667836505+0.343476586718014j)\n",
      "a'0001'b'1000' 3.14159265359j\n",
      "Sector N = 2 : S_z = 2\n",
      "a'0011'b'0000' (0.6603783660441279+0.0061799250926591045j)\n",
      "a'0101'b'0000' (-0.07913053966787116-0.2623644727153661j)\n",
      "a'1001'b'0000' (-0.48624640150511234-0.14349749925442654j)\n"
     ]
    }
   ],
   "source": [
    "new_wfn = fqe.apply(FermionOperator('0^ 0', 1.0), wfFQE)\n",
    "if fqeprint:\n",
    "    wfFQE.print_wfn()\n",
    "    new_wfn.print_wfn()"
   ]
  },
  {
   "cell_type": "markdown",
   "metadata": {},
   "source": [
    "The fqe has vdot functionality to get an inner product and provides a way to do completely general expectation values."
   ]
  },
  {
   "cell_type": "code",
   "execution_count": 13,
   "metadata": {},
   "outputs": [
    {
     "name": "stdout",
     "output_type": "stream",
     "text": [
      "(0.47760569728890356+0j)\n"
     ]
    }
   ],
   "source": [
    "ops = FermionOperator('2^ 2', 0.5)\n",
    "opexpec = fqe.vdot(wfFQE, wfFQE.apply(ops))\n",
    "if fqeprint:\n",
    "    print(opexpec)"
   ]
  },
  {
   "cell_type": "code",
   "execution_count": 14,
   "metadata": {},
   "outputs": [
    {
     "name": "stdout",
     "output_type": "stream",
     "text": [
      "(0.47760569728890356+0j)\n"
     ]
    }
   ],
   "source": [
    "ops = FermionOperator('2^ 2', 0.5)\n",
    "opexpec = fqe.vdot(wfFQE, fqe.apply(ops, wfFQE))\n",
    "if fqeprint:\n",
    "    print(opexpec)"
   ]
  },
  {
   "cell_type": "markdown",
   "metadata": {},
   "source": [
    "We can also do general unitary application of operators.  One slight modification to the proposal is that the operator passed in should Hermetian and not anti-Hermitian as stated before."
   ]
  },
  {
   "cell_type": "code",
   "execution_count": 15,
   "metadata": {},
   "outputs": [
    {
     "name": "stdout",
     "output_type": "stream",
     "text": [
      "Sector N = 2 : S_z = -2\n",
      "a'0000'b'0011' (0.22997775343026733+0.08615295784881312j)\n",
      "a'0000'b'0101' (0.05516335203892644-0.46076275890197155j)\n",
      "a'0000'b'1001' (0.2589715413729897-0.24055433543776833j)\n",
      "a'0000'b'0110' (-0.08893603209627304-0.2056697723402523j)\n",
      "a'0000'b'1010' (-0.5762638511993537-0.13426846293402575j)\n",
      "a'0000'b'1100' (-0.046221179772583165-0.4437970493210447j)\n",
      "Sector N = 2 : S_z = 0\n",
      "a'0001'b'0001' (-0.2009463741491089+0.30702328278202784j)\n",
      "a'0001'b'0010' (0.08055742138713175-0.27625908617663925j)\n",
      "a'0001'b'0100' (-0.041261242667836505+0.343476586718014j)\n",
      "a'0001'b'1000' 3.14159265359j\n",
      "a'0010'b'0001' (-0.04267181440534871+0.388798782448254j)\n",
      "a'0010'b'0010' (0.1100960127727151-0.3188534929164057j)\n",
      "a'0010'b'0100' (-0.2012398314866085-0.036134076630434914j)\n",
      "a'0010'b'1000' (-0.04528159948796421-0.06986238599874375j)\n",
      "a'0100'b'0001' (-0.0227584011700199-0.18576559249370736j)\n",
      "a'0100'b'0010' (0.07097346928252087-0.1346627873998385j)\n",
      "a'0100'b'0100' (-0.24044589692997007+0.12988691397861515j)\n",
      "a'0100'b'1000' (-0.31617537682311553+0.08034886037128369j)\n",
      "a'1000'b'0001' (-0.059954565065841584+0.07526265514074348j)\n",
      "a'1000'b'0010' (0.09672762511545702+0.12611978701341803j)\n",
      "a'1000'b'0100' (0.12444135624036166-0.1862509046861178j)\n",
      "a'1000'b'1000' (0.09810893299656119-0.08407946507844098j)\n",
      "Sector N = 2 : S_z = 2\n",
      "a'0011'b'0000' (0.6603783660441279+0.0061799250926591045j)\n",
      "a'0101'b'0000' (-0.07913053966787116-0.2623644727153661j)\n",
      "a'1001'b'0000' (-0.48624640150511234-0.14349749925442654j)\n",
      "a'0110'b'0000' (0.36086088491157-0.24471618722518212j)\n",
      "a'1010'b'0000' (0.031083292581479717-0.11176975747489276j)\n",
      "a'1100'b'0000' (-0.09638641711691276+0.13741465114361676j)\n",
      "Sector N = 2 : S_z = -2\n",
      "a'0000'b'0011' (0.22997775343026733+0.08615295784881312j)\n",
      "a'0000'b'0101' (0.05516335203892644-0.46076275890197155j)\n",
      "a'0000'b'1001' (0.2589715413729897-0.24055433543776833j)\n",
      "a'0000'b'0110' (-0.08893603209627304-0.2056697723402523j)\n",
      "a'0000'b'1010' (-0.5762638511993537-0.13426846293402575j)\n",
      "a'0000'b'1100' (-0.046221179772583165-0.4437970493210447j)\n",
      "Sector N = 2 : S_z = 0\n",
      "a'0001'b'0001' (-0.20088140287683412+0.3071484368204181j)\n",
      "a'0001'b'0010' (0.08052667425681402-0.27637674346767865j)\n",
      "a'0001'b'0100' (-0.04132883874916318+0.3435059721347071j)\n",
      "a'0001'b'1000' (-2.7556956449070614e-05+3.1415805469908356j)\n",
      "a'0010'b'0001' (-0.04255012306551625+0.38874683946745353j)\n",
      "a'0010'b'0010' (0.11001658657454362-0.3187867059507999j)\n",
      "a'0010'b'0100' (-0.20115874471763223-0.036228865007147996j)\n",
      "a'0010'b'1000' (-0.044653278027555844-0.07080485923334537j)\n",
      "a'0100'b'0001' (-0.0227584011700199-0.18576559249370736j)\n",
      "a'0100'b'0010' (0.07097346928252087-0.1346627873998385j)\n",
      "a'0100'b'0100' (-0.24044589692997007+0.12988691397861515j)\n",
      "a'0100'b'1000' (-0.31617537682311553+0.08034886037128369j)\n",
      "a'1000'b'0001' (-0.059954565065841584+0.07526265514074348j)\n",
      "a'1000'b'0010' (0.09672762511545702+0.12611978701341803j)\n",
      "a'1000'b'0100' (0.12444135624036166-0.1862509046861178j)\n",
      "a'1000'b'1000' (0.09810893299656119-0.08407946507844098j)\n",
      "Sector N = 2 : S_z = 2\n",
      "a'0011'b'0000' (0.6603783660441279+0.0061799250926591045j)\n",
      "a'0101'b'0000' (-0.07907121949764286-0.26251004269167105j)\n",
      "a'1001'b'0000' (-0.48625939886253483-0.14353723751198674j)\n",
      "a'0110'b'0000' (0.3608321277235926-0.24462163587093022j)\n",
      "a'1010'b'0000' (0.031200464979127592-0.11162945168282105j)\n",
      "a'1100'b'0000' (-0.09638641711691276+0.13741465114361676j)\n",
      "Sector N = 2 : S_z = -2\n",
      "a'0000'b'0011' (0.22997775343026733+0.08615295784881312j)\n",
      "a'0000'b'0101' (0.05516335203892644-0.46076275890197155j)\n",
      "a'0000'b'1001' (0.2589715413729897-0.24055433543776833j)\n",
      "a'0000'b'0110' (-0.08893603209627304-0.2056697723402523j)\n",
      "a'0000'b'1010' (-0.5762638511993537-0.13426846293402575j)\n",
      "a'0000'b'1100' (-0.046221179772583165-0.4437970493210447j)\n",
      "Sector N = 2 : S_z = 0\n",
      "a'0001'b'0001' (-0.20088140287683412+0.3071484368204181j)\n",
      "a'0001'b'0010' (0.08052667425681402-0.27637674346767865j)\n",
      "a'0001'b'0100' (-0.04132883874916318+0.3435059721347071j)\n",
      "a'0001'b'1000' (-2.7556956449070614e-05+3.1415805469908356j)\n",
      "a'0010'b'0001' (-0.04255012306551625+0.38874683946745353j)\n",
      "a'0010'b'0010' (0.11001658657454362-0.3187867059507999j)\n",
      "a'0010'b'0100' (-0.20115874471763223-0.036228865007147996j)\n",
      "a'0010'b'1000' (-0.044653278027555844-0.07080485923334537j)\n",
      "a'0100'b'0001' (-0.0227584011700199-0.18576559249370736j)\n",
      "a'0100'b'0010' (0.07097346928252087-0.1346627873998385j)\n",
      "a'0100'b'0100' (-0.24044589692997007+0.12988691397861515j)\n",
      "a'0100'b'1000' (-0.31617537682311553+0.08034886037128369j)\n",
      "a'1000'b'0001' (-0.059954565065841584+0.07526265514074348j)\n",
      "a'1000'b'0010' (0.09672762511545702+0.12611978701341803j)\n",
      "a'1000'b'0100' (0.12444135624036166-0.1862509046861178j)\n",
      "a'1000'b'1000' (0.09810893299656119-0.08407946507844098j)\n",
      "Sector N = 2 : S_z = 2\n",
      "a'0011'b'0000' (0.6603783660441279+0.0061799250926591045j)\n",
      "a'0101'b'0000' (-0.07907121949764286-0.26251004269167105j)\n",
      "a'1001'b'0000' (-0.48625939886253483-0.14353723751198674j)\n",
      "a'0110'b'0000' (0.3608321277235926-0.24462163587093022j)\n",
      "a'1010'b'0000' (0.031200464979127592-0.11162945168282105j)\n",
      "a'1100'b'0000' (-0.09638641711691276+0.13741465114361676j)\n"
     ]
    }
   ],
   "source": [
    "ops = FermionOperator('2^ 0', 0.2 - .3j) + FermionOperator('0^ 2', 0.2 + .3j)\n",
    "wfFQE.print_wfn()\n",
    "wfFQE2 = wfFQE.apply_generated_unitary(0.001, 'taylor', ops)\n",
    "wfFQE2.print_wfn()\n",
    "ops = FermionOperator('2^ 0', 0.2 - .3j) + FermionOperator('0^ 2', 0.2 + .3j)\n",
    "wfFQE2 = fqe.apply_generated_unitary(wfFQE, 0.001, 'taylor', ops)\n",
    "wfFQE2.print_wfn()"
   ]
  },
  {
   "cell_type": "markdown",
   "metadata": {},
   "source": [
    "### 3.B.1 Hamiltonian data structure\n",
    "\n",
    "Hamiltonians can be incorporated from OpenFermion objects or initialized from numpy arrays."
   ]
  },
  {
   "cell_type": "code",
   "execution_count": 16,
   "metadata": {},
   "outputs": [],
   "source": [
    "from openfermion import get_quadratic_hamiltonian\n",
    "ops = FermionOperator((), 1.) + FermionOperator('1^ 1', 3.) + FermionOperator('1^ 2', 3. + 4.j) + FermionOperator('2^ 1', 3. - 4.j) + FermionOperator('3^ 4', 2. + 5.j) + FermionOperator('4^ 3', 2. - 5.j)\n",
    "#hamOF = get_quadratic_hamiltonian(ops, -0.03)\n",
    "hamFQE = fqe.get_hamiltonian_from_openfermion(ops, e_0=-0.03)\n",
    "#hamFQE = fqe.get_quadratic_hamiltonian(ops, -0.03)"
   ]
  },
  {
   "cell_type": "markdown",
   "metadata": {},
   "source": [
    "Symmetry is passed in by lists containing permutation operations, a phase and whether or not complex conjugation is used.  Below are examples of a Hermetian matrix and a real anti-symmetric matrix."
   ]
  },
  {
   "cell_type": "code",
   "execution_count": 17,
   "metadata": {},
   "outputs": [],
   "source": [
    "if False:\n",
    "    e = 1.0\n",
    "    t = numpy.random.rand(4, 4) + numpy.random.rand(4, 4)*1.j\n",
    "    h = t + numpy.conjugate(t.T)\n",
    "    symmh = [\n",
    "        [[1, 2], 1.0, False],\n",
    "        [[2, 1], 1.0, True]\n",
    "    ]\n",
    "    t = numpy.random.rand(4, 4, 4, 4)\n",
    "    g = t - t.T\n",
    "    symmg = [\n",
    "        [[1, 2, 3, 4], 1.0, True],\n",
    "        [[4, 3, 2, 1], -1.0, True]\n",
    "    ]\n",
    "    hamFQE = fqe.get_two_body_hamiltonian(-0.3, h, g, 0.0, symmh, symmg)"
   ]
  },
  {
   "cell_type": "markdown",
   "metadata": {},
   "source": [
    "The FQE will also return PolynomialTensor objects for parsing by OpenFermion objects."
   ]
  },
  {
   "cell_type": "code",
   "execution_count": 18,
   "metadata": {},
   "outputs": [],
   "source": [
    "#hamOF = fqe.hamiltonian_to_openfermion(hamFQE)"
   ]
  },
  {
   "cell_type": "markdown",
   "metadata": {},
   "source": [
    "### Saving and Loading Wavefunctions\n",
    "\n",
    "Saving or loading a wavefunction is accomplished by passing a file name to the API and optionally a path to that filename.  If no path is given, the current working directory will be used.  If a path is used, the file will be searched for as\n",
    "\n",
    "path + '/' + filename"
   ]
  },
  {
   "cell_type": "code",
   "execution_count": 19,
   "metadata": {},
   "outputs": [
    {
     "name": "stdout",
     "output_type": "stream",
     "text": [
      "Sector N = 2 : S_z = -2\n",
      "a'00'b'11' (0.9830583946266548-0.18329264238933415j)\n",
      "Sector N = 2 : S_z = 0\n",
      "a'01'b'01' (0.5666188054469102-0.09258781162757845j)\n",
      "a'01'b'10' (0.1986431337834743-0.3948732374798262j)\n",
      "a'10'b'01' (0.3248834358204552+0.5372845502295152j)\n",
      "a'10'b'10' (-0.2458007780800492-0.1426348515763947j)\n",
      "Sector N = 2 : S_z = 2\n",
      "a'11'b'00' (0.21268873797040513+0.9771200032445126j)\n"
     ]
    }
   ],
   "source": [
    "wfnFqe = fqe.Wavefunction([[2, 2, 2], [2, 0, 2], [2, -2, 2]], broken=None)\n",
    "wfnFqe.set_wfn(strategy='random')\n",
    "wfnFqe.print_wfn()"
   ]
  },
  {
   "cell_type": "code",
   "execution_count": 20,
   "metadata": {},
   "outputs": [],
   "source": [
    "wfnFqe.save('random_wavefunction')\n",
    "# wfnFqe.save('random_wavefunction', path='/home/google/wavefunctions')"
   ]
  },
  {
   "cell_type": "markdown",
   "metadata": {},
   "source": [
    "Once it is saved you can return to the wavefunction by creating new object and then 'read' the data into it with the same syntax."
   ]
  },
  {
   "cell_type": "code",
   "execution_count": 21,
   "metadata": {},
   "outputs": [
    {
     "name": "stdout",
     "output_type": "stream",
     "text": [
      "Sector N = 2 : S_z = -2\n",
      "a'00'b'11' (0.9830583946266548-0.18329264238933415j)\n",
      "Sector N = 2 : S_z = 0\n",
      "a'01'b'01' (0.5666188054469102-0.09258781162757845j)\n",
      "a'01'b'10' (0.1986431337834743-0.3948732374798262j)\n",
      "a'10'b'01' (0.3248834358204552+0.5372845502295152j)\n",
      "a'10'b'10' (-0.2458007780800492-0.1426348515763947j)\n",
      "Sector N = 2 : S_z = 2\n",
      "a'11'b'00' (0.21268873797040513+0.9771200032445126j)\n"
     ]
    }
   ],
   "source": [
    "progress = fqe.Wavefunction([], broken=None)\n",
    "progress.read('random_wavefunction')\n",
    "# progress.read('random_wavefunction', path='/home/google/wavefunctions')\n",
    "progress.print_wfn()"
   ]
  },
  {
   "cell_type": "code",
   "execution_count": null,
   "metadata": {},
   "outputs": [],
   "source": []
  }
 ],
 "metadata": {
  "kernelspec": {
   "display_name": "Python 3",
   "language": "python",
   "name": "python3"
  },
  "language_info": {
   "codemirror_mode": {
    "name": "ipython",
    "version": 3
   },
   "file_extension": ".py",
   "mimetype": "text/x-python",
   "name": "python",
   "nbconvert_exporter": "python",
   "pygments_lexer": "ipython3",
   "version": "3.6.10"
  }
 },
 "nbformat": 4,
 "nbformat_minor": 2
}
