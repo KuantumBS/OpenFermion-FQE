{
 "cells": [
  {
   "cell_type": "markdown",
   "metadata": {},
   "source": [
    "# OpenFermion Fermionic Quantum Emulator \n",
    "## Phase I Design Proposal\n",
    "\n",
    "This document outlines the functionality of the API for the OpenFermion Fermionic Quantum Emulator as defined in the design proposal.\n",
    "\n",
    " The code is covered and tested with pytest-cov at 99%. Toggle the print option to see output."
   ]
  },
  {
   "cell_type": "code",
   "execution_count": 32,
   "metadata": {},
   "outputs": [],
   "source": [
    "fqeprint = True"
   ]
  },
  {
   "cell_type": "markdown",
   "metadata": {},
   "source": [
    "### 2.A.2 API for data conversion between OpenFermion's backend and OpenFermion-FQE\n",
    "The API supports data conversion between native Cirq wavefunctions and the FQE wavefunction for arbitrary particle number and spin configuration.  A linequbit wavefunction result is a normalized numpy array."
   ]
  },
  {
   "cell_type": "code",
   "execution_count": 33,
   "metadata": {},
   "outputs": [
    {
     "name": "stdout",
     "output_type": "stream",
     "text": [
      "Inital wavefunction is \n",
      " [0.21663931+0.27930424j 0.27257157+0.1454505j  0.04599878+0.00051126j\n",
      " 0.08000916+0.17675216j 0.13473104+0.23491062j 0.19019813+0.25923595j\n",
      " 0.01266635+0.02180418j 0.27564601+0.00104139j 0.22790804+0.20073231j\n",
      " 0.04860453+0.19916771j 0.24182489+0.12187263j 0.20211573+0.04055808j\n",
      " 0.08880646+0.20968318j 0.04932386+0.24131864j 0.0975933 +0.19539965j\n",
      " 0.22293679+0.16276882j] \n",
      " with norm (1.0000000000000002+0j)\n",
      "Sector N = 0 : S_z = 0\n",
      "a'00'b'00' (0.21663930597277914+0.27930423733702975j)\n",
      "Sector N = 1 : S_z = -1\n",
      "a'00'b'01' (0.13473103833541647+0.2349106237566947j)\n",
      "a'00'b'10' (0.272571569152339+0.14545050334405574j)\n",
      "Sector N = 1 : S_z = 1\n",
      "a'01'b'00' (0.22790803626781472+0.20073230740388734j)\n",
      "a'10'b'00' (0.04599877510489929+0.0005112591366738259j)\n",
      "Sector N = 2 : S_z = -2\n",
      "a'00'b'11' (0.19019812996665186+0.25923595176167014j)\n",
      "Sector N = 2 : S_z = 0\n",
      "a'01'b'01' (0.08880646075217763+0.20968318030785582j)\n",
      "a'01'b'10' (0.04860452901161002+0.19916770591494895j)\n",
      "a'10'b'01' (-0.012666351228068102-0.021804183824382612j)\n",
      "a'10'b'10' (0.08000916261953789+0.17675216087019172j)\n",
      "Sector N = 2 : S_z = 2\n",
      "a'11'b'00' (0.24182488715712022+0.1218726307329772j)\n",
      "Sector N = 3 : S_z = -1\n",
      "a'01'b'11' (0.04932385684061608+0.24131863988711186j)\n",
      "a'10'b'11' (-0.27564601461862587-0.0010413895352712407j)\n",
      "Sector N = 3 : S_z = 1\n",
      "a'11'b'01' (-0.09759329693001878-0.195399651060765j)\n",
      "a'11'b'10' (0.2021157252054169+0.04055808074577214j)\n",
      "Sector N = 4 : S_z = 0\n",
      "a'11'b'11' (-0.22293678743111342-0.1627688205846147j)\n"
     ]
    }
   ],
   "source": [
    "import fqe\n",
    "import numpy\n",
    "import cirq\n",
    "\n",
    "nqubit = 4\n",
    "\n",
    "cirq_wfn = numpy.random.rand(2**nqubit).astype(numpy.complex128) + numpy.random.rand(2**nqubit).astype(numpy.complex128)*1.j\n",
    "norm = numpy.sqrt(numpy.vdot(cirq_wfn, cirq_wfn))\n",
    "numpy.divide(cirq_wfn, norm, out=cirq_wfn)\n",
    "wfn_from_cirq = fqe.from_cirq(cirq_wfn, 0.0001)\n",
    "\n",
    "if fqeprint:\n",
    "    print('Inital wavefunction is \\n {} \\n with norm {}'.format(cirq_wfn, numpy.vdot(cirq_wfn, cirq_wfn)))\n",
    "    wfn_from_cirq.print_wfn()"
   ]
  },
  {
   "cell_type": "markdown",
   "metadata": {},
   "source": [
    "### 2.A.3 Initialization of wave functions\n",
    "FQE wave functions can be initialized by calling the constructor directly. fqe.get_wavefunction and get_wavefunction_mutltiple are utility wrappers that provide wrappers for common initialization motifs. e.g. get_spin_nonconserving_wavefunction will build a wavefunction that permits spin breaking Operators to be applied while get_wavefunction_multiple will return a list of initialize wavefunctions"
   ]
  },
  {
   "cell_type": "code",
   "execution_count": 34,
   "metadata": {},
   "outputs": [],
   "source": [
    "wfFqe = fqe.Wavefunction([[4, -2, 10]], broken=None)\n",
    "wfFqe = fqe.get_wavefunction(4, -2, 10)"
   ]
  },
  {
   "cell_type": "code",
   "execution_count": 35,
   "metadata": {},
   "outputs": [],
   "source": [
    "n = 3\n",
    "m = -2\n",
    "wfFQE = fqe.Wavefunction([[n, m, 10], [n+1, m+2, 10]], broken=None)\n",
    "wfFQE = fqe.get_wavefunction_multiple([[4, 0, 10], [5, -5, 10]])"
   ]
  },
  {
   "cell_type": "code",
   "execution_count": 36,
   "metadata": {},
   "outputs": [
    {
     "name": "stdout",
     "output_type": "stream",
     "text": [
      "Sector N = 2 : S_z = -2\n",
      "a'0000'b'0011' (0.13741376984264198+0.21858138930916632j)\n",
      "a'0000'b'0101' (0.17812903120313933+0.23050144667372388j)\n",
      "a'0000'b'1001' (0.018493928708758628-0.803290479161759j)\n",
      "a'0000'b'0110' (-0.01790010542315535-0.10757020379541009j)\n",
      "a'0000'b'1010' (0.1077834079098812+0.3317034329962844j)\n",
      "a'0000'b'1100' (-0.04538753591859354-0.25935482008351124j)\n",
      "Sector N = 2 : S_z = 0\n",
      "a'0001'b'0001' (-0.032160217105011144-0.10925842023669652j)\n",
      "a'0001'b'0010' (-0.09759469091924397-0.08998677749039163j)\n",
      "a'0001'b'0100' (0.22406346618992173+0.12802183687064878j)\n",
      "a'0001'b'1000' (0.015177016285577489+0.07794949326641695j)\n",
      "a'0010'b'0001' (0.1233684413471275-0.16701120663809563j)\n",
      "a'0010'b'0010' (0.08465086261327827-0.09816117743994539j)\n",
      "a'0010'b'0100' (0.20059792781307756-0.22999939274175885j)\n",
      "a'0010'b'1000' (0.07310730363588082-0.12480494955030182j)\n",
      "a'0100'b'0001' (0.06651284373056578-0.4142631154525293j)\n",
      "a'0100'b'0010' (0.31429653318969253-0.1030206703270467j)\n",
      "a'0100'b'0100' (0.16285108221656122-0.0770395062669499j)\n",
      "a'0100'b'1000' (-0.160144984369678+0.28928458962097736j)\n",
      "a'1000'b'0001' (0.0437414269311527+0.08960623766493418j)\n",
      "a'1000'b'0010' (0.3422775725093885+0.03704476950701653j)\n",
      "a'1000'b'0100' (-0.10223187240334118-0.3658460721054063j)\n",
      "a'1000'b'1000' (0.011177603673533988+0.14973939450657497j)\n",
      "Sector N = 2 : S_z = 2\n",
      "a'0011'b'0000' (0.22950829717298807-0.23462413240304353j)\n",
      "a'0101'b'0000' (0.6150679823680681+0.21123755621327556j)\n",
      "a'1001'b'0000' (0.4626441742948695+0.13831853890791102j)\n",
      "a'0110'b'0000' (-0.06828283465681442+0.011814559536935273j)\n",
      "a'1010'b'0000' (0.06693601410075452+0.3011533168220915j)\n",
      "a'1100'b'0000' (0.28858891681027665+0.23003573042202927j)\n"
     ]
    }
   ],
   "source": [
    "wfFQE = fqe.get_number_conserving_wavefunction(2, 4)\n",
    "wfFQE.set_wfn(strategy='random')\n",
    "if fqeprint:\n",
    "    wfFQE.print_wfn()"
   ]
  },
  {
   "cell_type": "markdown",
   "metadata": {},
   "source": [
    "### 2.A.4 Element access\n",
    "\n",
    "Element access is modified from the original propsal to add more convient getter and setter functionalities.  The orginally proposed methods are availible with an addition function to add a value to an existing element."
   ]
  },
  {
   "cell_type": "code",
   "execution_count": 37,
   "metadata": {},
   "outputs": [
    {
     "name": "stdout",
     "output_type": "stream",
     "text": [
      "(3.14159265359-0j)\n"
     ]
    }
   ],
   "source": [
    "wfFQE[(1, 8)] = .14159265359j\n",
    "wfFQE[(1, 8)] += 3.j\n",
    "imaginary_pi = wfFQE[(1, 8)]\n",
    "if fqeprint:\n",
    "    print(-imaginary_pi*1.j)"
   ]
  },
  {
   "cell_type": "markdown",
   "metadata": {},
   "source": [
    "The new components not originally in the proposal allow access of entire vectors for getting and setting methods."
   ]
  },
  {
   "cell_type": "code",
   "execution_count": 38,
   "metadata": {},
   "outputs": [
    {
     "name": "stdout",
     "output_type": "stream",
     "text": [
      "[[ 0.08880646+0.20968318j  0.04860453+0.19916771j]\n",
      " [-0.01266635-0.02180418j  0.08000916+0.17675216j]]\n"
     ]
    }
   ],
   "source": [
    "interesting_states = wfn_from_cirq.get_coeff((2, 0))\n",
    "if fqeprint:\n",
    "    print(interesting_states)"
   ]
  },
  {
   "cell_type": "code",
   "execution_count": 39,
   "metadata": {},
   "outputs": [
    {
     "name": "stdout",
     "output_type": "stream",
     "text": [
      "[[ 0.12506948+0.12013629j  0.82377348-0.10516396j]\n",
      " [-0.0154077 -0.01146302j  0.83903206-0.13027624j]]\n"
     ]
    }
   ],
   "source": [
    "interesting_states[:, 1] += 1. + .1j\n",
    "interesting_states *= .7 - .3j\n",
    "if fqeprint:\n",
    "    print(interesting_states)"
   ]
  },
  {
   "cell_type": "code",
   "execution_count": 40,
   "metadata": {},
   "outputs": [
    {
     "name": "stdout",
     "output_type": "stream",
     "text": [
      "Sector N = 0 : S_z = 0\n",
      "a'00'b'00' (0.21663930597277914+0.27930423733702975j)\n",
      "Sector N = 1 : S_z = -1\n",
      "a'00'b'01' (0.13473103833541647+0.2349106237566947j)\n",
      "a'00'b'10' (0.272571569152339+0.14545050334405574j)\n",
      "Sector N = 1 : S_z = 1\n",
      "a'01'b'00' (0.22790803626781472+0.20073230740388734j)\n",
      "a'10'b'00' (0.04599877510489929+0.0005112591366738259j)\n",
      "Sector N = 2 : S_z = -2\n",
      "a'00'b'11' (0.19019812996665186+0.25923595176167014j)\n",
      "Sector N = 2 : S_z = 0\n",
      "a'01'b'01' (0.12506947661888107+0.12013628798984578j)\n",
      "a'01'b'10' (0.8237734820826116-0.10516396456301871j)\n",
      "a'10'b'01' (-0.015407701006962454-0.011463023308647397j)\n",
      "a'10'b'10' (0.8390320620947339-0.13027623617672712j)\n",
      "Sector N = 2 : S_z = 2\n",
      "a'11'b'00' (0.24182488715712022+0.1218726307329772j)\n",
      "Sector N = 3 : S_z = -1\n",
      "a'01'b'11' (0.04932385684061608+0.24131863988711186j)\n",
      "a'10'b'11' (-0.27564601461862587-0.0010413895352712407j)\n",
      "Sector N = 3 : S_z = 1\n",
      "a'11'b'01' (-0.09759329693001878-0.195399651060765j)\n",
      "a'11'b'10' (0.2021157252054169+0.04055808074577214j)\n",
      "Sector N = 4 : S_z = 0\n",
      "a'11'b'11' (-0.22293678743111342-0.1627688205846147j)\n"
     ]
    }
   ],
   "source": [
    "data = {}\n",
    "data[(2, 0)] = interesting_states\n",
    "wfn_from_cirq.set_wfn(strategy='from_data', raw_data=data)\n",
    "if fqeprint:\n",
    "    wfn_from_cirq.print_wfn()"
   ]
  },
  {
   "cell_type": "markdown",
   "metadata": {},
   "source": [
    "### 2.A.5 Printing/Saving\n",
    "\n",
    "Printing is currently availible as alpha beta strings followed by the coefficient as well as orbital occupation representation."
   ]
  },
  {
   "cell_type": "code",
   "execution_count": 41,
   "metadata": {},
   "outputs": [
    {
     "name": "stdout",
     "output_type": "stream",
     "text": [
      "String forrmatting\n",
      "Sector N = 0 : S_z = 0\n",
      "a'00'b'00' (0.21663930597277914+0.27930423733702975j)\n",
      "Sector N = 1 : S_z = -1\n",
      "a'00'b'01' (0.13473103833541647+0.2349106237566947j)\n",
      "a'00'b'10' (0.272571569152339+0.14545050334405574j)\n",
      "Sector N = 1 : S_z = 1\n",
      "a'01'b'00' (0.22790803626781472+0.20073230740388734j)\n",
      "a'10'b'00' (0.04599877510489929+0.0005112591366738259j)\n",
      "Sector N = 2 : S_z = -2\n",
      "a'00'b'11' (0.19019812996665186+0.25923595176167014j)\n",
      "Sector N = 2 : S_z = 0\n",
      "a'01'b'01' (0.12506947661888107+0.12013628798984578j)\n",
      "a'01'b'10' (0.8237734820826116-0.10516396456301871j)\n",
      "a'10'b'01' (-0.015407701006962454-0.011463023308647397j)\n",
      "a'10'b'10' (0.8390320620947339-0.13027623617672712j)\n",
      "Sector N = 2 : S_z = 2\n",
      "a'11'b'00' (0.24182488715712022+0.1218726307329772j)\n",
      "Sector N = 3 : S_z = -1\n",
      "a'01'b'11' (0.04932385684061608+0.24131863988711186j)\n",
      "a'10'b'11' (-0.27564601461862587-0.0010413895352712407j)\n",
      "Sector N = 3 : S_z = 1\n",
      "a'11'b'01' (-0.09759329693001878-0.195399651060765j)\n",
      "a'11'b'10' (0.2021157252054169+0.04055808074577214j)\n",
      "Sector N = 4 : S_z = 0\n",
      "a'11'b'11' (-0.22293678743111342-0.1627688205846147j)\n",
      "\n",
      " Occupation forrmatting\n",
      "Sector N = 0 : S_z = 0\n",
      ".. (0.21663930597277914+0.27930423733702975j)\n",
      "Sector N = 1 : S_z = -1\n",
      ".b (0.13473103833541647+0.2349106237566947j)\n",
      "b. (0.272571569152339+0.14545050334405574j)\n",
      "Sector N = 1 : S_z = 1\n",
      ".a (0.22790803626781472+0.20073230740388734j)\n",
      "a. (0.04599877510489929+0.0005112591366738259j)\n",
      "Sector N = 2 : S_z = -2\n",
      "bb (0.19019812996665186+0.25923595176167014j)\n",
      "Sector N = 2 : S_z = 0\n",
      ".2 (0.12506947661888107+0.12013628798984578j)\n",
      "ba (0.8237734820826116-0.10516396456301871j)\n",
      "ab (-0.015407701006962454-0.011463023308647397j)\n",
      "2. (0.8390320620947339-0.13027623617672712j)\n",
      "Sector N = 2 : S_z = 2\n",
      "aa (0.24182488715712022+0.1218726307329772j)\n",
      "Sector N = 3 : S_z = -1\n",
      "b2 (0.04932385684061608+0.24131863988711186j)\n",
      "2b (-0.27564601461862587-0.0010413895352712407j)\n",
      "Sector N = 3 : S_z = 1\n",
      "a2 (-0.09759329693001878-0.195399651060765j)\n",
      "2a (0.2021157252054169+0.04055808074577214j)\n",
      "Sector N = 4 : S_z = 0\n",
      "22 (-0.22293678743111342-0.1627688205846147j)\n"
     ]
    }
   ],
   "source": [
    "print('String forrmatting')\n",
    "wfn_from_cirq.print_wfn(fmt='str')\n",
    "print('\\n Occupation forrmatting')\n",
    "wfn_from_cirq.print_wfn(fmt='occ')"
   ]
  },
  {
   "cell_type": "markdown",
   "metadata": {},
   "source": [
    "### 2.A.6 Fermionic algebra operations and their unitaries on the state\n",
    "\n",
    "FermionOperators can be directly passed in to create a newwavefunction based on application of the operators."
   ]
  },
  {
   "cell_type": "code",
   "execution_count": 42,
   "metadata": {},
   "outputs": [],
   "source": [
    "from openfermion import FermionOperator\n",
    "ops = FermionOperator('2^ 0', 1.2)\n",
    "new_wfn = wfn_from_cirq.apply(ops)"
   ]
  },
  {
   "cell_type": "code",
   "execution_count": 43,
   "metadata": {},
   "outputs": [
    {
     "name": "stdout",
     "output_type": "stream",
     "text": [
      "Sector N = 2 : S_z = -2\n",
      "a'0000'b'0011' (0.13741376984264198+0.21858138930916632j)\n",
      "a'0000'b'0101' (0.17812903120313933+0.23050144667372388j)\n",
      "a'0000'b'1001' (0.018493928708758628-0.803290479161759j)\n",
      "a'0000'b'0110' (-0.01790010542315535-0.10757020379541009j)\n",
      "a'0000'b'1010' (0.1077834079098812+0.3317034329962844j)\n",
      "a'0000'b'1100' (-0.04538753591859354-0.25935482008351124j)\n",
      "Sector N = 2 : S_z = 0\n",
      "a'0001'b'0001' (-0.032160217105011144-0.10925842023669652j)\n",
      "a'0001'b'0010' (-0.09759469091924397-0.08998677749039163j)\n",
      "a'0001'b'0100' (0.22406346618992173+0.12802183687064878j)\n",
      "a'0001'b'1000' 3.14159265359j\n",
      "a'0010'b'0001' (0.1233684413471275-0.16701120663809563j)\n",
      "a'0010'b'0010' (0.08465086261327827-0.09816117743994539j)\n",
      "a'0010'b'0100' (0.20059792781307756-0.22999939274175885j)\n",
      "a'0010'b'1000' (0.07310730363588082-0.12480494955030182j)\n",
      "a'0100'b'0001' (0.06651284373056578-0.4142631154525293j)\n",
      "a'0100'b'0010' (0.31429653318969253-0.1030206703270467j)\n",
      "a'0100'b'0100' (0.16285108221656122-0.0770395062669499j)\n",
      "a'0100'b'1000' (-0.160144984369678+0.28928458962097736j)\n",
      "a'1000'b'0001' (0.0437414269311527+0.08960623766493418j)\n",
      "a'1000'b'0010' (0.3422775725093885+0.03704476950701653j)\n",
      "a'1000'b'0100' (-0.10223187240334118-0.3658460721054063j)\n",
      "a'1000'b'1000' (0.011177603673533988+0.14973939450657497j)\n",
      "Sector N = 2 : S_z = 2\n",
      "a'0011'b'0000' (0.22950829717298807-0.23462413240304353j)\n",
      "a'0101'b'0000' (0.6150679823680681+0.21123755621327556j)\n",
      "a'1001'b'0000' (0.4626441742948695+0.13831853890791102j)\n",
      "a'0110'b'0000' (-0.06828283465681442+0.011814559536935273j)\n",
      "a'1010'b'0000' (0.06693601410075452+0.3011533168220915j)\n",
      "a'1100'b'0000' (0.28858891681027665+0.23003573042202927j)\n",
      "Sector N = 2 : S_z = -2\n",
      "Sector N = 2 : S_z = 0\n",
      "a'0001'b'0001' (-0.032160217105011144-0.10925842023669652j)\n",
      "a'0001'b'0010' (-0.09759469091924397-0.08998677749039163j)\n",
      "a'0001'b'0100' (0.22406346618992173+0.12802183687064878j)\n",
      "a'0001'b'1000' 3.14159265359j\n",
      "Sector N = 2 : S_z = 2\n",
      "a'0011'b'0000' (0.22950829717298807-0.23462413240304353j)\n",
      "a'0101'b'0000' (0.6150679823680681+0.21123755621327556j)\n",
      "a'1001'b'0000' (0.4626441742948695+0.13831853890791102j)\n"
     ]
    }
   ],
   "source": [
    "new_wfn = fqe.apply(FermionOperator('0^ 0', 1.0), wfFQE)\n",
    "if fqeprint:\n",
    "    wfFQE.print_wfn()\n",
    "    new_wfn.print_wfn()"
   ]
  },
  {
   "cell_type": "markdown",
   "metadata": {},
   "source": [
    "The fqe has vdot functionality to get an inner product and provides a way to do completely general expectation values."
   ]
  },
  {
   "cell_type": "code",
   "execution_count": 44,
   "metadata": {},
   "outputs": [
    {
     "name": "stdout",
     "output_type": "stream",
     "text": [
      "(0.1908362624309661+0j)\n"
     ]
    }
   ],
   "source": [
    "ops = FermionOperator('2^ 2', 0.5)\n",
    "opexpec = fqe.vdot(wfFQE, wfFQE.apply(ops))\n",
    "if fqeprint:\n",
    "    print(opexpec)"
   ]
  },
  {
   "cell_type": "code",
   "execution_count": 45,
   "metadata": {},
   "outputs": [
    {
     "name": "stdout",
     "output_type": "stream",
     "text": [
      "(0.1908362624309661+0j)\n"
     ]
    }
   ],
   "source": [
    "ops = FermionOperator('2^ 2', 0.5)\n",
    "opexpec = fqe.vdot(wfFQE, fqe.apply(ops, wfFQE))\n",
    "if fqeprint:\n",
    "    print(opexpec)"
   ]
  },
  {
   "cell_type": "markdown",
   "metadata": {},
   "source": [
    "We can also do general unitary application of operators.  One slight modification to the proposal is that the operator passed in should Hermetian and not anti-Hermitian as stated before."
   ]
  },
  {
   "cell_type": "code",
   "execution_count": 46,
   "metadata": {},
   "outputs": [
    {
     "name": "stdout",
     "output_type": "stream",
     "text": [
      "Sector N = 2 : S_z = -2\n",
      "a'0000'b'0011' (0.13741376984264198+0.21858138930916632j)\n",
      "a'0000'b'0101' (0.17812903120313933+0.23050144667372388j)\n",
      "a'0000'b'1001' (0.018493928708758628-0.803290479161759j)\n",
      "a'0000'b'0110' (-0.01790010542315535-0.10757020379541009j)\n",
      "a'0000'b'1010' (0.1077834079098812+0.3317034329962844j)\n",
      "a'0000'b'1100' (-0.04538753591859354-0.25935482008351124j)\n",
      "Sector N = 2 : S_z = 0\n",
      "a'0001'b'0001' (-0.032160217105011144-0.10925842023669652j)\n",
      "a'0001'b'0010' (-0.09759469091924397-0.08998677749039163j)\n",
      "a'0001'b'0100' (0.22406346618992173+0.12802183687064878j)\n",
      "a'0001'b'1000' 3.14159265359j\n",
      "a'0010'b'0001' (0.1233684413471275-0.16701120663809563j)\n",
      "a'0010'b'0010' (0.08465086261327827-0.09816117743994539j)\n",
      "a'0010'b'0100' (0.20059792781307756-0.22999939274175885j)\n",
      "a'0010'b'1000' (0.07310730363588082-0.12480494955030182j)\n",
      "a'0100'b'0001' (0.06651284373056578-0.4142631154525293j)\n",
      "a'0100'b'0010' (0.31429653318969253-0.1030206703270467j)\n",
      "a'0100'b'0100' (0.16285108221656122-0.0770395062669499j)\n",
      "a'0100'b'1000' (-0.160144984369678+0.28928458962097736j)\n",
      "a'1000'b'0001' (0.0437414269311527+0.08960623766493418j)\n",
      "a'1000'b'0010' (0.3422775725093885+0.03704476950701653j)\n",
      "a'1000'b'0100' (-0.10223187240334118-0.3658460721054063j)\n",
      "a'1000'b'1000' (0.011177603673533988+0.14973939450657497j)\n",
      "Sector N = 2 : S_z = 2\n",
      "a'0011'b'0000' (0.22950829717298807-0.23462413240304353j)\n",
      "a'0101'b'0000' (0.6150679823680681+0.21123755621327556j)\n",
      "a'1001'b'0000' (0.4626441742948695+0.13831853890791102j)\n",
      "a'0110'b'0000' (-0.06828283465681442+0.011814559536935273j)\n",
      "a'1010'b'0000' (0.06693601410075452+0.3011533168220915j)\n",
      "a'1100'b'0000' (0.28858891681027665+0.23003573042202927j)\n",
      "Sector N = 2 : S_z = -2\n",
      "a'0000'b'0011' (0.13741376984264198+0.21858138930916632j)\n",
      "a'0000'b'0101' (0.17812903120313933+0.23050144667372388j)\n",
      "a'0000'b'1001' (0.018493928708758628-0.803290479161759j)\n",
      "a'0000'b'0110' (-0.01790010542315535-0.10757020379541009j)\n",
      "a'0000'b'1010' (0.1077834079098812+0.3317034329962844j)\n",
      "a'0000'b'1100' (-0.04538753591859354-0.25935482008351124j)\n",
      "Sector N = 2 : S_z = 0\n",
      "a'0001'b'0001' (-0.03215660672359871-0.10933319018353996j)\n",
      "a'0001'b'0010' (-0.09758892155241801-0.09003315016600094j)\n",
      "a'0001'b'0100' (0.22407763112528495+0.12791270914820857j)\n",
      "a'0001'b'1000' (-3.0287987536721458e-06+3.1415403864420153j)\n",
      "a'0010'b'0001' (0.12335622970952748-0.16697198621372483j)\n",
      "a'0010'b'0010' (0.08466213816250552-0.09811465608904578j)\n",
      "a'0010'b'0100' (0.20055630010263117-0.2300825970342946j)\n",
      "a'0010'b'1000' (0.07373561740101058-0.1257474192136368j)\n",
      "a'0100'b'0001' (0.06651284373056578-0.4142631154525293j)\n",
      "a'0100'b'0010' (0.31429653318969253-0.1030206703270467j)\n",
      "a'0100'b'0100' (0.16285108221656122-0.0770395062669499j)\n",
      "a'0100'b'1000' (-0.160144984369678+0.28928458962097736j)\n",
      "a'1000'b'0001' (0.0437414269311527+0.08960623766493418j)\n",
      "a'1000'b'0010' (0.3422775725093885+0.03704476950701653j)\n",
      "a'1000'b'0100' (-0.10223187240334118-0.3658460721054063j)\n",
      "a'1000'b'1000' (0.011177603673533988+0.14973939450657497j)\n",
      "Sector N = 2 : S_z = 2\n",
      "a'0011'b'0000' (0.22950829717298807-0.23462413240304353j)\n",
      "a'0101'b'0000' (0.6150498204505527+0.2112547434172543j)\n",
      "a'1001'b'0000' (0.462724455688853+0.1383954887077651j)\n",
      "a'0110'b'0000' (-0.0684251030988154+0.011628173909689654j)\n",
      "a'1010'b'0000' (0.06682488020781457+0.3010192728534986j)\n",
      "a'1100'b'0000' (0.28858891681027665+0.23003573042202927j)\n",
      "Sector N = 2 : S_z = -2\n",
      "a'0000'b'0011' (0.13741376984264198+0.21858138930916632j)\n",
      "a'0000'b'0101' (0.17812903120313933+0.23050144667372388j)\n",
      "a'0000'b'1001' (0.018493928708758628-0.803290479161759j)\n",
      "a'0000'b'0110' (-0.01790010542315535-0.10757020379541009j)\n",
      "a'0000'b'1010' (0.1077834079098812+0.3317034329962844j)\n",
      "a'0000'b'1100' (-0.04538753591859354-0.25935482008351124j)\n",
      "Sector N = 2 : S_z = 0\n",
      "a'0001'b'0001' (-0.03215660672359871-0.10933319018353996j)\n",
      "a'0001'b'0010' (-0.09758892155241801-0.09003315016600094j)\n",
      "a'0001'b'0100' (0.22407763112528495+0.12791270914820857j)\n",
      "a'0001'b'1000' (-3.0287987536721458e-06+3.1415403864420153j)\n",
      "a'0010'b'0001' (0.12335622970952748-0.16697198621372483j)\n",
      "a'0010'b'0010' (0.08466213816250552-0.09811465608904578j)\n",
      "a'0010'b'0100' (0.20055630010263117-0.2300825970342946j)\n",
      "a'0010'b'1000' (0.07373561740101058-0.1257474192136368j)\n",
      "a'0100'b'0001' (0.06651284373056578-0.4142631154525293j)\n",
      "a'0100'b'0010' (0.31429653318969253-0.1030206703270467j)\n",
      "a'0100'b'0100' (0.16285108221656122-0.0770395062669499j)\n",
      "a'0100'b'1000' (-0.160144984369678+0.28928458962097736j)\n",
      "a'1000'b'0001' (0.0437414269311527+0.08960623766493418j)\n",
      "a'1000'b'0010' (0.3422775725093885+0.03704476950701653j)\n",
      "a'1000'b'0100' (-0.10223187240334118-0.3658460721054063j)\n",
      "a'1000'b'1000' (0.011177603673533988+0.14973939450657497j)\n",
      "Sector N = 2 : S_z = 2\n",
      "a'0011'b'0000' (0.22950829717298807-0.23462413240304353j)\n",
      "a'0101'b'0000' (0.6150498204505527+0.2112547434172543j)\n",
      "a'1001'b'0000' (0.462724455688853+0.1383954887077651j)\n",
      "a'0110'b'0000' (-0.0684251030988154+0.011628173909689654j)\n",
      "a'1010'b'0000' (0.06682488020781457+0.3010192728534986j)\n",
      "a'1100'b'0000' (0.28858891681027665+0.23003573042202927j)\n"
     ]
    }
   ],
   "source": [
    "ops = FermionOperator('2^ 0', 0.2 - .3j) + FermionOperator('0^ 2', 0.2 + .3j)\n",
    "wfFQE.print_wfn()\n",
    "wfFQE2 = wfFQE.apply_generated_unitary(0.001, 'taylor', ops)\n",
    "wfFQE2.print_wfn()\n",
    "ops = FermionOperator('2^ 0', 0.2 - .3j) + FermionOperator('0^ 2', 0.2 + .3j)\n",
    "wfFQE2 = fqe.apply_generated_unitary(wfFQE, 0.001, 'taylor', ops)\n",
    "wfFQE2.print_wfn()"
   ]
  },
  {
   "cell_type": "markdown",
   "metadata": {},
   "source": [
    "### 3.B.1 Hamiltonian data structure\n",
    "\n",
    "Hamiltonians can be incorporated from OpenFermion objects or initialized from numpy arrays."
   ]
  },
  {
   "cell_type": "code",
   "execution_count": 47,
   "metadata": {},
   "outputs": [],
   "source": [
    "from openfermion import get_quadratic_hamiltonian\n",
    "ops = FermionOperator((), 1.) + FermionOperator('1^ 1', 3.) + FermionOperator('1^ 2', 3. + 4.j) + FermionOperator('2^ 1', 3. - 4.j) + FermionOperator('3^ 4', 2. + 5.j) + FermionOperator('4^ 3', 2. - 5.j)\n",
    "#hamOF = get_quadratic_hamiltonian(ops, -0.03)\n",
    "hamFQE = fqe.get_hamiltonian_from_openfermion(ops, e_0=-0.03)\n",
    "#hamFQE = fqe.get_quadratic_hamiltonian(ops, -0.03)"
   ]
  },
  {
   "cell_type": "markdown",
   "metadata": {},
   "source": [
    "Symmetry is passed in by lists containing permutation operations, a phase and whether or not complex conjugation is used.  Below are examples of a Hermetian matrix and a real anti-symmetric matrix."
   ]
  },
  {
   "cell_type": "code",
   "execution_count": 48,
   "metadata": {},
   "outputs": [],
   "source": [
    "if False:\n",
    "    e = 1.0\n",
    "    t = numpy.random.rand(4, 4) + numpy.random.rand(4, 4)*1.j\n",
    "    h = t + numpy.conjugate(t.T)\n",
    "    symmh = [\n",
    "        [[1, 2], 1.0, False],\n",
    "        [[2, 1], 1.0, True]\n",
    "    ]\n",
    "    t = numpy.random.rand(4, 4, 4, 4)\n",
    "    g = t - t.T\n",
    "    symmg = [\n",
    "        [[1, 2, 3, 4], 1.0, True],\n",
    "        [[4, 3, 2, 1], -1.0, True]\n",
    "    ]\n",
    "    hamFQE = fqe.get_two_body_hamiltonian(-0.3, h, g, 0.0, symmh, symmg)"
   ]
  },
  {
   "cell_type": "markdown",
   "metadata": {},
   "source": [
    "The FQE will also return PolynomialTensor objects for parsing by OpenFermion objects."
   ]
  },
  {
   "cell_type": "code",
   "execution_count": 49,
   "metadata": {},
   "outputs": [],
   "source": [
    "#hamOF = fqe.hamiltonian_to_openfermion(hamFQE)"
   ]
  },
  {
   "cell_type": "markdown",
   "metadata": {},
   "source": [
    "### Saving and Loading Wavefunctions\n",
    "\n",
    "Saving or loading a wavefunction is accomplished by passing a file name to the API and optionally a path to that filename.  If no path is given, the current working directory will be used.  If a path is used, the file will be searched for as\n",
    "\n",
    "path + '/' + filename"
   ]
  },
  {
   "cell_type": "code",
   "execution_count": 50,
   "metadata": {},
   "outputs": [
    {
     "name": "stdout",
     "output_type": "stream",
     "text": [
      "Sector N = 2 : S_z = -2\n",
      "a'00'b'11' (-0.6482451936912013+0.7614316573772442j)\n",
      "Sector N = 2 : S_z = 0\n",
      "a'01'b'01' (0.04597989529030235-0.12788798123539336j)\n",
      "a'01'b'10' (0.41463911740062676+0.16377546743839544j)\n",
      "a'10'b'01' (-0.4422799709909502+0.3172576946978844j)\n",
      "a'10'b'10' (0.6637737459222839+0.21429631053921616j)\n",
      "Sector N = 2 : S_z = 2\n",
      "a'11'b'00' (-0.07442437560674867+0.9972266604516478j)\n"
     ]
    }
   ],
   "source": [
    "wfnFqe = fqe.Wavefunction([[2, 2, 2], [2, 0, 2], [2, -2, 2]], broken=None)\n",
    "wfnFqe.set_wfn(strategy='random')\n",
    "wfnFqe.print_wfn()"
   ]
  },
  {
   "cell_type": "code",
   "execution_count": 51,
   "metadata": {},
   "outputs": [],
   "source": [
    "wfnFqe.save('random_wavefunction')\n",
    "# wfnFqe.save('random_wavefunction', path='/home/google/wavefunctions')"
   ]
  },
  {
   "cell_type": "markdown",
   "metadata": {},
   "source": [
    "Once it is saved you can return to the wavefunction by creating new object and then 'read' the data into it with the same syntax."
   ]
  },
  {
   "cell_type": "code",
   "execution_count": 52,
   "metadata": {},
   "outputs": [
    {
     "name": "stdout",
     "output_type": "stream",
     "text": [
      "Sector N = 2 : S_z = -2\n",
      "a'00'b'11' (-0.6482451936912013+0.7614316573772442j)\n",
      "Sector N = 2 : S_z = 0\n",
      "a'01'b'01' (0.04597989529030235-0.12788798123539336j)\n",
      "a'01'b'10' (0.41463911740062676+0.16377546743839544j)\n",
      "a'10'b'01' (-0.4422799709909502+0.3172576946978844j)\n",
      "a'10'b'10' (0.6637737459222839+0.21429631053921616j)\n",
      "Sector N = 2 : S_z = 2\n",
      "a'11'b'00' (-0.07442437560674867+0.9972266604516478j)\n"
     ]
    }
   ],
   "source": [
    "progress = fqe.Wavefunction([], broken=None)\n",
    "progress.read('random_wavefunction')\n",
    "# progress.read('random_wavefunction', path='/home/google/wavefunctions')\n",
    "progress.print_wfn()"
   ]
  },
  {
   "cell_type": "code",
   "execution_count": null,
   "metadata": {},
   "outputs": [],
   "source": []
  }
 ],
 "metadata": {
  "kernelspec": {
   "display_name": "Python 3",
   "language": "python",
   "name": "python3"
  },
  "language_info": {
   "codemirror_mode": {
    "name": "ipython",
    "version": 3
   },
   "file_extension": ".py",
   "mimetype": "text/x-python",
   "name": "python",
   "nbconvert_exporter": "python",
   "pygments_lexer": "ipython3",
   "version": "3.7.3"
  }
 },
 "nbformat": 4,
 "nbformat_minor": 2
}
