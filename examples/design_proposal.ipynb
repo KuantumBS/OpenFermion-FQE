{
 "cells": [
  {
   "cell_type": "markdown",
   "metadata": {},
   "source": [
    "# OpenFermion Fermionic Quantum Emulator \n",
    "## Phase I Design Proposal\n",
    "\n",
    "This document outlines the functionality of the API for the OpenFermion Fermionic Quantum Emulator as defined in the design proposal.\n",
    "\n",
    " The code is covered and tested with pytest-cov at 99%. Toggle the print option to see output."
   ]
  },
  {
   "cell_type": "code",
   "execution_count": 2,
   "metadata": {},
   "outputs": [],
   "source": [
    "fqeprint = True"
   ]
  },
  {
   "cell_type": "markdown",
   "metadata": {},
   "source": [
    "### 2.A.2 API for data conversion between OpenFermion's backend and OpenFermion-FQE\n",
    "The API supports data conversion between native Cirq wavefunctions and the FQE wavefunction for arbitrary particle number and spin configuration.  A linequbit wavefunction result is a normalized numpy array."
   ]
  },
  {
   "cell_type": "code",
   "execution_count": 3,
   "metadata": {},
   "outputs": [
    {
     "name": "stdout",
     "output_type": "stream",
     "text": [
      "Inital wavefunction is \n",
      " [-0.00176808+0.2826661j  -0.14123131+0.008422j   -0.0953294 +0.21192858j\n",
      "  0.06359234+0.11356124j  0.23168676-0.05730962j -0.2716447 -0.13480759j\n",
      " -0.07564119+0.07610556j -0.13439253+0.5034181j  -0.18308303-0.15851946j\n",
      " -0.20814021-0.07259662j  0.02144353+0.04388449j  0.04466553+0.09139249j\n",
      " -0.04765405+0.22987317j -0.10665143+0.22184473j -0.07224102-0.22913909j\n",
      "  0.00032615+0.32219037j] \n",
      " with norm (1+0j)\n",
      "\n",
      "Configuration nelectrons: 0 m_s: 0\n",
      "Vector : 0\n",
      " a'00'b'00' : (-0.0017680843593552709+0.28266608715057373j)\n",
      "\n",
      "Configuration nelectrons: 1 m_s: -1\n",
      "Vector : 0\n",
      " a'00'b'01' : (0.2316867560148239-0.05730962008237839j)\n",
      " a'00'b'10' : (-0.14123131334781647+0.008421998471021652j)\n",
      "\n",
      "Configuration nelectrons: 1 m_s: 1\n",
      "Vector : 0\n",
      " a'01'b'00' : (-0.18308302760124207-0.1585194617509842j)\n",
      " a'10'b'00' : (-0.0953293964266777+0.2119285762310028j)\n",
      "\n",
      "Configuration nelectrons: 2 m_s: -2\n",
      "Vector : 0\n",
      " a'00'b'11' : (-0.2716447114944458-0.13480758666992188j)\n",
      "\n",
      "Configuration nelectrons: 2 m_s: 0\n",
      "Vector : 0\n",
      " a'01'b'01' : (-0.04765404760837555+0.2298731654882431j)\n",
      " a'01'b'10' : (-0.20814020931720734-0.07259662449359894j)\n",
      " a'10'b'01' : (0.0756411924958229-0.07610555738210678j)\n",
      " a'10'b'10' : (0.0635923445224762+0.1135612353682518j)\n",
      "\n",
      "Configuration nelectrons: 2 m_s: 2\n",
      "Vector : 0\n",
      " a'11'b'00' : (0.021443530917167664+0.04388448968529701j)\n",
      "\n",
      "Configuration nelectrons: 3 m_s: -1\n",
      "Vector : 0\n",
      " a'01'b'11' : (-0.1066514328122139+0.22184473276138306j)\n",
      " a'10'b'11' : (0.13439252972602844-0.5034180879592896j)\n",
      "\n",
      "Configuration nelectrons: 3 m_s: 1\n",
      "Vector : 0\n",
      " a'11'b'01' : (0.07224102318286896+0.22913908958435059j)\n",
      " a'11'b'10' : (0.04466553404927254+0.09139248728752136j)\n",
      "\n",
      "Configuration nelectrons: 4 m_s: 0\n",
      "Vector : 0\n",
      " a'11'b'11' : (-0.00032614642987027764-0.32219037413597107j)\n"
     ]
    }
   ],
   "source": [
    "import fqe\n",
    "import numpy\n",
    "import cirq\n",
    "\n",
    "nqubit = 4\n",
    "\n",
    "cirq_wfn = fqe.util.rand_wfn(2**nqubit).astype(numpy.complex64)\n",
    "wfn_from_cirq = fqe.from_cirq(cirq_wfn, 0.0001)\n",
    "\n",
    "if fqeprint:\n",
    "    print('Inital wavefunction is \\n {} \\n with norm {}'.format(cirq_wfn, numpy.vdot(cirq_wfn, cirq_wfn)))\n",
    "    wfn_from_cirq.print_wfn()"
   ]
  },
  {
   "cell_type": "markdown",
   "metadata": {},
   "source": [
    "### 2.A.3 Initialization of wave functions\n",
    "FQE wave functions can be initialized by calling the constructor directly. fqe.get_wavefunction and get_wavefunction_mutltiple are utility wrappers that provide wrappers for common initialization motifs. e.g. get_spin_nonconserving_wavefunction will build a wavefunction that permits spin breaking Operators to be applied while get_wavefunction_multiple will return a list of initialize wavefunctions"
   ]
  },
  {
   "cell_type": "code",
   "execution_count": 4,
   "metadata": {},
   "outputs": [],
   "source": [
    "wfFqe = fqe.Wavefunction([[4, -2, 10]])\n",
    "wfFqe = fqe.get_wavefunction(4, -2, 10)"
   ]
  },
  {
   "cell_type": "code",
   "execution_count": 5,
   "metadata": {},
   "outputs": [],
   "source": [
    "n = 3\n",
    "m = -2\n",
    "wfFQE = fqe.Wavefunction([[n, m, 10], [n+1, m+2, 10]])\n",
    "wfFQE = fqe.get_wavefunction_multiple([[4, 0, 10], [5, -5, 10]])"
   ]
  },
  {
   "cell_type": "code",
   "execution_count": 6,
   "metadata": {},
   "outputs": [
    {
     "name": "stdout",
     "output_type": "stream",
     "text": [
      "\n",
      "Configuration nelectrons: 2 m_s: 0\n",
      "Vector : 0\n",
      " a'0001'b'0001' : (0.1321912258863449+0.2478310614824295j)\n",
      " a'0001'b'0010' : (-0.3915639817714691+0.10769174247980118j)\n",
      " a'0001'b'0100' : (-0.16823995113372803-0.19465914368629456j)\n",
      " a'0001'b'1000' : (-0.32013314962387085+0.14106538891792297j)\n",
      " a'0010'b'0001' : (-0.07473369687795639-0.22307895123958588j)\n",
      " a'0010'b'0010' : (-0.34121984243392944+0.17437410354614258j)\n",
      " a'0010'b'0100' : (0.1934564709663391+0.04763473942875862j)\n",
      " a'0010'b'1000' : (-0.29369011521339417-0.1090521588921547j)\n",
      " a'0100'b'0001' : (-0.040231697261333466+0.04645397514104843j)\n",
      " a'0100'b'0010' : (0.24862094223499298+0.0076537709683179855j)\n",
      " a'0100'b'0100' : (0.00208487780764699-0.0010802372125908732j)\n",
      " a'0100'b'1000' : (0.11801540106534958-0.01888784021139145j)\n",
      " a'1000'b'0001' : (-0.04116491228342056-0.10742396116256714j)\n",
      " a'1000'b'0010' : (0.037345319986343384+0.02972235158085823j)\n",
      " a'1000'b'0100' : (0.3301687240600586-0.10125236213207245j)\n",
      " a'1000'b'1000' : (0.03931506723165512-0.10638335347175598j)\n"
     ]
    }
   ],
   "source": [
    "wfFQE = fqe.get_spin_nonconserving_wavefunction(2)\n",
    "wfFQE.set_wfn(strategy='random')\n",
    "if fqeprint:\n",
    "    wfFQE.print_wfn()"
   ]
  },
  {
   "cell_type": "markdown",
   "metadata": {},
   "source": [
    "### 2.A.4 Element access\n",
    "\n",
    "Element access is modified from the original propsal to add more convient getter and setter functionalities.  The orginally proposed methods are availible with an addition function to add a value to an existing element."
   ]
  },
  {
   "cell_type": "code",
   "execution_count": 7,
   "metadata": {},
   "outputs": [
    {
     "name": "stdout",
     "output_type": "stream",
     "text": [
      "(3.1415927410125732-0j)\n"
     ]
    }
   ],
   "source": [
    "wfFQE.set_ele(1, 8, .14159265359j)\n",
    "wfFQE.add_ele(1, 8, 3.j)\n",
    "imaginary_pi = wfFQE.get_ele(1, 8)\n",
    "if fqeprint:\n",
    "    print(-imaginary_pi*1.j)"
   ]
  },
  {
   "cell_type": "markdown",
   "metadata": {},
   "source": [
    "The new components not originally in the proposal allow access of entire vectors for getting and setting methods."
   ]
  },
  {
   "cell_type": "code",
   "execution_count": 8,
   "metadata": {},
   "outputs": [
    {
     "name": "stdout",
     "output_type": "stream",
     "text": [
      "[[-0.04765405+0.22987317j  0.        +0.j        ]\n",
      " [-0.20814021-0.07259662j  0.        +0.j        ]\n",
      " [ 0.07564119-0.07610556j  0.        +0.j        ]\n",
      " [ 0.06359234+0.11356124j  0.        +0.j        ]]\n"
     ]
    }
   ],
   "source": [
    "interesting_states = wfn_from_cirq.get_coeff((2, 0), vec=[0,2])\n",
    "if fqeprint:\n",
    "    print(interesting_states)"
   ]
  },
  {
   "cell_type": "code",
   "execution_count": 9,
   "metadata": {},
   "outputs": [
    {
     "name": "stdout",
     "output_type": "stream",
     "text": [
      "[[ 0.03560412+0.17520744j  0.73      -0.23000002j]\n",
      " [-0.16747713+0.01162443j  0.73      -0.23000002j]\n",
      " [ 0.03011717-0.07596625j  0.73      -0.23000002j]\n",
      " [ 0.07858302+0.06041516j  0.73      -0.23000002j]]\n"
     ]
    }
   ],
   "source": [
    "interesting_states[:, 1] += 1. + .1j\n",
    "interesting_states *= .7 - .3j\n",
    "if fqeprint:\n",
    "    print(interesting_states)"
   ]
  },
  {
   "cell_type": "code",
   "execution_count": 10,
   "metadata": {},
   "outputs": [
    {
     "name": "stdout",
     "output_type": "stream",
     "text": [
      "\n",
      "Configuration nelectrons: 0 m_s: 0\n",
      "Vector : 0\n",
      " a'00'b'00' : (-0.0017680843593552709+0.28266608715057373j)\n",
      "\n",
      "Configuration nelectrons: 1 m_s: -1\n",
      "Vector : 0\n",
      " a'00'b'01' : (0.2316867560148239-0.05730962008237839j)\n",
      " a'00'b'10' : (-0.14123131334781647+0.008421998471021652j)\n",
      "\n",
      "Configuration nelectrons: 1 m_s: 1\n",
      "Vector : 0\n",
      " a'01'b'00' : (-0.18308302760124207-0.1585194617509842j)\n",
      " a'10'b'00' : (-0.0953293964266777+0.2119285762310028j)\n",
      "\n",
      "Configuration nelectrons: 2 m_s: -2\n",
      "Vector : 0\n",
      " a'00'b'11' : (-0.2716447114944458-0.13480758666992188j)\n",
      "\n",
      "Configuration nelectrons: 2 m_s: 0\n",
      "Vector : 0\n",
      " a'01'b'01' : (0.035604123026132584+0.17520743608474731j)\n",
      " a'01'b'10' : (-0.16747713088989258+0.011624429374933243j)\n",
      " a'10'b'01' : (0.03011716529726982-0.0759662464261055j)\n",
      " a'10'b'10' : (0.0785830169916153+0.06041516363620758j)\n",
      "\n",
      "Configuration nelectrons: 2 m_s: 2\n",
      "Vector : 0\n",
      " a'11'b'00' : (0.021443530917167664+0.04388448968529701j)\n",
      "\n",
      "Configuration nelectrons: 3 m_s: -1\n",
      "Vector : 0\n",
      " a'01'b'11' : (-0.1066514328122139+0.22184473276138306j)\n",
      " a'10'b'11' : (0.13439252972602844-0.5034180879592896j)\n",
      "\n",
      "Configuration nelectrons: 3 m_s: 1\n",
      "Vector : 0\n",
      " a'11'b'01' : (0.07224102318286896+0.22913908958435059j)\n",
      " a'11'b'10' : (0.04466553404927254+0.09139248728752136j)\n",
      "\n",
      "Configuration nelectrons: 4 m_s: 0\n",
      "Vector : 0\n",
      " a'11'b'11' : (-0.00032614642987027764-0.32219037413597107j)\n"
     ]
    }
   ],
   "source": [
    "data = {}\n",
    "data[(2, 0)] = interesting_states\n",
    "wfn_from_cirq.set_wfn(vrange=[0, 2], strategy='from_data', raw_data=data)\n",
    "if fqeprint:\n",
    "    wfn_from_cirq.print_wfn()"
   ]
  },
  {
   "cell_type": "markdown",
   "metadata": {},
   "source": [
    "### 2.A.5 Printing/Saving\n",
    "\n",
    "Printing is currently availible as alpha beta strings followed by the coefficient as well as orbital occupation representation."
   ]
  },
  {
   "cell_type": "code",
   "execution_count": 11,
   "metadata": {},
   "outputs": [
    {
     "name": "stdout",
     "output_type": "stream",
     "text": [
      "String forrmatting\n",
      "\n",
      "Configuration nelectrons: 0 m_s: 0\n",
      "Vector : 0\n",
      " a'00'b'00' : (-0.0017680843593552709+0.28266608715057373j)\n",
      "\n",
      "Configuration nelectrons: 1 m_s: -1\n",
      "Vector : 0\n",
      " a'00'b'01' : (0.2316867560148239-0.05730962008237839j)\n",
      " a'00'b'10' : (-0.14123131334781647+0.008421998471021652j)\n",
      "\n",
      "Configuration nelectrons: 1 m_s: 1\n",
      "Vector : 0\n",
      " a'01'b'00' : (-0.18308302760124207-0.1585194617509842j)\n",
      " a'10'b'00' : (-0.0953293964266777+0.2119285762310028j)\n",
      "\n",
      "Configuration nelectrons: 2 m_s: -2\n",
      "Vector : 0\n",
      " a'00'b'11' : (-0.2716447114944458-0.13480758666992188j)\n",
      "\n",
      "Configuration nelectrons: 2 m_s: 0\n",
      "Vector : 0\n",
      " a'01'b'01' : (0.035604123026132584+0.17520743608474731j)\n",
      " a'01'b'10' : (-0.16747713088989258+0.011624429374933243j)\n",
      " a'10'b'01' : (0.03011716529726982-0.0759662464261055j)\n",
      " a'10'b'10' : (0.0785830169916153+0.06041516363620758j)\n",
      "\n",
      "Configuration nelectrons: 2 m_s: 2\n",
      "Vector : 0\n",
      " a'11'b'00' : (0.021443530917167664+0.04388448968529701j)\n",
      "\n",
      "Configuration nelectrons: 3 m_s: -1\n",
      "Vector : 0\n",
      " a'01'b'11' : (-0.1066514328122139+0.22184473276138306j)\n",
      " a'10'b'11' : (0.13439252972602844-0.5034180879592896j)\n",
      "\n",
      "Configuration nelectrons: 3 m_s: 1\n",
      "Vector : 0\n",
      " a'11'b'01' : (0.07224102318286896+0.22913908958435059j)\n",
      " a'11'b'10' : (0.04466553404927254+0.09139248728752136j)\n",
      "\n",
      "Configuration nelectrons: 4 m_s: 0\n",
      "Vector : 0\n",
      " a'11'b'11' : (-0.00032614642987027764-0.32219037413597107j)\n",
      "\n",
      " Occupation forrmatting\n",
      "\n",
      "Configuration nelectrons: 0 m_s: 0\n",
      "Vector : 0\n",
      " .. : (-0.0017680843593552709+0.28266608715057373j)\n",
      "\n",
      "Configuration nelectrons: 1 m_s: -1\n",
      "Vector : 0\n",
      " .b : (0.2316867560148239-0.05730962008237839j)\n",
      " b. : (-0.14123131334781647+0.008421998471021652j)\n",
      "\n",
      "Configuration nelectrons: 1 m_s: 1\n",
      "Vector : 0\n",
      " .a : (-0.18308302760124207-0.1585194617509842j)\n",
      " a. : (-0.0953293964266777+0.2119285762310028j)\n",
      "\n",
      "Configuration nelectrons: 2 m_s: -2\n",
      "Vector : 0\n",
      " bb : (-0.2716447114944458-0.13480758666992188j)\n",
      "\n",
      "Configuration nelectrons: 2 m_s: 0\n",
      "Vector : 0\n",
      " .2 : (0.035604123026132584+0.17520743608474731j)\n",
      " ba : (-0.16747713088989258+0.011624429374933243j)\n",
      " ab : (0.03011716529726982-0.0759662464261055j)\n",
      " 2. : (0.0785830169916153+0.06041516363620758j)\n",
      "\n",
      "Configuration nelectrons: 2 m_s: 2\n",
      "Vector : 0\n",
      " aa : (0.021443530917167664+0.04388448968529701j)\n",
      "\n",
      "Configuration nelectrons: 3 m_s: -1\n",
      "Vector : 0\n",
      " b2 : (-0.1066514328122139+0.22184473276138306j)\n",
      " 2b : (0.13439252972602844-0.5034180879592896j)\n",
      "\n",
      "Configuration nelectrons: 3 m_s: 1\n",
      "Vector : 0\n",
      " a2 : (0.07224102318286896+0.22913908958435059j)\n",
      " 2a : (0.04466553404927254+0.09139248728752136j)\n",
      "\n",
      "Configuration nelectrons: 4 m_s: 0\n",
      "Vector : 0\n",
      " 22 : (-0.00032614642987027764-0.32219037413597107j)\n"
     ]
    }
   ],
   "source": [
    "print('String forrmatting')\n",
    "wfn_from_cirq.print_wfn(fmt='str')\n",
    "print('\\n Occupation forrmatting')\n",
    "wfn_from_cirq.print_wfn(fmt='occ')"
   ]
  },
  {
   "cell_type": "markdown",
   "metadata": {},
   "source": [
    "### 2.A.6 Fermionic algebra operations and their unitaries on the state\n",
    "\n",
    "FermionOperators can be directly passed in to create a newwavefunction based on application of the operators."
   ]
  },
  {
   "cell_type": "code",
   "execution_count": 12,
   "metadata": {},
   "outputs": [],
   "source": [
    "from openfermion import FermionOperator\n",
    "ops = FermionOperator('2^ 0', 1.2)\n",
    "new_wfn = wfn_from_cirq.apply(ops)"
   ]
  },
  {
   "cell_type": "code",
   "execution_count": 13,
   "metadata": {},
   "outputs": [
    {
     "name": "stdout",
     "output_type": "stream",
     "text": [
      "\n",
      "Configuration nelectrons: 2 m_s: 0\n",
      "Vector : 0\n",
      " a'0001'b'0001' : (0.1321912258863449+0.2478310614824295j)\n",
      " a'0001'b'0010' : (-0.3915639817714691+0.10769174247980118j)\n",
      " a'0001'b'0100' : (-0.16823995113372803-0.19465914368629456j)\n",
      " a'0001'b'1000' : 3.1415927410125732j\n",
      " a'0010'b'0001' : (-0.07473369687795639-0.22307895123958588j)\n",
      " a'0010'b'0010' : (-0.34121984243392944+0.17437410354614258j)\n",
      " a'0010'b'0100' : (0.1934564709663391+0.04763473942875862j)\n",
      " a'0010'b'1000' : (-0.29369011521339417-0.1090521588921547j)\n",
      " a'0100'b'0001' : (-0.040231697261333466+0.04645397514104843j)\n",
      " a'0100'b'0010' : (0.24862094223499298+0.0076537709683179855j)\n",
      " a'0100'b'0100' : (0.00208487780764699-0.0010802372125908732j)\n",
      " a'0100'b'1000' : (0.11801540106534958-0.01888784021139145j)\n",
      " a'1000'b'0001' : (-0.04116491228342056-0.10742396116256714j)\n",
      " a'1000'b'0010' : (0.037345319986343384+0.02972235158085823j)\n",
      " a'1000'b'0100' : (0.3301687240600586-0.10125236213207245j)\n",
      " a'1000'b'1000' : (0.03931506723165512-0.10638335347175598j)\n",
      "\n",
      "Configuration nelectrons: 2 m_s: 0\n",
      "Vector : 0\n",
      " a'0001'b'0001' : (0.1321912258863449+0.2478310614824295j)\n",
      " a'0001'b'0010' : (-0.3915639817714691+0.10769174247980118j)\n",
      " a'0001'b'0100' : (-0.16823995113372803-0.19465914368629456j)\n",
      " a'0001'b'1000' : 3.1415927410125732j\n"
     ]
    }
   ],
   "source": [
    "new_wfn = fqe.apply(FermionOperator('0^ 0', 1.0), wfFQE)\n",
    "if fqeprint:\n",
    "    wfFQE.print_wfn()\n",
    "    new_wfn.print_wfn()"
   ]
  },
  {
   "cell_type": "markdown",
   "metadata": {},
   "source": [
    "The fqe has vdot functionality to get an inner product and provides a way to do completely general expectation values."
   ]
  },
  {
   "cell_type": "code",
   "execution_count": 14,
   "metadata": {},
   "outputs": [
    {
     "name": "stdout",
     "output_type": "stream",
     "text": [
      "(0.1700136959552765+0j)\n"
     ]
    }
   ],
   "source": [
    "ops = FermionOperator('2^ 2', 0.5)\n",
    "opexpec = fqe.vdot(wfFQE, wfFQE.apply(ops))\n",
    "if fqeprint:\n",
    "    print(opexpec)"
   ]
  },
  {
   "cell_type": "code",
   "execution_count": 15,
   "metadata": {},
   "outputs": [
    {
     "name": "stdout",
     "output_type": "stream",
     "text": [
      "(0.1700136959552765+0j)\n"
     ]
    }
   ],
   "source": [
    "ops = FermionOperator('2^ 2', 0.5)\n",
    "opexpec = fqe.vdot(wfFQE, fqe.apply(ops, wfFQE))\n",
    "if fqeprint:\n",
    "    print(opexpec)"
   ]
  },
  {
   "cell_type": "markdown",
   "metadata": {},
   "source": [
    "We can also do general unitary application of operators.  One slight modification to the proposal is that the operator passed in should Hermetian and not anti-Hermitian as stated before."
   ]
  },
  {
   "cell_type": "code",
   "execution_count": 16,
   "metadata": {},
   "outputs": [
    {
     "name": "stdout",
     "output_type": "stream",
     "text": [
      "\n",
      "Configuration nelectrons: 2 m_s: 0\n",
      "Vector : 0\n",
      " a'0001'b'0001' : (0.1321912258863449+0.2478310614824295j)\n",
      " a'0001'b'0010' : (-0.3915639817714691+0.10769174247980118j)\n",
      " a'0001'b'0100' : (-0.16823995113372803-0.19465914368629456j)\n",
      " a'0001'b'1000' : 3.1415927410125732j\n",
      " a'0010'b'0001' : (-0.07473369687795639-0.22307895123958588j)\n",
      " a'0010'b'0010' : (-0.34121984243392944+0.17437410354614258j)\n",
      " a'0010'b'0100' : (0.1934564709663391+0.04763473942875862j)\n",
      " a'0010'b'1000' : (-0.29369011521339417-0.1090521588921547j)\n",
      " a'0100'b'0001' : (-0.040231697261333466+0.04645397514104843j)\n",
      " a'0100'b'0010' : (0.24862094223499298+0.0076537709683179855j)\n",
      " a'0100'b'0100' : (0.00208487780764699-0.0010802372125908732j)\n",
      " a'0100'b'1000' : (0.11801540106534958-0.01888784021139145j)\n",
      " a'1000'b'0001' : (-0.04116491228342056-0.10742396116256714j)\n",
      " a'1000'b'0010' : (0.037345319986343384+0.02972235158085823j)\n",
      " a'1000'b'0100' : (0.3301687240600586-0.10125236213207245j)\n",
      " a'1000'b'1000' : (0.03931506723165512-0.10638335347175598j)\n",
      "\n",
      "Configuration nelectrons: 2 m_s: 0\n",
      "Vector : 0\n",
      " a'0001'b'0001' : (0.017722204327583313+0.05522312596440315j)\n",
      " a'0001'b'0010' : (-0.1319054812192917+0.066720150411129j)\n",
      " a'0001'b'0100' : (-0.027853749692440033-0.06284314393997192j)\n",
      " a'0001'b'1000' : (-0.03280709683895111+0.9044499397277832j)\n",
      " a'0010'b'0001' : (-0.01837322488427162-0.09375396370887756j)\n",
      " a'0010'b'0010' : (-0.0559023953974247+0.06350159645080566j)\n",
      " a'0010'b'0100' : (0.0586613304913044+0.041068967431783676j)\n",
      " a'0010'b'1000' : (0.10370847582817078-0.3124276101589203j)\n",
      " a'0100'b'0001' : (-0.012272139079868793+0.014170161448419094j)\n",
      " a'0100'b'0010' : (0.07583848387002945+0.002334680175408721j)\n",
      " a'0100'b'1000' : (0.03599901497364044-0.005761482287198305j)\n",
      " a'1000'b'0001' : (-0.012556803412735462-0.032768238335847855j)\n",
      " a'1000'b'0010' : (0.011391688138246536+0.009066404774785042j)\n",
      " a'1000'b'0100' : (0.10071353614330292-0.03088567405939102j)\n",
      " a'1000'b'1000' : (0.011992533691227436-0.03245081380009651j)\n",
      "\n",
      "Configuration nelectrons: 2 m_s: 0\n",
      "Vector : 0\n",
      " a'0001'b'0001' : (0.017722204327583313+0.05522312596440315j)\n",
      " a'0001'b'0010' : (-0.1319054812192917+0.066720150411129j)\n",
      " a'0001'b'0100' : (-0.027853749692440033-0.06284314393997192j)\n",
      " a'0001'b'1000' : (-0.03280709683895111+0.9044499397277832j)\n",
      " a'0010'b'0001' : (-0.01837322488427162-0.09375396370887756j)\n",
      " a'0010'b'0010' : (-0.0559023953974247+0.06350159645080566j)\n",
      " a'0010'b'0100' : (0.0586613304913044+0.041068967431783676j)\n",
      " a'0010'b'1000' : (0.10370847582817078-0.3124276101589203j)\n",
      " a'0100'b'0001' : (-0.012272139079868793+0.014170161448419094j)\n",
      " a'0100'b'0010' : (0.07583848387002945+0.002334680175408721j)\n",
      " a'0100'b'1000' : (0.03599901497364044-0.005761482287198305j)\n",
      " a'1000'b'0001' : (-0.012556803412735462-0.032768238335847855j)\n",
      " a'1000'b'0010' : (0.011391688138246536+0.009066404774785042j)\n",
      " a'1000'b'0100' : (0.10071353614330292-0.03088567405939102j)\n",
      " a'1000'b'1000' : (0.011992533691227436-0.03245081380009651j)\n"
     ]
    }
   ],
   "source": [
    "ops = FermionOperator('2^ 0', 0.2 - .3j) + FermionOperator('0^ 2', 0.2 + .3j)\n",
    "wfFQE.print_wfn()\n",
    "wfFQE2 = wfFQE.apply_generated_unitary(ops, algo='taylor')\n",
    "wfFQE2.print_wfn()\n",
    "ops = FermionOperator('2^ 0', 0.2 - .3j) + FermionOperator('0^ 2', 0.2 + .3j)\n",
    "wfFQE2 = fqe.apply_generated_unitary(ops, wfFQE, algo='taylor')\n",
    "wfFQE2.print_wfn()"
   ]
  },
  {
   "cell_type": "markdown",
   "metadata": {},
   "source": [
    "### 3.B.1 Hamiltonian data structure\n",
    "\n",
    "Hamiltonians can be incorporated from OpenFermion objects or initialized from numpy arrays.  Notice a slight change in the arguments to get_two_body to include a constant potential term and additionally a chemical potential to be consistent with OpenFermion."
   ]
  },
  {
   "cell_type": "code",
   "execution_count": 17,
   "metadata": {},
   "outputs": [],
   "source": [
    "from openfermion import get_quadratic_hamiltonian\n",
    "ops = FermionOperator((), 1.) + FermionOperator('1^ 1', 3.) + FermionOperator('1^ 2', 3. + 4.j) + FermionOperator('2^ 1', 3. - 4.j) + FermionOperator('3^ 4', 2. + 5.j) + FermionOperator('4^ 3', 2. - 5.j)\n",
    "hamOF = get_quadratic_hamiltonian(ops, -0.03)\n",
    "hamFQE = fqe.get_hamiltonian_from_openfermion(hamOF)\n",
    "hamFQE = fqe.get_quadratic_hamiltonian(ops, -0.03)"
   ]
  },
  {
   "cell_type": "markdown",
   "metadata": {},
   "source": [
    "Symmetry is passed in by lists containing permutation operations, a phase and whether or not complex conjugation is used.  Below are examples of a Hermetian matrix and a real anti-symmetric matrix."
   ]
  },
  {
   "cell_type": "code",
   "execution_count": 18,
   "metadata": {},
   "outputs": [],
   "source": [
    "e = 1.0\n",
    "t = numpy.random.rand(4, 4) + numpy.random.rand(4, 4)*1.j\n",
    "h = t + numpy.conjugate(t.T)\n",
    "symmh = [\n",
    "    [[1, 2], 1.0, False],\n",
    "    [[2, 1], 1.0, True]\n",
    "]\n",
    "t = numpy.random.rand(4, 4, 4, 4)\n",
    "g = t - t.T\n",
    "symmg = [\n",
    "    [[1, 2, 3, 4], 1.0, True],\n",
    "    [[4, 3, 2, 1], -1.0, True]\n",
    "]\n",
    "hamFQE = fqe.get_two_body_hamiltonian(-0.3, h, g, 0.0, symmh, symmg)"
   ]
  },
  {
   "cell_type": "markdown",
   "metadata": {},
   "source": [
    "The FQE will also return PolynomialTensor objects for parsing by OpenFermion objects."
   ]
  },
  {
   "cell_type": "code",
   "execution_count": 19,
   "metadata": {},
   "outputs": [],
   "source": [
    "hamOF = fqe.hamiltonian_to_openfermion(hamFQE)"
   ]
  },
  {
   "cell_type": "markdown",
   "metadata": {},
   "source": [
    "### Saving and Loading Wavefunctions\n",
    "\n",
    "Saving or loading a wavefunction is accomplished by passing a file name to the API and optionally a path to that filename.  If no path is given, the current working directory will be used.  If a path is used, the file will be searched for as\n",
    "\n",
    "path + '/' + filename"
   ]
  },
  {
   "cell_type": "code",
   "execution_count": 20,
   "metadata": {},
   "outputs": [
    {
     "name": "stdout",
     "output_type": "stream",
     "text": [
      "\n",
      "Configuration nelectrons: 2 m_s: -2\n",
      "Vector : 0\n",
      " a'00'b'11' : (-0.06611546128988266+0.9978119730949402j)\n",
      "\n",
      "Configuration nelectrons: 2 m_s: 0\n",
      "Vector : 0\n",
      " a'01'b'01' : (0.06242252141237259-0.26834747195243835j)\n",
      " a'01'b'10' : (-0.02466556988656521-0.525239109992981j)\n",
      " a'10'b'01' : (-0.04141179472208023+0.5503657460212708j)\n",
      " a'10'b'10' : (-0.5428369641304016+0.21981625258922577j)\n",
      "\n",
      "Configuration nelectrons: 2 m_s: 2\n",
      "Vector : 0\n",
      " a'11'b'00' : (0.7478063106536865+0.6639169454574585j)\n"
     ]
    }
   ],
   "source": [
    "wfnFqe = fqe.Wavefunction([[2, 2, 2], [2, 0, 2], [2, -2, 2]])\n",
    "wfnFqe.set_wfn(strategy='random')\n",
    "wfnFqe.print_wfn()"
   ]
  },
  {
   "cell_type": "code",
   "execution_count": 21,
   "metadata": {},
   "outputs": [],
   "source": [
    "wfnFqe.save('random_wavefunction')\n",
    "# wfnFqe.save('random_wavefunction', path='/home/google/wavefunctions')"
   ]
  },
  {
   "cell_type": "markdown",
   "metadata": {},
   "source": [
    "Once it is saved you can return to the wavefunction by creating new object and then 'read' the data into it with the same syntax."
   ]
  },
  {
   "cell_type": "code",
   "execution_count": 22,
   "metadata": {},
   "outputs": [
    {
     "name": "stdout",
     "output_type": "stream",
     "text": [
      "\n",
      "Configuration nelectrons: 2 m_s: -2\n",
      "Vector : 0\n",
      " a'00'b'11' : (-0.06611546128988266+0.9978119730949402j)\n",
      "\n",
      "Configuration nelectrons: 2 m_s: 0\n",
      "Vector : 0\n",
      " a'01'b'01' : (0.06242252141237259-0.26834747195243835j)\n",
      " a'01'b'10' : (-0.02466556988656521-0.525239109992981j)\n",
      " a'10'b'01' : (-0.04141179472208023+0.5503657460212708j)\n",
      " a'10'b'10' : (-0.5428369641304016+0.21981625258922577j)\n",
      "\n",
      "Configuration nelectrons: 2 m_s: 2\n",
      "Vector : 0\n",
      " a'11'b'00' : (0.7478063106536865+0.6639169454574585j)\n"
     ]
    }
   ],
   "source": [
    "progress = fqe.Wavefunction()\n",
    "progress.read('random_wavefunction')\n",
    "# progress.read('random_wavefunction', path='/home/google/wavefunctions')\n",
    "progress.print_wfn()"
   ]
  },
  {
   "cell_type": "code",
   "execution_count": null,
   "metadata": {},
   "outputs": [],
   "source": []
  }
 ],
 "metadata": {
  "kernelspec": {
   "display_name": "fqe_kernel",
   "language": "python",
   "name": "fqe_kernel"
  },
  "language_info": {
   "codemirror_mode": {
    "name": "ipython",
    "version": 3
   },
   "file_extension": ".py",
   "mimetype": "text/x-python",
   "name": "python",
   "nbconvert_exporter": "python",
   "pygments_lexer": "ipython3",
   "version": "3.7.3"
  }
 },
 "nbformat": 4,
 "nbformat_minor": 2
}
