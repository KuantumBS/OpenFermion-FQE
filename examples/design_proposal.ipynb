{
 "cells": [
  {
   "cell_type": "markdown",
   "metadata": {},
   "source": [
    "# OpenFermion Fermionic Quantum Emulator \n",
    "## Phase I Design Proposal\n",
    "\n",
    "This document outlines the functionality of the API for the OpenFermion Fermionic Quantum Emulator as defined in the design proposal.\n",
    "\n",
    " The code is covered and tested with pytest-cov at 99%. Toggle the print option to see output."
   ]
  },
  {
   "cell_type": "code",
   "execution_count": 24,
   "metadata": {},
   "outputs": [],
   "source": [
    "fqeprint = True"
   ]
  },
  {
   "cell_type": "markdown",
   "metadata": {},
   "source": [
    "### 2.A.2 API for data conversion between OpenFermion's backend and OpenFermion-FQE\n",
    "The API supports data conversion between native Cirq wavefunctions and the FQE wavefunction for arbitrary particle number and spin configuration.  A linequbit wavefunction result is a normalized numpy array."
   ]
  },
  {
   "cell_type": "code",
   "execution_count": 25,
   "metadata": {},
   "outputs": [
    {
     "name": "stdout",
     "output_type": "stream",
     "text": [
      "Inital wavefunction is \n",
      " [ 0.09645153+9.2140652e-02j  0.16145852-7.0114821e-02j\n",
      "  0.08239555+3.7468529e-01j  0.31179786-1.2040638e-01j\n",
      " -0.14026734+2.8639746e-01j -0.18464154+2.2202735e-01j\n",
      "  0.04735724-2.2589865e-01j  0.20174037+2.0686507e-01j\n",
      "  0.00361368-5.3627882e-02j -0.06807666+1.6205184e-01j\n",
      "  0.2513582 -2.5031602e-01j -0.15411828-1.7915983e-01j\n",
      " -0.01153528+8.9576833e-02j -0.14375174-3.4623015e-01j\n",
      " -0.04816512-2.3907801e-02j  0.05842811-1.0092586e-04j] \n",
      " with norm (1+0j)\n",
      "\n",
      "Configuration nelectrons: 0 m_s: 0\n",
      "Vector : 0\n",
      " a'00'b'00' : (0.0964515283703804+0.09214065223932266j)\n",
      "\n",
      "Configuration nelectrons: 1 m_s: -1\n",
      "Vector : 0\n",
      " a'00'b'01' : (-0.14026734232902527+0.28639745712280273j)\n",
      " a'00'b'10' : (0.16145852208137512-0.07011482119560242j)\n",
      "\n",
      "Configuration nelectrons: 1 m_s: 1\n",
      "Vector : 0\n",
      " a'01'b'00' : (0.0036136810667812824-0.05362788215279579j)\n",
      " a'10'b'00' : (0.08239555358886719+0.37468528747558594j)\n",
      "\n",
      "Configuration nelectrons: 2 m_s: -2\n",
      "Vector : 0\n",
      " a'00'b'11' : (-0.1846415400505066+0.22202734649181366j)\n",
      "\n",
      "Configuration nelectrons: 2 m_s: 0\n",
      "Vector : 0\n",
      " a'01'b'01' : (-0.011535278521478176+0.0895768329501152j)\n",
      " a'01'b'10' : (-0.06807665526866913+0.16205184161663055j)\n",
      " a'10'b'01' : (-0.047357238829135895+0.2258986532688141j)\n",
      " a'10'b'10' : (0.3117978572845459-0.1204063817858696j)\n",
      "\n",
      "Configuration nelectrons: 2 m_s: 2\n",
      "Vector : 0\n",
      " a'11'b'00' : (0.2513582110404968-0.2503160238265991j)\n",
      "\n",
      "Configuration nelectrons: 3 m_s: -1\n",
      "Vector : 0\n",
      " a'01'b'11' : (-0.14375174045562744-0.346230149269104j)\n",
      " a'10'b'11' : (-0.20174036920070648-0.2068650722503662j)\n",
      "\n",
      "Configuration nelectrons: 3 m_s: 1\n",
      "Vector : 0\n",
      " a'11'b'01' : (0.04816512390971184+0.023907801136374474j)\n",
      " a'11'b'10' : (-0.15411828458309174-0.17915983498096466j)\n",
      "\n",
      "Configuration nelectrons: 4 m_s: 0\n",
      "Vector : 0\n",
      " a'11'b'11' : (-0.05842811241745949+0.00010092586308019236j)\n"
     ]
    }
   ],
   "source": [
    "import fqe\n",
    "import numpy\n",
    "import cirq\n",
    "\n",
    "nqubit = 4\n",
    "\n",
    "cirq_wfn = fqe.util.rand_wfn(2**nqubit).astype(numpy.complex64)\n",
    "wfn_from_cirq = fqe.from_cirq(cirq_wfn, 0.0001)\n",
    "\n",
    "if fqeprint:\n",
    "    print('Inital wavefunction is \\n {} \\n with norm {}'.format(cirq_wfn, numpy.vdot(cirq_wfn, cirq_wfn)))\n",
    "    wfn_from_cirq.print_wfn()"
   ]
  },
  {
   "cell_type": "markdown",
   "metadata": {},
   "source": [
    "### 2.A.3 Initialization of wave functions\n",
    "FQE wave functions can be initialized by calling the constructor directly. fqe.get_wavefunction and get_wavefunction_mutltiple are utility wrappers that provide wrappers for common initialization motifs. e.g. get_spin_nonconserving_wavefunction will build a wavefunction that permits spin breaking Operators to be applied while get_wavefunction_multiple will return a list of initialize wavefunctions"
   ]
  },
  {
   "cell_type": "code",
   "execution_count": 26,
   "metadata": {},
   "outputs": [],
   "source": [
    "wfFqe = fqe.Wavefunction([[4, -2, 10]])\n",
    "wfFqe = fqe.get_wavefunction(4, -2, 10)"
   ]
  },
  {
   "cell_type": "code",
   "execution_count": 27,
   "metadata": {},
   "outputs": [],
   "source": [
    "n = 3\n",
    "m = -2\n",
    "wfFQE = fqe.Wavefunction([[n, m, 10], [n+1, m+2, 10]])\n",
    "wfFQE = fqe.get_wavefunction_multiple([[4, 0, 10], [5, -5, 10]])"
   ]
  },
  {
   "cell_type": "code",
   "execution_count": 28,
   "metadata": {},
   "outputs": [
    {
     "name": "stdout",
     "output_type": "stream",
     "text": [
      "\n",
      "Configuration nelectrons: 2 m_s: 0\n",
      "Vector : 0\n",
      " a'0001'b'0001' : (-0.04786796122789383-0.11286675930023193j)\n",
      " a'0001'b'0010' : (-0.15004976093769073-0.0017647177446633577j)\n",
      " a'0001'b'0100' : (-0.08476771414279938-0.007398678921163082j)\n",
      " a'0001'b'1000' : (-0.2784791886806488-0.09361627697944641j)\n",
      " a'0010'b'0001' : (0.08812709897756577+0.36353716254234314j)\n",
      " a'0010'b'0010' : (-0.05687916278839111-0.32680338621139526j)\n",
      " a'0010'b'0100' : (0.12052047997713089-0.08402305096387863j)\n",
      " a'0010'b'1000' : (0.14810921251773834+0.04006848484277725j)\n",
      " a'0100'b'0001' : (-0.22645647823810577+0.05994859337806702j)\n",
      " a'0100'b'0010' : (0.21680548787117004-0.1661015748977661j)\n",
      " a'0100'b'0100' : (0.0844455286860466-0.26342910528182983j)\n",
      " a'0100'b'1000' : (-0.1589016169309616+0.013544721528887749j)\n",
      " a'1000'b'0001' : (-0.09666130691766739-0.13439182937145233j)\n",
      " a'1000'b'0010' : (-0.11500085145235062+0.49070459604263306j)\n",
      " a'1000'b'0100' : (-0.04762822762131691-0.06598378717899323j)\n",
      " a'1000'b'1000' : (-0.2277396023273468-0.04970158264040947j)\n"
     ]
    }
   ],
   "source": [
    "wfFQE = fqe.get_spin_nonconserving_wavefunction(2)\n",
    "wfFQE.set_wfn(strategy='random')\n",
    "if fqeprint:\n",
    "    wfFQE.print_wfn()"
   ]
  },
  {
   "cell_type": "markdown",
   "metadata": {},
   "source": [
    "### 2.A.4 Element access\n",
    "\n",
    "Element access is modified from the original propsal to add more convient getter and setter functionalities.  The orginally proposed methods are availible with an addition function to add a value to an existing element."
   ]
  },
  {
   "cell_type": "code",
   "execution_count": 29,
   "metadata": {},
   "outputs": [
    {
     "name": "stdout",
     "output_type": "stream",
     "text": [
      "(3.1415927410125732-0j)\n"
     ]
    }
   ],
   "source": [
    "wfFQE.set_ele(1, 8, .14159265359j)\n",
    "wfFQE.add_ele(1, 8, 3.j)\n",
    "imaginary_pi = wfFQE.get_ele(1, 8)\n",
    "if fqeprint:\n",
    "    print(-imaginary_pi*1.j)"
   ]
  },
  {
   "cell_type": "markdown",
   "metadata": {},
   "source": [
    "The new components not originally in the proposal allow access of entire vectors for getting and setting methods."
   ]
  },
  {
   "cell_type": "code",
   "execution_count": 30,
   "metadata": {},
   "outputs": [
    {
     "name": "stdout",
     "output_type": "stream",
     "text": [
      "[[-0.01153528+0.08957683j  0.        +0.j        ]\n",
      " [-0.06807666+0.16205184j  0.        +0.j        ]\n",
      " [-0.04735724+0.22589865j  0.        +0.j        ]\n",
      " [ 0.31179786-0.12040638j  0.        +0.j        ]]\n"
     ]
    }
   ],
   "source": [
    "interesting_states = wfn_from_cirq.get_coeff((2, 0), vec=[0,2])\n",
    "if fqeprint:\n",
    "    print(interesting_states)"
   ]
  },
  {
   "cell_type": "code",
   "execution_count": 31,
   "metadata": {},
   "outputs": [
    {
     "name": "stdout",
     "output_type": "stream",
     "text": [
      "[[0.01879836+0.06616437j 0.73      -0.23000002j]\n",
      " [0.0009619 +0.13385929j 0.73      -0.23000002j]\n",
      " [0.03461954+0.17233622j 0.73      -0.23000002j]\n",
      " [0.18213658-0.17782383j 0.73      -0.23000002j]]\n"
     ]
    }
   ],
   "source": [
    "interesting_states[:, 1] += 1. + .1j\n",
    "interesting_states *= .7 - .3j\n",
    "if fqeprint:\n",
    "    print(interesting_states)"
   ]
  },
  {
   "cell_type": "code",
   "execution_count": 32,
   "metadata": {},
   "outputs": [
    {
     "name": "stdout",
     "output_type": "stream",
     "text": [
      "\n",
      "Configuration nelectrons: 0 m_s: 0\n",
      "Vector : 0\n",
      " a'00'b'00' : (0.0964515283703804+0.09214065223932266j)\n",
      "\n",
      "Configuration nelectrons: 1 m_s: -1\n",
      "Vector : 0\n",
      " a'00'b'01' : (-0.14026734232902527+0.28639745712280273j)\n",
      " a'00'b'10' : (0.16145852208137512-0.07011482119560242j)\n",
      "\n",
      "Configuration nelectrons: 1 m_s: 1\n",
      "Vector : 0\n",
      " a'01'b'00' : (0.0036136810667812824-0.05362788215279579j)\n",
      " a'10'b'00' : (0.08239555358886719+0.37468528747558594j)\n",
      "\n",
      "Configuration nelectrons: 2 m_s: -2\n",
      "Vector : 0\n",
      " a'00'b'11' : (-0.1846415400505066+0.22202734649181366j)\n",
      "\n",
      "Configuration nelectrons: 2 m_s: 0\n",
      "Vector : 0\n",
      " a'01'b'01' : (0.018798355013132095+0.06616436690092087j)\n",
      " a'01'b'10' : (0.0009618997573852539+0.1338592916727066j)\n",
      " a'10'b'01' : (0.0346195362508297+0.17233622074127197j)\n",
      " a'10'b'10' : (0.18213658034801483-0.17782382667064667j)\n",
      "\n",
      "Configuration nelectrons: 2 m_s: 2\n",
      "Vector : 0\n",
      " a'11'b'00' : (0.2513582110404968-0.2503160238265991j)\n",
      "\n",
      "Configuration nelectrons: 3 m_s: -1\n",
      "Vector : 0\n",
      " a'01'b'11' : (-0.14375174045562744-0.346230149269104j)\n",
      " a'10'b'11' : (-0.20174036920070648-0.2068650722503662j)\n",
      "\n",
      "Configuration nelectrons: 3 m_s: 1\n",
      "Vector : 0\n",
      " a'11'b'01' : (0.04816512390971184+0.023907801136374474j)\n",
      " a'11'b'10' : (-0.15411828458309174-0.17915983498096466j)\n",
      "\n",
      "Configuration nelectrons: 4 m_s: 0\n",
      "Vector : 0\n",
      " a'11'b'11' : (-0.05842811241745949+0.00010092586308019236j)\n"
     ]
    }
   ],
   "source": [
    "data = {}\n",
    "data[(2, 0)] = interesting_states\n",
    "wfn_from_cirq.set_wfn(vrange=[0, 2], strategy='from_data', raw_data=data)\n",
    "if fqeprint:\n",
    "    wfn_from_cirq.print_wfn()"
   ]
  },
  {
   "cell_type": "markdown",
   "metadata": {},
   "source": [
    "### 2.A.5 Printing/Saving\n",
    "\n",
    "Printing is currently availible as alpha beta strings followed by the coefficient as well as orbital occupation representation."
   ]
  },
  {
   "cell_type": "code",
   "execution_count": 33,
   "metadata": {},
   "outputs": [
    {
     "name": "stdout",
     "output_type": "stream",
     "text": [
      "String forrmatting\n",
      "\n",
      "Configuration nelectrons: 0 m_s: 0\n",
      "Vector : 0\n",
      " a'00'b'00' : (0.0964515283703804+0.09214065223932266j)\n",
      "\n",
      "Configuration nelectrons: 1 m_s: -1\n",
      "Vector : 0\n",
      " a'00'b'01' : (-0.14026734232902527+0.28639745712280273j)\n",
      " a'00'b'10' : (0.16145852208137512-0.07011482119560242j)\n",
      "\n",
      "Configuration nelectrons: 1 m_s: 1\n",
      "Vector : 0\n",
      " a'01'b'00' : (0.0036136810667812824-0.05362788215279579j)\n",
      " a'10'b'00' : (0.08239555358886719+0.37468528747558594j)\n",
      "\n",
      "Configuration nelectrons: 2 m_s: -2\n",
      "Vector : 0\n",
      " a'00'b'11' : (-0.1846415400505066+0.22202734649181366j)\n",
      "\n",
      "Configuration nelectrons: 2 m_s: 0\n",
      "Vector : 0\n",
      " a'01'b'01' : (0.018798355013132095+0.06616436690092087j)\n",
      " a'01'b'10' : (0.0009618997573852539+0.1338592916727066j)\n",
      " a'10'b'01' : (0.0346195362508297+0.17233622074127197j)\n",
      " a'10'b'10' : (0.18213658034801483-0.17782382667064667j)\n",
      "\n",
      "Configuration nelectrons: 2 m_s: 2\n",
      "Vector : 0\n",
      " a'11'b'00' : (0.2513582110404968-0.2503160238265991j)\n",
      "\n",
      "Configuration nelectrons: 3 m_s: -1\n",
      "Vector : 0\n",
      " a'01'b'11' : (-0.14375174045562744-0.346230149269104j)\n",
      " a'10'b'11' : (-0.20174036920070648-0.2068650722503662j)\n",
      "\n",
      "Configuration nelectrons: 3 m_s: 1\n",
      "Vector : 0\n",
      " a'11'b'01' : (0.04816512390971184+0.023907801136374474j)\n",
      " a'11'b'10' : (-0.15411828458309174-0.17915983498096466j)\n",
      "\n",
      "Configuration nelectrons: 4 m_s: 0\n",
      "Vector : 0\n",
      " a'11'b'11' : (-0.05842811241745949+0.00010092586308019236j)\n",
      "\n",
      " Occupation forrmatting\n",
      "\n",
      "Configuration nelectrons: 0 m_s: 0\n",
      "Vector : 0\n",
      " .. : (0.0964515283703804+0.09214065223932266j)\n",
      "\n",
      "Configuration nelectrons: 1 m_s: -1\n",
      "Vector : 0\n",
      " .b : (-0.14026734232902527+0.28639745712280273j)\n",
      " b. : (0.16145852208137512-0.07011482119560242j)\n",
      "\n",
      "Configuration nelectrons: 1 m_s: 1\n",
      "Vector : 0\n",
      " .a : (0.0036136810667812824-0.05362788215279579j)\n",
      " a. : (0.08239555358886719+0.37468528747558594j)\n",
      "\n",
      "Configuration nelectrons: 2 m_s: -2\n",
      "Vector : 0\n",
      " bb : (-0.1846415400505066+0.22202734649181366j)\n",
      "\n",
      "Configuration nelectrons: 2 m_s: 0\n",
      "Vector : 0\n",
      " .2 : (0.018798355013132095+0.06616436690092087j)\n",
      " ba : (0.0009618997573852539+0.1338592916727066j)\n",
      " ab : (0.0346195362508297+0.17233622074127197j)\n",
      " 2. : (0.18213658034801483-0.17782382667064667j)\n",
      "\n",
      "Configuration nelectrons: 2 m_s: 2\n",
      "Vector : 0\n",
      " aa : (0.2513582110404968-0.2503160238265991j)\n",
      "\n",
      "Configuration nelectrons: 3 m_s: -1\n",
      "Vector : 0\n",
      " b2 : (-0.14375174045562744-0.346230149269104j)\n",
      " 2b : (-0.20174036920070648-0.2068650722503662j)\n",
      "\n",
      "Configuration nelectrons: 3 m_s: 1\n",
      "Vector : 0\n",
      " a2 : (0.04816512390971184+0.023907801136374474j)\n",
      " 2a : (-0.15411828458309174-0.17915983498096466j)\n",
      "\n",
      "Configuration nelectrons: 4 m_s: 0\n",
      "Vector : 0\n",
      " 22 : (-0.05842811241745949+0.00010092586308019236j)\n"
     ]
    }
   ],
   "source": [
    "print('String forrmatting')\n",
    "wfn_from_cirq.print_wfn(fmt='str')\n",
    "print('\\n Occupation forrmatting')\n",
    "wfn_from_cirq.print_wfn(fmt='occ')"
   ]
  },
  {
   "cell_type": "markdown",
   "metadata": {},
   "source": [
    "### 2.A.6 Fermionic algebra operations and their unitaries on the state\n",
    "\n",
    "FermionOperators can be directly passed in to create a newwavefunction based on application of the operators."
   ]
  },
  {
   "cell_type": "code",
   "execution_count": 34,
   "metadata": {},
   "outputs": [],
   "source": [
    "from openfermion import FermionOperator\n",
    "ops = FermionOperator('2^ 0', 1.2)\n",
    "new_wfn = wfn_from_cirq.apply(ops)"
   ]
  },
  {
   "cell_type": "code",
   "execution_count": 35,
   "metadata": {},
   "outputs": [
    {
     "name": "stdout",
     "output_type": "stream",
     "text": [
      "\n",
      "Configuration nelectrons: 2 m_s: 0\n",
      "Vector : 0\n",
      " a'0001'b'0001' : (-0.04786796122789383-0.11286675930023193j)\n",
      " a'0001'b'0010' : (-0.15004976093769073-0.0017647177446633577j)\n",
      " a'0001'b'0100' : (-0.08476771414279938-0.007398678921163082j)\n",
      " a'0001'b'1000' : 3.1415927410125732j\n",
      " a'0010'b'0001' : (0.08812709897756577+0.36353716254234314j)\n",
      " a'0010'b'0010' : (-0.05687916278839111-0.32680338621139526j)\n",
      " a'0010'b'0100' : (0.12052047997713089-0.08402305096387863j)\n",
      " a'0010'b'1000' : (0.14810921251773834+0.04006848484277725j)\n",
      " a'0100'b'0001' : (-0.22645647823810577+0.05994859337806702j)\n",
      " a'0100'b'0010' : (0.21680548787117004-0.1661015748977661j)\n",
      " a'0100'b'0100' : (0.0844455286860466-0.26342910528182983j)\n",
      " a'0100'b'1000' : (-0.1589016169309616+0.013544721528887749j)\n",
      " a'1000'b'0001' : (-0.09666130691766739-0.13439182937145233j)\n",
      " a'1000'b'0010' : (-0.11500085145235062+0.49070459604263306j)\n",
      " a'1000'b'0100' : (-0.04762822762131691-0.06598378717899323j)\n",
      " a'1000'b'1000' : (-0.2277396023273468-0.04970158264040947j)\n",
      "\n",
      "Configuration nelectrons: 2 m_s: 0\n",
      "Vector : 0\n",
      " a'0001'b'0001' : (-0.04786796122789383-0.11286675930023193j)\n",
      " a'0001'b'0010' : (-0.15004976093769073-0.0017647177446633577j)\n",
      " a'0001'b'0100' : (-0.08476771414279938-0.007398678921163082j)\n",
      " a'0001'b'1000' : 3.1415927410125732j\n"
     ]
    }
   ],
   "source": [
    "new_wfn = fqe.apply(FermionOperator('0^ 0', 1.0), wfFQE)\n",
    "if fqeprint:\n",
    "    wfFQE.print_wfn()\n",
    "    new_wfn.print_wfn()"
   ]
  },
  {
   "cell_type": "markdown",
   "metadata": {},
   "source": [
    "The fqe has vdot functionality to get an inner product and provides a way to do completely general expectation values."
   ]
  },
  {
   "cell_type": "code",
   "execution_count": 36,
   "metadata": {},
   "outputs": [
    {
     "name": "stdout",
     "output_type": "stream",
     "text": [
      "(0.14754411578178406+0j)\n"
     ]
    }
   ],
   "source": [
    "ops = FermionOperator('2^ 2', 0.5)\n",
    "opexpec = fqe.vdot(wfFQE, wfFQE.apply(ops))\n",
    "if fqeprint:\n",
    "    print(opexpec)"
   ]
  },
  {
   "cell_type": "code",
   "execution_count": 37,
   "metadata": {},
   "outputs": [
    {
     "name": "stdout",
     "output_type": "stream",
     "text": [
      "(0.14754411578178406+0j)\n"
     ]
    }
   ],
   "source": [
    "ops = FermionOperator('2^ 2', 0.5)\n",
    "opexpec = fqe.vdot(wfFQE, fqe.apply(ops, wfFQE))\n",
    "if fqeprint:\n",
    "    print(opexpec)"
   ]
  },
  {
   "cell_type": "markdown",
   "metadata": {},
   "source": [
    "We can also do general unitary application of operators.  One slight modification to the proposal is that the operator passed in should Hermetian and not anti-Hermitian as stated before."
   ]
  },
  {
   "cell_type": "code",
   "execution_count": 38,
   "metadata": {},
   "outputs": [
    {
     "name": "stdout",
     "output_type": "stream",
     "text": [
      "\n",
      "Configuration nelectrons: 2 m_s: 0\n",
      "Vector : 0\n",
      " a'0001'b'0001' : (-0.04786796122789383-0.11286675930023193j)\n",
      " a'0001'b'0010' : (-0.15004976093769073-0.0017647177446633577j)\n",
      " a'0001'b'0100' : (-0.08476771414279938-0.007398678921163082j)\n",
      " a'0001'b'1000' : 3.1415927410125732j\n",
      " a'0010'b'0001' : (0.08812709897756577+0.36353716254234314j)\n",
      " a'0010'b'0010' : (-0.05687916278839111-0.32680338621139526j)\n",
      " a'0010'b'0100' : (0.12052047997713089-0.08402305096387863j)\n",
      " a'0010'b'1000' : (0.14810921251773834+0.04006848484277725j)\n",
      " a'0100'b'0001' : (-0.22645647823810577+0.05994859337806702j)\n",
      " a'0100'b'0010' : (0.21680548787117004-0.1661015748977661j)\n",
      " a'0100'b'0100' : (0.0844455286860466-0.26342910528182983j)\n",
      " a'0100'b'1000' : (-0.1589016169309616+0.013544721528887749j)\n",
      " a'1000'b'0001' : (-0.09666130691766739-0.13439182937145233j)\n",
      " a'1000'b'0010' : (-0.11500085145235062+0.49070459604263306j)\n",
      " a'1000'b'0100' : (-0.04762822762131691-0.06598378717899323j)\n",
      " a'1000'b'1000' : (-0.2277396023273468-0.04970158264040947j)\n",
      "\n",
      "Configuration nelectrons: 2 m_s: 0\n",
      "Vector : 0\n",
      " a'0001'b'0001' : (0.015902718529105186-0.004915686324238777j)\n",
      " a'0001'b'0010' : (-0.06731603294610977-0.026326527819037437j)\n",
      " a'0001'b'0100' : (-0.018387971445918083-0.01680145412683487j)\n",
      " a'0001'b'1000' : (0.015627507120370865+0.8899374008178711j)\n",
      " a'0010'b'0001' : (0.022664178162813187+0.11653014272451401j)\n",
      " a'0010'b'0010' : (-0.002899488201364875-0.08402124792337418j)\n",
      " a'0010'b'0100' : (0.04147831350564957-0.018228936940431595j)\n",
      " a'0010'b'1000' : (0.22942350804805756-0.26941341161727905j)\n",
      " a'0100'b'0001' : (-0.06896188110113144+0.01825590431690216j)\n",
      " a'0100'b'0010' : (0.06602290272712708-0.050582244992256165j)\n",
      " a'0100'b'0100' : (0.02571585588157177-0.08022100478410721j)\n",
      " a'0100'b'1000' : (-0.04838966950774193+0.004124719649553299j)\n",
      " a'1000'b'0001' : (-0.02943587861955166-0.040925800800323486j)\n",
      " a'1000'b'0010' : (-0.035020746290683746+0.14943228662014008j)\n",
      " a'1000'b'0100' : (-0.014504032209515572-0.020093776285648346j)\n",
      " a'1000'b'1000' : (-0.06935262680053711-0.015135422348976135j)\n",
      "\n",
      "Configuration nelectrons: 2 m_s: 0\n",
      "Vector : 0\n",
      " a'0001'b'0001' : (0.015902718529105186-0.004915686324238777j)\n",
      " a'0001'b'0010' : (-0.06731603294610977-0.026326527819037437j)\n",
      " a'0001'b'0100' : (-0.018387971445918083-0.01680145412683487j)\n",
      " a'0001'b'1000' : (0.015627507120370865+0.8899374008178711j)\n",
      " a'0010'b'0001' : (0.022664178162813187+0.11653014272451401j)\n",
      " a'0010'b'0010' : (-0.002899488201364875-0.08402124792337418j)\n",
      " a'0010'b'0100' : (0.04147831350564957-0.018228936940431595j)\n",
      " a'0010'b'1000' : (0.22942350804805756-0.26941341161727905j)\n",
      " a'0100'b'0001' : (-0.06896188110113144+0.01825590431690216j)\n",
      " a'0100'b'0010' : (0.06602290272712708-0.050582244992256165j)\n",
      " a'0100'b'0100' : (0.02571585588157177-0.08022100478410721j)\n",
      " a'0100'b'1000' : (-0.04838966950774193+0.004124719649553299j)\n",
      " a'1000'b'0001' : (-0.02943587861955166-0.040925800800323486j)\n",
      " a'1000'b'0010' : (-0.035020746290683746+0.14943228662014008j)\n",
      " a'1000'b'0100' : (-0.014504032209515572-0.020093776285648346j)\n",
      " a'1000'b'1000' : (-0.06935262680053711-0.015135422348976135j)\n"
     ]
    }
   ],
   "source": [
    "ops = FermionOperator('2^ 0', 0.2 - .3j) + FermionOperator('0^ 2', 0.2 + .3j)\n",
    "wfFQE.print_wfn()\n",
    "wfFQE2 = wfFQE.apply_generated_unitary(ops, algo='taylor')\n",
    "wfFQE2.print_wfn()\n",
    "ops = FermionOperator('2^ 0', 0.2 - .3j) + FermionOperator('0^ 2', 0.2 + .3j)\n",
    "wfFQE2 = fqe.apply_generated_unitary(ops, wfFQE, algo='taylor')\n",
    "wfFQE2.print_wfn()"
   ]
  },
  {
   "cell_type": "markdown",
   "metadata": {},
   "source": [
    "### 3.B.1 Hamiltonian data structure\n",
    "\n",
    "Hamiltonians can be incorporated from OpenFermion objects or initialized from numpy arrays.  Notice a slight change in the arguments to get_two_body to include a constant potential term and additionally a chemical potential to be consistent with OpenFermion."
   ]
  },
  {
   "cell_type": "code",
   "execution_count": 39,
   "metadata": {},
   "outputs": [],
   "source": [
    "from openfermion import get_quadratic_hamiltonian\n",
    "ops = FermionOperator((), 1.) + FermionOperator('1^ 1', 3.) + FermionOperator('1^ 2', 3. + 4.j) + FermionOperator('2^ 1', 3. - 4.j) + FermionOperator('3^ 4', 2. + 5.j) + FermionOperator('4^ 3', 2. - 5.j)\n",
    "hamOF = get_quadratic_hamiltonian(ops, -0.03)\n",
    "hamFQE = fqe.get_hamiltonian_from_openfermion(hamOF)\n",
    "hamFQE = fqe.get_quadratic_hamiltonian(ops, -0.03)"
   ]
  },
  {
   "cell_type": "markdown",
   "metadata": {},
   "source": [
    "Symmetry is passed in by lists containing permutation operations, a phase and whether or not complex conjugation is used.  Below are examples of a Hermetian matrix and a real anti-symmetric matrix."
   ]
  },
  {
   "cell_type": "code",
   "execution_count": 40,
   "metadata": {},
   "outputs": [],
   "source": [
    "e = 1.0\n",
    "t = numpy.random.rand(4, 4) + numpy.random.rand(4, 4)*1.j\n",
    "h = t + numpy.conjugate(t.T)\n",
    "symmh = [\n",
    "    [[1, 2], 1.0, False],\n",
    "    [[2, 1], 1.0, True]\n",
    "]\n",
    "t = numpy.random.rand(4, 4, 4, 4)\n",
    "g = t - t.T\n",
    "symmg = [\n",
    "    [[1, 2, 3, 4], 1.0, True],\n",
    "    [[4, 3, 2, 1], -1.0, True]\n",
    "]\n",
    "hamFQE = fqe.get_two_body_hamiltonian(-0.3, h, g, 0.0, symmh, symmg)"
   ]
  },
  {
   "cell_type": "markdown",
   "metadata": {},
   "source": [
    "The FQE will also return PolynomialTensor objects for parsing by OpenFermion objects."
   ]
  },
  {
   "cell_type": "code",
   "execution_count": 41,
   "metadata": {},
   "outputs": [],
   "source": [
    "hamOF = fqe.hamiltonian_to_openfermion(hamFQE)"
   ]
  },
  {
   "cell_type": "markdown",
   "metadata": {},
   "source": [
    "### Saving and Loading Wavefunctions\n",
    "\n",
    "Saving or loading a wavefunction is accomplished by passing a file name to the API and optionally a path to that filename.  If no path is given, the current working directory will be used.  If a path is used, the file will be searched for as\n",
    "\n",
    "path + '/' + filename"
   ]
  },
  {
   "cell_type": "code",
   "execution_count": 44,
   "metadata": {},
   "outputs": [
    {
     "name": "stdout",
     "output_type": "stream",
     "text": [
      "\n",
      "Configuration nelectrons: 2 m_s: -2\n",
      "Vector : 0\n",
      " a'00'b'11' : (-0.6559730172157288+0.754784345626831j)\n",
      "\n",
      "Configuration nelectrons: 2 m_s: 0\n",
      "Vector : 0\n",
      " a'01'b'01' : (0.4016709625720978+0.49356693029403687j)\n",
      " a'01'b'10' : (-0.010087961331009865+0.5587083697319031j)\n",
      " a'10'b'01' : (-0.006604856811463833-0.3804541230201721j)\n",
      " a'10'b'10' : (0.2994023859500885+0.21991939842700958j)\n",
      "\n",
      "Configuration nelectrons: 2 m_s: 2\n",
      "Vector : 0\n",
      " a'11'b'00' : (0.5662325024604797-0.8242455720901489j)\n"
     ]
    }
   ],
   "source": [
    "wfnFqe = fqe.Wavefunction([[2, 2, 2], [2, 0, 2], [2, -2, 2]])\n",
    "wfnFqe.set_wfn(strategy='random')\n",
    "wfnFqe.print_wfn()"
   ]
  },
  {
   "cell_type": "code",
   "execution_count": 50,
   "metadata": {},
   "outputs": [],
   "source": [
    "wfnFqe.save('random_wavefunction')"
   ]
  },
  {
   "cell_type": "markdown",
   "metadata": {},
   "source": [
    "Once it is saved you can return to the wavefunction by creating new object and then 'read' the data into it with the same syntax."
   ]
  },
  {
   "cell_type": "code",
   "execution_count": 52,
   "metadata": {},
   "outputs": [
    {
     "name": "stdout",
     "output_type": "stream",
     "text": [
      "\n",
      "Configuration nelectrons: 2 m_s: -2\n",
      "Vector : 0\n",
      " a'00'b'11' : (-0.6559730172157288+0.754784345626831j)\n",
      "\n",
      "Configuration nelectrons: 2 m_s: 0\n",
      "Vector : 0\n",
      " a'01'b'01' : (0.4016709625720978+0.49356693029403687j)\n",
      " a'01'b'10' : (-0.010087961331009865+0.5587083697319031j)\n",
      " a'10'b'01' : (-0.006604856811463833-0.3804541230201721j)\n",
      " a'10'b'10' : (0.2994023859500885+0.21991939842700958j)\n",
      "\n",
      "Configuration nelectrons: 2 m_s: 2\n",
      "Vector : 0\n",
      " a'11'b'00' : (0.5662325024604797-0.8242455720901489j)\n"
     ]
    }
   ],
   "source": [
    "progress = fqe.Wavefunction()\n",
    "progress.read('random_wavefunction')\n",
    "progress.print_wfn()"
   ]
  },
  {
   "cell_type": "code",
   "execution_count": null,
   "metadata": {},
   "outputs": [],
   "source": []
  }
 ],
 "metadata": {
  "kernelspec": {
   "display_name": "fqe_kernel",
   "language": "python",
   "name": "fqe_kernel"
  },
  "language_info": {
   "codemirror_mode": {
    "name": "ipython",
    "version": 3
   },
   "file_extension": ".py",
   "mimetype": "text/x-python",
   "name": "python",
   "nbconvert_exporter": "python",
   "pygments_lexer": "ipython3",
   "version": "3.7.3"
  }
 },
 "nbformat": 4,
 "nbformat_minor": 2
}
