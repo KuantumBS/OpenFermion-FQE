{
 "cells": [
  {
   "cell_type": "markdown",
   "metadata": {},
   "source": [
    "# OpenFermion Fermionic Quantum Emulator \n",
    "## Phase I Design Proposal\n",
    "\n",
    "This document outlines the functionality of the API for the OpenFermion Fermionic Quantum Emulator as defined in the design proposal.\n",
    "\n",
    " The code is covered and tested with pytest-cov at 99%. Toggle the print option to see output."
   ]
  },
  {
   "cell_type": "code",
   "execution_count": 1,
   "metadata": {},
   "outputs": [],
   "source": [
    "fqeprint = True"
   ]
  },
  {
   "cell_type": "markdown",
   "metadata": {},
   "source": [
    "### 2.A.2 API for data conversion between OpenFermion's backend and OpenFermion-FQE\n",
    "The API supports data conversion between native Cirq wavefunctions and the FQE wavefunction for arbitrary particle number and spin configuration.  A linequbit wavefunction result is a normalized numpy array."
   ]
  },
  {
   "cell_type": "code",
   "execution_count": 2,
   "metadata": {},
   "outputs": [
    {
     "name": "stdout",
     "output_type": "stream",
     "text": [
      "Inital wavefunction is \n",
      " [ 0.23439972+0.15409526j  0.07397068+0.10505342j  0.02592147+0.03159783j\n",
      " -0.07644872+0.0900361j  -0.13695174+0.19873293j  0.04263287-0.01148989j\n",
      " -0.1752883 +0.0596593j   0.05162946-0.26295862j  0.08237793-0.06866804j\n",
      " -0.60891443+0.06489781j -0.20505708-0.14378467j -0.03242815-0.03235062j\n",
      "  0.2821122 +0.26116204j  0.02045541+0.1722944j  -0.11678796+0.26813033j\n",
      "  0.07888187-0.04383138j] \n",
      " with norm (1+0j)\n",
      "\n",
      "Configuration nelectrons: 0 m_s: 0\n",
      "Vector : 0\n",
      " a'00'b'00' : (0.234399721026+0.154095262289j)\n",
      "\n",
      "Configuration nelectrons: 1 m_s: -1\n",
      "Vector : 0\n",
      " a'00'b'01' : (-0.136951744556+0.198732927442j)\n",
      " a'00'b'10' : (0.073970682919+0.105053424835j)\n",
      "\n",
      "Configuration nelectrons: 1 m_s: 1\n",
      "Vector : 0\n",
      " a'01'b'00' : (0.0823779255152-0.068668037653j)\n",
      " a'10'b'00' : (0.025921465829+0.0315978266299j)\n",
      "\n",
      "Configuration nelectrons: 2 m_s: -2\n",
      "Vector : 0\n",
      " a'00'b'11' : (0.0426328666508-0.0114898867905j)\n",
      "\n",
      "Configuration nelectrons: 2 m_s: 0\n",
      "Vector : 0\n",
      " a'01'b'01' : (0.282112210989+0.261162042618j)\n",
      " a'01'b'10' : (-0.60891443491+0.0648978129029j)\n",
      " a'10'b'01' : (0.175288304687-0.0596593022346j)\n",
      " a'10'b'10' : (-0.0764487162232+0.0900361016393j)\n",
      "\n",
      "Configuration nelectrons: 2 m_s: 2\n",
      "Vector : 0\n",
      " a'11'b'00' : (-0.20505708456-0.143784672022j)\n",
      "\n",
      "Configuration nelectrons: 3 m_s: -1\n",
      "Vector : 0\n",
      " a'01'b'11' : (0.0204554144293+0.172294393182j)\n",
      " a'10'b'11' : (-0.0516294576228+0.262958616018j)\n",
      "\n",
      "Configuration nelectrons: 3 m_s: 1\n",
      "Vector : 0\n",
      " a'11'b'01' : (0.116787962615-0.268130332232j)\n",
      " a'11'b'10' : (-0.0324281491339-0.0323506221175j)\n",
      "\n",
      "Configuration nelectrons: 4 m_s: 0\n",
      "Vector : 0\n",
      " a'11'b'11' : (-0.0788818672299+0.0438313782215j)\n"
     ]
    }
   ],
   "source": [
    "import fqe\n",
    "import numpy\n",
    "import cirq\n",
    "\n",
    "nqubit = 4\n",
    "\n",
    "cirq_wfn = fqe.util.rand_wfn(2**nqubit).astype(numpy.complex64)\n",
    "wfn_from_cirq = fqe.from_cirq(cirq_wfn, 0.0001)\n",
    "\n",
    "if fqeprint:\n",
    "    print('Inital wavefunction is \\n {} \\n with norm {}'.format(cirq_wfn, numpy.vdot(cirq_wfn, cirq_wfn)))\n",
    "    wfn_from_cirq.print_wfn()"
   ]
  },
  {
   "cell_type": "markdown",
   "metadata": {},
   "source": [
    "### 2.A.3 Initialization of wave functions\n",
    "FQE wave functions can be initialized by calling the constructor directly. fqe.get_wavefunction and get_wavefunction_mutltiple are utility wrappers that provide wrappers for common initialization motifs. e.g. get_spin_nonconserving_wavefunction will build a wavefunction that permits spin breaking Operators to be applied while get_wavefunction_multiple will return a list of initialize wavefunctions"
   ]
  },
  {
   "cell_type": "code",
   "execution_count": 3,
   "metadata": {},
   "outputs": [],
   "source": [
    "wfFqe = fqe.Wavefunction([[4, -2, 10]])\n",
    "wfFqe = fqe.get_wavefunction(4, -2, 10)"
   ]
  },
  {
   "cell_type": "code",
   "execution_count": 4,
   "metadata": {},
   "outputs": [],
   "source": [
    "n = 3\n",
    "m = -2\n",
    "wfFQE = fqe.Wavefunction([[n, m, 10], [n+1, m+2, 10]])\n",
    "wfFQE = fqe.get_wavefunction_multiple([[4, 0, 10], [5, -5, 10]])"
   ]
  },
  {
   "cell_type": "code",
   "execution_count": 5,
   "metadata": {},
   "outputs": [
    {
     "name": "stdout",
     "output_type": "stream",
     "text": [
      "\n",
      "Configuration nelectrons: 2 m_s: 0\n",
      "Vector : 0\n",
      " a'0001'b'0001' : (-0.148295283318+0.0437329933047j)\n",
      " a'0001'b'0010' : (0.0273797865957+0.037615083158j)\n",
      " a'0001'b'0100' : (0.0785772502422-0.0999710485339j)\n",
      " a'0001'b'1000' : (0.0114503055811+0.217570155859j)\n",
      " a'0010'b'0001' : (0.228409469128-0.0488925948739j)\n",
      " a'0010'b'0010' : (0.142131119967-0.227016121149j)\n",
      " a'0010'b'0100' : (0.0597130656242-0.160798504949j)\n",
      " a'0010'b'1000' : (-0.237106248736-0.286548763514j)\n",
      " a'0100'b'0001' : (-0.130181461573-0.185091271996j)\n",
      " a'0100'b'0010' : (-0.0838004797697+0.343452215195j)\n",
      " a'0100'b'0100' : (0.15178373456+0.0414028204978j)\n",
      " a'0100'b'1000' : (-0.0448152311146-0.29554054141j)\n",
      " a'1000'b'0001' : (-0.157701179385-0.0518541410565j)\n",
      " a'1000'b'0010' : (0.268910378218+0.052384249866j)\n",
      " a'1000'b'0100' : (-0.0640553385019-0.38268700242j)\n",
      " a'1000'b'1000' : (-0.248256370425+0.105605125427j)\n"
     ]
    }
   ],
   "source": [
    "wfFQE = fqe.get_spin_nonconserving_wavefunction(2)\n",
    "wfFQE.set_wfn(strategy='random')\n",
    "if fqeprint:\n",
    "    wfFQE.print_wfn()"
   ]
  },
  {
   "cell_type": "markdown",
   "metadata": {},
   "source": [
    "### 2.A.4 Element access\n",
    "\n",
    "Element access is modified from the original propsal to add more convient getter and setter functionalities.  The orginally proposed methods are availible with an addition function to add a value to an existing element."
   ]
  },
  {
   "cell_type": "code",
   "execution_count": 6,
   "metadata": {},
   "outputs": [
    {
     "name": "stdout",
     "output_type": "stream",
     "text": [
      "(3.1415927410125732-0j)\n"
     ]
    }
   ],
   "source": [
    "wfFQE.set_ele(1, 8, .14159265359j)\n",
    "wfFQE.add_ele(1, 8, 3.j)\n",
    "imaginary_pi = wfFQE.get_ele(1, 8)\n",
    "if fqeprint:\n",
    "    print(-imaginary_pi*1.j)"
   ]
  },
  {
   "cell_type": "markdown",
   "metadata": {},
   "source": [
    "The new components not originally in the proposal allow access of entire vectors for getting and setting methods."
   ]
  },
  {
   "cell_type": "code",
   "execution_count": 7,
   "metadata": {},
   "outputs": [
    {
     "name": "stdout",
     "output_type": "stream",
     "text": [
      "[[ 0.2821122 +0.26116204j  0.        +0.j        ]\n",
      " [-0.60891443+0.06489781j  0.        +0.j        ]\n",
      " [ 0.1752883 -0.0596593j   0.        +0.j        ]\n",
      " [-0.07644872+0.0900361j   0.        +0.j        ]]\n"
     ]
    }
   ],
   "source": [
    "interesting_states = wfn_from_cirq.get_coeff((2, 0), vec=[0,2])\n",
    "if fqeprint:\n",
    "    print(interesting_states)"
   ]
  },
  {
   "cell_type": "code",
   "execution_count": 8,
   "metadata": {},
   "outputs": [
    {
     "name": "stdout",
     "output_type": "stream",
     "text": [
      "[[ 0.27582717+0.09817976j  0.73      -0.23000002j]\n",
      " [-0.40677074+0.2281028j   0.73      -0.23000002j]\n",
      " [ 0.10480402-0.094348j    0.73      -0.23000002j]\n",
      " [-0.02650327+0.08595989j  0.73      -0.23000002j]]\n"
     ]
    }
   ],
   "source": [
    "interesting_states[:, 1] += 1. + .1j\n",
    "interesting_states *= .7 - .3j\n",
    "if fqeprint:\n",
    "    print(interesting_states)"
   ]
  },
  {
   "cell_type": "code",
   "execution_count": 9,
   "metadata": {},
   "outputs": [
    {
     "name": "stdout",
     "output_type": "stream",
     "text": [
      "\n",
      "Configuration nelectrons: 0 m_s: 0\n",
      "Vector : 0\n",
      " a'00'b'00' : (0.234399721026+0.154095262289j)\n",
      "\n",
      "Configuration nelectrons: 1 m_s: -1\n",
      "Vector : 0\n",
      " a'00'b'01' : (-0.136951744556+0.198732927442j)\n",
      " a'00'b'10' : (0.073970682919+0.105053424835j)\n",
      "\n",
      "Configuration nelectrons: 1 m_s: 1\n",
      "Vector : 0\n",
      " a'01'b'00' : (0.0823779255152-0.068668037653j)\n",
      " a'10'b'00' : (0.025921465829+0.0315978266299j)\n",
      "\n",
      "Configuration nelectrons: 2 m_s: -2\n",
      "Vector : 0\n",
      " a'00'b'11' : (0.0426328666508-0.0114898867905j)\n",
      "\n",
      "Configuration nelectrons: 2 m_s: 0\n",
      "Vector : 0\n",
      " a'01'b'01' : (0.275827169418+0.0981797575951j)\n",
      " a'01'b'10' : (-0.406770735979+0.22810280323j)\n",
      " a'10'b'01' : (0.10480401665-0.0943479984999j)\n",
      " a'10'b'10' : (-0.0265032686293+0.0859598889947j)\n",
      "\n",
      "Configuration nelectrons: 2 m_s: 2\n",
      "Vector : 0\n",
      " a'11'b'00' : (-0.20505708456-0.143784672022j)\n",
      "\n",
      "Configuration nelectrons: 3 m_s: -1\n",
      "Vector : 0\n",
      " a'01'b'11' : (0.0204554144293+0.172294393182j)\n",
      " a'10'b'11' : (-0.0516294576228+0.262958616018j)\n",
      "\n",
      "Configuration nelectrons: 3 m_s: 1\n",
      "Vector : 0\n",
      " a'11'b'01' : (0.116787962615-0.268130332232j)\n",
      " a'11'b'10' : (-0.0324281491339-0.0323506221175j)\n",
      "\n",
      "Configuration nelectrons: 4 m_s: 0\n",
      "Vector : 0\n",
      " a'11'b'11' : (-0.0788818672299+0.0438313782215j)\n"
     ]
    }
   ],
   "source": [
    "data = {}\n",
    "data[(2, 0)] = interesting_states\n",
    "wfn_from_cirq.set_wfn(vrange=[0, 2], strategy='from_data', raw_data=data)\n",
    "if fqeprint:\n",
    "    wfn_from_cirq.print_wfn()"
   ]
  },
  {
   "cell_type": "markdown",
   "metadata": {},
   "source": [
    "### 2.A.5 Printing/Saving\n",
    "\n",
    "Printing is currently availible as alpha beta strings followed by the coefficient as well as orbital occupation representation."
   ]
  },
  {
   "cell_type": "code",
   "execution_count": 10,
   "metadata": {},
   "outputs": [
    {
     "name": "stdout",
     "output_type": "stream",
     "text": [
      "String forrmatting\n",
      "\n",
      "Configuration nelectrons: 0 m_s: 0\n",
      "Vector : 0\n",
      " a'00'b'00' : (0.234399721026+0.154095262289j)\n",
      "\n",
      "Configuration nelectrons: 1 m_s: -1\n",
      "Vector : 0\n",
      " a'00'b'01' : (-0.136951744556+0.198732927442j)\n",
      " a'00'b'10' : (0.073970682919+0.105053424835j)\n",
      "\n",
      "Configuration nelectrons: 1 m_s: 1\n",
      "Vector : 0\n",
      " a'01'b'00' : (0.0823779255152-0.068668037653j)\n",
      " a'10'b'00' : (0.025921465829+0.0315978266299j)\n",
      "\n",
      "Configuration nelectrons: 2 m_s: -2\n",
      "Vector : 0\n",
      " a'00'b'11' : (0.0426328666508-0.0114898867905j)\n",
      "\n",
      "Configuration nelectrons: 2 m_s: 0\n",
      "Vector : 0\n",
      " a'01'b'01' : (0.275827169418+0.0981797575951j)\n",
      " a'01'b'10' : (-0.406770735979+0.22810280323j)\n",
      " a'10'b'01' : (0.10480401665-0.0943479984999j)\n",
      " a'10'b'10' : (-0.0265032686293+0.0859598889947j)\n",
      "\n",
      "Configuration nelectrons: 2 m_s: 2\n",
      "Vector : 0\n",
      " a'11'b'00' : (-0.20505708456-0.143784672022j)\n",
      "\n",
      "Configuration nelectrons: 3 m_s: -1\n",
      "Vector : 0\n",
      " a'01'b'11' : (0.0204554144293+0.172294393182j)\n",
      " a'10'b'11' : (-0.0516294576228+0.262958616018j)\n",
      "\n",
      "Configuration nelectrons: 3 m_s: 1\n",
      "Vector : 0\n",
      " a'11'b'01' : (0.116787962615-0.268130332232j)\n",
      " a'11'b'10' : (-0.0324281491339-0.0323506221175j)\n",
      "\n",
      "Configuration nelectrons: 4 m_s: 0\n",
      "Vector : 0\n",
      " a'11'b'11' : (-0.0788818672299+0.0438313782215j)\n",
      "\n",
      " Occupation forrmatting\n",
      "\n",
      "Configuration nelectrons: 0 m_s: 0\n",
      "Vector : 0\n",
      " .. : (0.234399721026+0.154095262289j)\n",
      "\n",
      "Configuration nelectrons: 1 m_s: -1\n",
      "Vector : 0\n",
      " .b : (-0.136951744556+0.198732927442j)\n",
      " b. : (0.073970682919+0.105053424835j)\n",
      "\n",
      "Configuration nelectrons: 1 m_s: 1\n",
      "Vector : 0\n",
      " .a : (0.0823779255152-0.068668037653j)\n",
      " a. : (0.025921465829+0.0315978266299j)\n",
      "\n",
      "Configuration nelectrons: 2 m_s: -2\n",
      "Vector : 0\n",
      " bb : (0.0426328666508-0.0114898867905j)\n",
      "\n",
      "Configuration nelectrons: 2 m_s: 0\n",
      "Vector : 0\n",
      " .2 : (0.275827169418+0.0981797575951j)\n",
      " ba : (-0.406770735979+0.22810280323j)\n",
      " ab : (0.10480401665-0.0943479984999j)\n",
      " 2. : (-0.0265032686293+0.0859598889947j)\n",
      "\n",
      "Configuration nelectrons: 2 m_s: 2\n",
      "Vector : 0\n",
      " aa : (-0.20505708456-0.143784672022j)\n",
      "\n",
      "Configuration nelectrons: 3 m_s: -1\n",
      "Vector : 0\n",
      " b2 : (0.0204554144293+0.172294393182j)\n",
      " 2b : (-0.0516294576228+0.262958616018j)\n",
      "\n",
      "Configuration nelectrons: 3 m_s: 1\n",
      "Vector : 0\n",
      " a2 : (0.116787962615-0.268130332232j)\n",
      " 2a : (-0.0324281491339-0.0323506221175j)\n",
      "\n",
      "Configuration nelectrons: 4 m_s: 0\n",
      "Vector : 0\n",
      " 22 : (-0.0788818672299+0.0438313782215j)\n"
     ]
    }
   ],
   "source": [
    "print('String forrmatting')\n",
    "wfn_from_cirq.print_wfn(fmt='str')\n",
    "print('\\n Occupation forrmatting')\n",
    "wfn_from_cirq.print_wfn(fmt='occ')"
   ]
  },
  {
   "cell_type": "markdown",
   "metadata": {},
   "source": [
    "### 2.A.6 Fermionic algebra operations and their unitaries on the state\n",
    "\n",
    "FermionOperators can be directly passed in to create a newwavefunction based on application of the operators."
   ]
  },
  {
   "cell_type": "code",
   "execution_count": 11,
   "metadata": {},
   "outputs": [],
   "source": [
    "from openfermion import FermionOperator\n",
    "ops = FermionOperator('2^ 0', 1.2)\n",
    "new_wfn = wfn_from_cirq.apply(ops)"
   ]
  },
  {
   "cell_type": "code",
   "execution_count": 12,
   "metadata": {},
   "outputs": [
    {
     "name": "stdout",
     "output_type": "stream",
     "text": [
      "\n",
      "Configuration nelectrons: 2 m_s: 0\n",
      "Vector : 0\n",
      " a'0001'b'0001' : (-0.148295283318+0.0437329933047j)\n",
      " a'0001'b'0010' : (0.0273797865957+0.037615083158j)\n",
      " a'0001'b'0100' : (0.0785772502422-0.0999710485339j)\n",
      " a'0001'b'1000' : 3.14159274101j\n",
      " a'0010'b'0001' : (0.228409469128-0.0488925948739j)\n",
      " a'0010'b'0010' : (0.142131119967-0.227016121149j)\n",
      " a'0010'b'0100' : (0.0597130656242-0.160798504949j)\n",
      " a'0010'b'1000' : (-0.237106248736-0.286548763514j)\n",
      " a'0100'b'0001' : (-0.130181461573-0.185091271996j)\n",
      " a'0100'b'0010' : (-0.0838004797697+0.343452215195j)\n",
      " a'0100'b'0100' : (0.15178373456+0.0414028204978j)\n",
      " a'0100'b'1000' : (-0.0448152311146-0.29554054141j)\n",
      " a'1000'b'0001' : (-0.157701179385-0.0518541410565j)\n",
      " a'1000'b'0010' : (0.268910378218+0.052384249866j)\n",
      " a'1000'b'0100' : (-0.0640553385019-0.38268700242j)\n",
      " a'1000'b'1000' : (-0.248256370425+0.105605125427j)\n",
      "\n",
      "Configuration nelectrons: 2 m_s: 0\n",
      "Vector : 0\n",
      " a'0001'b'0001' : (-0.148295283318+0.0437329933047j)\n",
      " a'0001'b'0010' : (0.0273797865957+0.037615083158j)\n",
      " a'0001'b'0100' : (0.0785772502422-0.0999710485339j)\n",
      " a'0001'b'1000' : 3.14159274101j\n"
     ]
    }
   ],
   "source": [
    "new_wfn = fqe.apply(FermionOperator('0^ 0', 1.0), wfFQE)\n",
    "if fqeprint:\n",
    "    wfFQE.print_wfn()\n",
    "    new_wfn.print_wfn()"
   ]
  },
  {
   "cell_type": "markdown",
   "metadata": {},
   "source": [
    "The fqe has vdot functionality to get an inner product and provides a way to do completely general expectation values."
   ]
  },
  {
   "cell_type": "code",
   "execution_count": 13,
   "metadata": {},
   "outputs": [
    {
     "name": "stdout",
     "output_type": "stream",
     "text": [
      "(0.14702515304088593+0j)\n"
     ]
    }
   ],
   "source": [
    "ops = FermionOperator('2^ 2', 0.5)\n",
    "opexpec = fqe.vdot(wfFQE, wfFQE.apply(ops))\n",
    "if fqeprint:\n",
    "    print(opexpec)"
   ]
  },
  {
   "cell_type": "code",
   "execution_count": 14,
   "metadata": {},
   "outputs": [
    {
     "name": "stdout",
     "output_type": "stream",
     "text": [
      "(0.14702515304088593+0j)\n"
     ]
    }
   ],
   "source": [
    "ops = FermionOperator('2^ 2', 0.5)\n",
    "opexpec = fqe.vdot(wfFQE, fqe.apply(ops, wfFQE))\n",
    "if fqeprint:\n",
    "    print(opexpec)"
   ]
  },
  {
   "cell_type": "markdown",
   "metadata": {},
   "source": [
    "We can also do general unitary application of operators.  One slight modification to the proposal is that the operator passed in should Hermetian and not anti-Hermitian as stated before."
   ]
  },
  {
   "cell_type": "code",
   "execution_count": 15,
   "metadata": {},
   "outputs": [
    {
     "name": "stdout",
     "output_type": "stream",
     "text": [
      "\n",
      "Configuration nelectrons: 2 m_s: 0\n",
      "Vector : 0\n",
      " a'0001'b'0001' : (-0.148295283318+0.0437329933047j)\n",
      " a'0001'b'0010' : (0.0273797865957+0.037615083158j)\n",
      " a'0001'b'0100' : (0.0785772502422-0.0999710485339j)\n",
      " a'0001'b'1000' : 3.14159274101j\n",
      " a'0010'b'0001' : (0.228409469128-0.0488925948739j)\n",
      " a'0010'b'0010' : (0.142131119967-0.227016121149j)\n",
      " a'0010'b'0100' : (0.0597130656242-0.160798504949j)\n",
      " a'0010'b'1000' : (-0.237106248736-0.286548763514j)\n",
      " a'0100'b'0001' : (-0.130181461573-0.185091271996j)\n",
      " a'0100'b'0010' : (-0.0838004797697+0.343452215195j)\n",
      " a'0100'b'0100' : (0.15178373456+0.0414028204978j)\n",
      " a'0100'b'1000' : (-0.0448152311146-0.29554054141j)\n",
      " a'1000'b'0001' : (-0.157701179385-0.0518541410565j)\n",
      " a'1000'b'0010' : (0.268910378218+0.052384249866j)\n",
      " a'1000'b'0100' : (-0.0640553385019-0.38268700242j)\n",
      " a'1000'b'1000' : (-0.248256370425+0.105605125427j)\n",
      "\n",
      "Configuration nelectrons: 2 m_s: 0\n",
      "Vector : 0\n",
      " a'0001'b'0001' : (-0.0247074980289-0.00551100308076j)\n",
      " a'0001'b'0010' : (0.00696564931422-0.0180127713829j)\n",
      " a'0001'b'0100' : (0.0181127991527-0.0463354215026j)\n",
      " a'0001'b'1000' : (-0.0382030941546+0.882109940052j)\n",
      " a'0010'b'0001' : (0.0808013305068-0.00898735877126j)\n",
      " a'0010'b'0010' : (0.0402213446796-0.0695561394095j)\n",
      " a'0010'b'0100' : (0.00402590865269-0.0414903275669j)\n",
      " a'0010'b'1000' : (0.119443245232-0.361830353737j)\n",
      " a'0100'b'0001' : (-0.0395724289119-0.0562638565898j)\n",
      " a'0100'b'0010' : (-0.0254735834897+0.104402251542j)\n",
      " a'0100'b'0100' : (0.0461390651762+0.0125855868682j)\n",
      " a'0100'b'1000' : (-0.0136228883639-0.0898381099105j)\n",
      " a'1000'b'0001' : (-0.0479378439486-0.0157625693828j)\n",
      " a'1000'b'0010' : (0.0817430987954+0.0159237105399j)\n",
      " a'1000'b'0100' : (-0.0194714758545-0.116328805685j)\n",
      " a'1000'b'1000' : (-0.0754647180438+0.032101739198j)\n",
      "\n",
      "Configuration nelectrons: 2 m_s: 0\n",
      "Vector : 0\n",
      " a'0001'b'0001' : (-0.0247074980289-0.00551100308076j)\n",
      " a'0001'b'0010' : (0.00696564931422-0.0180127713829j)\n",
      " a'0001'b'0100' : (0.0181127991527-0.0463354215026j)\n",
      " a'0001'b'1000' : (-0.0382030941546+0.882109940052j)\n",
      " a'0010'b'0001' : (0.0808013305068-0.00898735877126j)\n",
      " a'0010'b'0010' : (0.0402213446796-0.0695561394095j)\n",
      " a'0010'b'0100' : (0.00402590865269-0.0414903275669j)\n",
      " a'0010'b'1000' : (0.119443245232-0.361830353737j)\n",
      " a'0100'b'0001' : (-0.0395724289119-0.0562638565898j)\n",
      " a'0100'b'0010' : (-0.0254735834897+0.104402251542j)\n",
      " a'0100'b'0100' : (0.0461390651762+0.0125855868682j)\n",
      " a'0100'b'1000' : (-0.0136228883639-0.0898381099105j)\n",
      " a'1000'b'0001' : (-0.0479378439486-0.0157625693828j)\n",
      " a'1000'b'0010' : (0.0817430987954+0.0159237105399j)\n",
      " a'1000'b'0100' : (-0.0194714758545-0.116328805685j)\n",
      " a'1000'b'1000' : (-0.0754647180438+0.032101739198j)\n"
     ]
    }
   ],
   "source": [
    "ops = FermionOperator('2^ 0', 0.2 - .3j) + FermionOperator('0^ 2', 0.2 + .3j)\n",
    "wfFQE.print_wfn()\n",
    "wfFQE2 = wfFQE.apply_generated_unitary(ops, algo='taylor')\n",
    "wfFQE2.print_wfn()\n",
    "ops = FermionOperator('2^ 0', 0.2 - .3j) + FermionOperator('0^ 2', 0.2 + .3j)\n",
    "wfFQE2 = fqe.apply_generated_unitary(ops, wfFQE, algo='taylor')\n",
    "wfFQE2.print_wfn()"
   ]
  },
  {
   "cell_type": "markdown",
   "metadata": {},
   "source": [
    "### 3.B.1 Hamiltonian data structure\n",
    "\n",
    "Hamiltonians can be incorporated from OpenFermion objects or initialized from numpy arrays.  Notice a slight change in the arguments to get_two_body to include a constant potential term and additionally a chemical potential to be consistent with OpenFermion."
   ]
  },
  {
   "cell_type": "code",
   "execution_count": 16,
   "metadata": {},
   "outputs": [],
   "source": [
    "from openfermion import get_quadratic_hamiltonian\n",
    "ops = FermionOperator((), 1.) + FermionOperator('1^ 1', 3.) + FermionOperator('1^ 2', 3. + 4.j) + FermionOperator('2^ 1', 3. - 4.j) + FermionOperator('3^ 4', 2. + 5.j) + FermionOperator('4^ 3', 2. - 5.j)\n",
    "hamOF = get_quadratic_hamiltonian(ops, -0.03)\n",
    "hamFQE = fqe.get_hamiltonian_from_openfermion(hamOF)\n",
    "hamFQE = fqe.get_quadratic_hamiltonian(ops, -0.03)"
   ]
  },
  {
   "cell_type": "markdown",
   "metadata": {},
   "source": [
    "Symmetry is passed in by lists containing permutation operations, a phase and whether or not complex conjugation is used.  Below are examples of a Hermetian matrix and a real anti-symmetric matrix."
   ]
  },
  {
   "cell_type": "code",
   "execution_count": 17,
   "metadata": {},
   "outputs": [],
   "source": [
    "e = 1.0\n",
    "t = numpy.random.rand(4, 4) + numpy.random.rand(4, 4)*1.j\n",
    "h = t + numpy.conjugate(t.T)\n",
    "symmh = [\n",
    "    [[1, 2], 1.0, False],\n",
    "    [[2, 1], 1.0, True]\n",
    "]\n",
    "t = numpy.random.rand(4, 4, 4, 4)\n",
    "g = t - t.T\n",
    "symmg = [\n",
    "    [[1, 2, 3, 4], 1.0, True],\n",
    "    [[4, 3, 2, 1], -1.0, True]\n",
    "]\n",
    "hamFQE = fqe.get_two_body_hamiltonian(-0.3, h, g, 0.0, symmh, symmg)"
   ]
  },
  {
   "cell_type": "markdown",
   "metadata": {},
   "source": [
    "The FQE will also return PolynomialTensor objects for parsing by OpenFermion objects."
   ]
  },
  {
   "cell_type": "code",
   "execution_count": 18,
   "metadata": {},
   "outputs": [],
   "source": [
    "hamOF = fqe.hamiltonian_to_openfermion(hamFQE)"
   ]
  },
  {
   "cell_type": "code",
   "execution_count": null,
   "metadata": {},
   "outputs": [],
   "source": []
  }
 ],
 "metadata": {
  "kernelspec": {
   "display_name": "Python 2",
   "language": "python",
   "name": "python2"
  },
  "language_info": {
   "codemirror_mode": {
    "name": "ipython",
    "version": 2
   },
   "file_extension": ".py",
   "mimetype": "text/x-python",
   "name": "python",
   "nbconvert_exporter": "python",
   "pygments_lexer": "ipython2",
   "version": "2.7.16"
  }
 },
 "nbformat": 4,
 "nbformat_minor": 2
}
