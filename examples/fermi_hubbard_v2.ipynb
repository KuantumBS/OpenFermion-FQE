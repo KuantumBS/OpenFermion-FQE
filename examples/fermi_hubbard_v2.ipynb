{
 "cells": [
  {
   "cell_type": "markdown",
   "metadata": {},
   "source": [
    "# Time-evolution of the Fermi-Hubbard model"
   ]
  },
  {
   "cell_type": "markdown",
   "metadata": {},
   "source": [
    "This notebook shows how to simulate the one-dimensional Fermi-Hubbard Hamiltonian\n",
    "\n",
    "$$\n",
    "H = - J \\sum_{j = 1}^{L - 1} c_{j, \\sigma}^\\dagger c_{j + 1, \\sigma} + \\text{h.c.} + U \\sum_{j} n_{j\\uparrow} n_{j\\downarrow}\n",
    "$$\n",
    "\n",
    "using FQE. Here $j = 1, ..., L$ denotes site/orbital and $\\sigma \\in \\{ \\uparrow, \\downarrow \\}$ denotes spin. We closely follow the [Fermi-Hubbard experiment paper](https://arxiv.org/abs/2010.07965) and the corresponding [ReCirq tutorial](https://quantumai.google/cirq/experiments/fermi_hubbard/experiment_example)."
   ]
  },
  {
   "cell_type": "markdown",
   "metadata": {},
   "source": [
    "## Setup"
   ]
  },
  {
   "cell_type": "code",
   "execution_count": 1,
   "metadata": {},
   "outputs": [],
   "source": [
    "import numpy as np\n",
    "\n",
    "import fqe\n",
    "from fqe.hamiltonians.diagonal_coulomb import DiagonalCoulomb\n",
    "from recirq.fermi_hubbard import publication"
   ]
  },
  {
   "cell_type": "markdown",
   "metadata": {},
   "source": [
    "## Define the Fermi-Hubbard Hamiltonian"
   ]
  },
  {
   "cell_type": "code",
   "execution_count": 2,
   "metadata": {},
   "outputs": [],
   "source": [
    "\"\"\"Get the problem parameters (Hamiltonian, initial state, simulation time)\n",
    "on a number of different qubit layouts.\n",
    "\"\"\"\n",
    "# Get publication layouts for a given number of sites.\n",
    "layouts = publication.rainbow23_layouts(sites_count=8)\n",
    "\n",
    "# Define problem parameters on each site.\n",
    "parameters = [\n",
    "    publication.trapping_instance(\n",
    "        layout, u=2, dt=0.3, up_particles=2, down_particles=2\n",
    "    ) \n",
    "    for layout in layouts\n",
    "]"
   ]
  },
  {
   "cell_type": "code",
   "execution_count": 3,
   "metadata": {
    "scrolled": true
   },
   "outputs": [
    {
     "name": "stdout",
     "output_type": "stream",
     "text": [
      "Hamiltonian(sites_count=8, j=1.0, u=2, v=0, local_charge=0, local_spin=0, mu_up=0, mu_down=0)\n"
     ]
    }
   ],
   "source": [
    "\"\"\"Use an example set of problem parameters to simulate with FQE.\"\"\"\n",
    "params = parameters[0]\n",
    "print(params.hamiltonian)"
   ]
  },
  {
   "cell_type": "code",
   "execution_count": 4,
   "metadata": {},
   "outputs": [
    {
     "data": {
      "text/plain": [
       "<openfermion.ops.representations.diagonal_coulomb_hamiltonian.DiagonalCoulombHamiltonian at 0x7f0b140a7128>"
      ]
     },
     "execution_count": 4,
     "metadata": {},
     "output_type": "execute_result"
    }
   ],
   "source": [
    "\"\"\"Hamiltonian as an openfermion.DiagonalCoulombHamilontian.\"\"\"\n",
    "ham = params.hamiltonian.as_diagonal_coulomb_hamiltonian()\n",
    "ham"
   ]
  },
  {
   "cell_type": "markdown",
   "metadata": {},
   "source": [
    "## Convert the OpenFermion Hamiltonian to an FQE Hamiltonian"
   ]
  },
  {
   "cell_type": "code",
   "execution_count": 5,
   "metadata": {},
   "outputs": [
    {
     "data": {
      "text/plain": [
       "<fqe.hamiltonians.diagonal_coulomb.DiagonalCoulomb at 0x7f0b140496d8>"
      ]
     },
     "execution_count": 5,
     "metadata": {},
     "output_type": "execute_result"
    }
   ],
   "source": [
    "\"\"\"Hamiltonian as an fqe.DiagonalCoulomb Hamiltonian.\"\"\"\n",
    "dc_ham = DiagonalCoulomb(ham.one_body + ham.two_body)\n",
    "dc_ham"
   ]
  },
  {
   "cell_type": "markdown",
   "metadata": {},
   "source": [
    "## Initialize the wavefunction"
   ]
  },
  {
   "cell_type": "code",
   "execution_count": 6,
   "metadata": {},
   "outputs": [
    {
     "name": "stdout",
     "output_type": "stream",
     "text": [
      "Sector N = 4 : S_z = 0\n",
      "a'00000011'b'00000011' (1+0j)\n"
     ]
    }
   ],
   "source": [
    "norbs = 8\n",
    "n_elec = 4\n",
    "sz = 0\n",
    "\n",
    "fqe_wfn = fqe.Wavefunction([[n_elec, sz, norbs]])\n",
    "fci_data = fqe_wfn.sector((n_elec, sz))\n",
    "\n",
    "hf_wf = np.zeros((fci_data.lena(), fci_data.lenb()), dtype=np.complex128)\n",
    "hf_wf[0, 0] = 1  # right most bit is zero orbital.\n",
    "fqe_wfn.set_wfn(strategy='from_data',\n",
    "                raw_data={(n_elec, sz): hf_wf})\n",
    "fqe_wfn.print_wfn()"
   ]
  },
  {
   "cell_type": "markdown",
   "metadata": {},
   "source": [
    "## Time-evolve the wavefunction"
   ]
  },
  {
   "cell_type": "code",
   "execution_count": 7,
   "metadata": {},
   "outputs": [
    {
     "name": "stdout",
     "output_type": "stream",
     "text": [
      "Sector N = 4 : S_z = 0\n",
      "a'00000011'b'00000011' (-0.7373937155412454+0.675463180551151j)\n"
     ]
    }
   ],
   "source": [
    "evolved_hf_wfn = fqe_wfn.time_evolve(params.dt, dc_ham)\n",
    "evolved_hf_wfn.print_wfn()"
   ]
  }
 ],
 "metadata": {
  "kernelspec": {
   "display_name": "envfhdocs",
   "language": "python",
   "name": "envfhdocs"
  },
  "language_info": {
   "codemirror_mode": {
    "name": "ipython",
    "version": 3
   },
   "file_extension": ".py",
   "mimetype": "text/x-python",
   "name": "python",
   "nbconvert_exporter": "python",
   "pygments_lexer": "ipython3",
   "version": "3.6.8"
  }
 },
 "nbformat": 4,
 "nbformat_minor": 4
}
