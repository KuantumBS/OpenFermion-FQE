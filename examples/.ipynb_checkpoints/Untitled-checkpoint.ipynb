{
 "cells": [
  {
   "cell_type": "markdown",
   "metadata": {},
   "source": [
    "# OpenFermion Fermionic Quantum Emulator \n",
    "## Phase I Design Proposal\n",
    "\n",
    "This document outlines the functionality of the API for the OpenFermion Fermionic Quantum Emulator\n",
    "\n",
    "### 2.A.2 API for data conversion between OpenFermion's backend and OpenFermion-FQE\n",
    "The API supports data conversion between native Cirq wavefunctions and the FQE wavefunction."
   ]
  },
  {
   "cell_type": "code",
   "execution_count": 12,
   "metadata": {},
   "outputs": [
    {
     "name": "stdout",
     "output_type": "stream",
     "text": [
      "Inital wavefunction is \n",
      " [ 0.02205872+0.12937018j -0.10879544+0.21134941j  0.11111901-0.12917765j\n",
      "  0.04231595-0.17617699j  0.1151422 +0.19140647j  0.51076073+0.29019147j\n",
      " -0.09352531+0.27206567j  0.14415035-0.17420644j -0.19613511-0.17371239j\n",
      " -0.10696691-0.09697525j -0.17411274-0.23073454j -0.0231031 +0.04917067j\n",
      " -0.04158085+0.08230806j  0.05899077-0.12601456j -0.07462431+0.31756712j\n",
      "  0.13718549+0.08022358j] \n",
      " with norm (1+0j)\n"
     ]
    },
    {
     "ename": "AttributeError",
     "evalue": "'Wavefunction' object has no attribute 'init_string_array'",
     "output_type": "error",
     "traceback": [
      "\u001b[0;31m---------------------------------------------------------------------------\u001b[0m",
      "\u001b[0;31mAttributeError\u001b[0m                            Traceback (most recent call last)",
      "\u001b[0;32m<ipython-input-12-ad09933236bd>\u001b[0m in \u001b[0;36m<module>\u001b[0;34m()\u001b[0m\n\u001b[1;32m      8\u001b[0m \u001b[0;32mprint\u001b[0m\u001b[0;34m(\u001b[0m\u001b[0;34m'Inital wavefunction is \\n {} \\n with norm {}'\u001b[0m\u001b[0;34m.\u001b[0m\u001b[0mformat\u001b[0m\u001b[0;34m(\u001b[0m\u001b[0minit_cirq\u001b[0m\u001b[0;34m,\u001b[0m \u001b[0mnumpy\u001b[0m\u001b[0;34m.\u001b[0m\u001b[0mvdot\u001b[0m\u001b[0;34m(\u001b[0m\u001b[0minit_cirq\u001b[0m\u001b[0;34m,\u001b[0m \u001b[0minit_cirq\u001b[0m\u001b[0;34m)\u001b[0m\u001b[0;34m)\u001b[0m\u001b[0;34m)\u001b[0m\u001b[0;34m\u001b[0m\u001b[0m\n\u001b[1;32m      9\u001b[0m \u001b[0;34m\u001b[0m\u001b[0m\n\u001b[0;32m---> 10\u001b[0;31m \u001b[0mwfn_from_cirq\u001b[0m \u001b[0;34m=\u001b[0m \u001b[0mfqe\u001b[0m\u001b[0;34m.\u001b[0m\u001b[0mfrom_cirq\u001b[0m\u001b[0;34m(\u001b[0m\u001b[0minit_cirq\u001b[0m\u001b[0;34m,\u001b[0m \u001b[0;36m0.0001\u001b[0m\u001b[0;34m)\u001b[0m\u001b[0;34m\u001b[0m\u001b[0m\n\u001b[0m\u001b[1;32m     11\u001b[0m \u001b[0;34m\u001b[0m\u001b[0m\n\u001b[1;32m     12\u001b[0m \u001b[0mwfn_from_cirq\u001b[0m\u001b[0;34m.\u001b[0m\u001b[0mprint_wfn\u001b[0m\u001b[0;34m(\u001b[0m\u001b[0;34m)\u001b[0m\u001b[0;34m\u001b[0m\u001b[0m\n",
      "\u001b[0;32m/usr/local/lib/python2.7/dist-packages/fqe-0.0.0.dev0-py2.7.egg/fqe/_fqecontrol.pyc\u001b[0m in \u001b[0;36mfrom_cirq\u001b[0;34m(state, thresh)\u001b[0m\n\u001b[1;32m    129\u001b[0m                 \u001b[0mparam\u001b[0m\u001b[0;34m.\u001b[0m\u001b[0mappend\u001b[0m\u001b[0;34m(\u001b[0m\u001b[0;34m[\u001b[0m\u001b[0mpnum\u001b[0m\u001b[0;34m,\u001b[0m \u001b[0morb\u001b[0m\u001b[0;34m[\u001b[0m\u001b[0;36m1\u001b[0m\u001b[0;34m]\u001b[0m\u001b[0;34m,\u001b[0m \u001b[0mnorb\u001b[0m\u001b[0;34m]\u001b[0m\u001b[0;34m)\u001b[0m\u001b[0;34m\u001b[0m\u001b[0m\n\u001b[1;32m    130\u001b[0m     \u001b[0mwfn\u001b[0m \u001b[0;34m=\u001b[0m \u001b[0mWavefunction\u001b[0m\u001b[0;34m(\u001b[0m\u001b[0mparam\u001b[0m\u001b[0;34m)\u001b[0m\u001b[0;34m\u001b[0m\u001b[0m\n\u001b[0;32m--> 131\u001b[0;31m     \u001b[0mwfn\u001b[0m\u001b[0;34m.\u001b[0m\u001b[0minit_string_array\u001b[0m\u001b[0;34m(\u001b[0m\u001b[0;34m)\u001b[0m\u001b[0;34m\u001b[0m\u001b[0m\n\u001b[0m\u001b[1;32m    132\u001b[0m     \u001b[0mtransform\u001b[0m\u001b[0;34m.\u001b[0m\u001b[0mfrom_cirq\u001b[0m\u001b[0;34m(\u001b[0m\u001b[0mwfn\u001b[0m\u001b[0;34m,\u001b[0m \u001b[0mstate\u001b[0m\u001b[0;34m)\u001b[0m\u001b[0;34m\u001b[0m\u001b[0m\n\u001b[1;32m    133\u001b[0m     \u001b[0;32mreturn\u001b[0m \u001b[0mwfn\u001b[0m\u001b[0;34m\u001b[0m\u001b[0m\n",
      "\u001b[0;31mAttributeError\u001b[0m: 'Wavefunction' object has no attribute 'init_string_array'"
     ]
    }
   ],
   "source": [
    "import fqe\n",
    "import numpy\n",
    "import cirq\n",
    "\n",
    "nqubit = 4\n",
    "\n",
    "init_cirq = fqe.util.rand_wfn(2**nqubit)\n",
    "print('Inital wavefunction is \\n {} \\n with norm {}'.format(init_cirq, numpy.vdot(init_cirq, init_cirq)))\n",
    "\n",
    "wfn_from_cirq = fqe.from_cirq(init_cirq, 0.0001)\n",
    "\n",
    "wfn_from_cirq.print_wfn()\n"
   ]
  },
  {
   "cell_type": "code",
   "execution_count": null,
   "metadata": {},
   "outputs": [],
   "source": []
  }
 ],
 "metadata": {
  "kernelspec": {
   "display_name": "Python 3",
   "language": "python",
   "name": "python3"
  },
  "language_info": {
   "codemirror_mode": {
    "name": "ipython",
    "version": 3
   },
   "file_extension": ".py",
   "mimetype": "text/x-python",
   "name": "python",
   "nbconvert_exporter": "python",
   "pygments_lexer": "ipython3",
   "version": "3.5.7"
  }
 },
 "nbformat": 4,
 "nbformat_minor": 2
}
