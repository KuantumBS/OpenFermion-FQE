{
 "cells": [
  {
   "cell_type": "markdown",
   "metadata": {},
   "source": [
    "# OpenFermion Fermionic Quantum Emulator \n",
    "## Phase I Design Proposal\n",
    "\n",
    "This document outlines the functionality of the API for the OpenFermion Fermionic Quantum Emulator as defined in the design proposal.\n",
    "\n",
    "### 2.A.2 API for data conversion between OpenFermion's backend and OpenFermion-FQE\n",
    "The API supports data conversion between native Cirq wavefunctions and the FQE wavefunction for arbitrary particle number and spin configuration. Set the print option below to True if you want to see printing at each step."
   ]
  },
  {
   "cell_type": "code",
   "execution_count": 17,
   "metadata": {},
   "outputs": [],
   "source": [
    "fqeprint = False"
   ]
  },
  {
   "cell_type": "code",
   "execution_count": 1,
   "metadata": {},
   "outputs": [
    {
     "name": "stdout",
     "output_type": "stream",
     "text": [
      "Inital wavefunction is \n",
      " [-0.11588868+0.01176499j -0.0251946 +0.09968591j -0.03381746-0.0668214j\n",
      " -0.16820516-0.24501884j  0.02142232-0.09055822j -0.11247932+0.42067227j\n",
      "  0.18107681-0.00204423j  0.29228777-0.131124j    0.19395219-0.2724749j\n",
      " -0.07667992+0.01476797j  0.08137855-0.01943308j  0.01777126+0.08990463j\n",
      " -0.3974418 -0.18869783j  0.01943563+0.06497507j  0.3504537 +0.28778785j\n",
      "  0.03535521+0.09907378j] \n",
      " with norm (0.999999940395+0j)\n",
      "\n",
      "Configuration nelectrons: 0 m_s: 0\n",
      "Vector : 0\n",
      " a'00'b'00' : (-0.115888677537+0.0117649901658j)\n",
      "\n",
      "Configuration nelectrons: 1 m_s: -1\n",
      "Vector : 0\n",
      " a'00'b'01' : (0.0214223209769-0.0905582234263j)\n",
      " a'00'b'10' : (-0.0251946039498+0.0996859148145j)\n",
      "\n",
      "Configuration nelectrons: 1 m_s: 1\n",
      "Vector : 0\n",
      " a'01'b'00' : (0.193952187896-0.272474914789j)\n",
      " a'10'b'00' : (-0.0338174588978-0.0668213963509j)\n",
      "\n",
      "Configuration nelectrons: 2 m_s: -2\n",
      "Vector : 0\n",
      " a'00'b'11' : (-0.112479321659+0.420672267675j)\n",
      "\n",
      "Configuration nelectrons: 2 m_s: 0\n",
      "Vector : 0\n",
      " a'01'b'01' : (-0.397441804409-0.188697829843j)\n",
      " a'01'b'10' : (-0.0766799151897+0.0147679746151j)\n",
      " a'10'b'01' : (-0.181076809764+0.00204422860406j)\n",
      " a'10'b'10' : (-0.168205156922-0.245018839836j)\n",
      "\n",
      "Configuration nelectrons: 2 m_s: 2\n",
      "Vector : 0\n",
      " a'11'b'00' : (0.0813785493374-0.0194330774248j)\n",
      "\n",
      "Configuration nelectrons: 3 m_s: -1\n",
      "Vector : 0\n",
      " a'01'b'11' : (0.019435627386+0.0649750679731j)\n",
      " a'10'b'11' : (-0.292287766933+0.131124004722j)\n",
      "\n",
      "Configuration nelectrons: 3 m_s: 1\n",
      "Vector : 0\n",
      " a'11'b'01' : (-0.350453704596-0.287787854671j)\n",
      " a'11'b'10' : (0.0177712645382+0.0899046286941j)\n",
      "\n",
      "Configuration nelectrons: 4 m_s: 0\n",
      "Vector : 0\n",
      " a'11'b'11' : (-0.0353552140296-0.0990737825632j)\n"
     ]
    }
   ],
   "source": [
    "import fqe\n",
    "import numpy\n",
    "import cirq\n",
    "\n",
    "nqubit = 4\n",
    "\n",
    "init_cirq = fqe.util.rand_wfn(2**nqubit).astype(numpy.complex64)\n",
    "wfn_from_cirq = fqe.from_cirq(init_cirq, 0.0001)\n",
    "\n",
    "if fqeprint:\n",
    "    print('Inital wavefunction is \\n {} \\n with norm {}'.format(init_cirq, numpy.vdot(init_cirq, init_cirq)))\n",
    "    wfn_from_cirq.print_wfn()"
   ]
  },
  {
   "cell_type": "markdown",
   "metadata": {},
   "source": [
    "### 2.A.3 Initialization of wave functions"
   ]
  },
  {
   "cell_type": "code",
   "execution_count": 2,
   "metadata": {},
   "outputs": [],
   "source": [
    "wfFqe = fqe.Wavefunction([[4, -2, 10]])\n",
    "wfFqe = fqe.get_wavefunction(4, -2, 10)"
   ]
  },
  {
   "cell_type": "code",
   "execution_count": 3,
   "metadata": {},
   "outputs": [],
   "source": [
    "n = 3\n",
    "m = -2\n",
    "wfFQE = fqe.Wavefunction([[n, m, 10], [n+1, m+2, 10]])\n",
    "wfFQE = fqe.get_wavefunction_multiple([[4, 0, 10], [5, -5, 10]])"
   ]
  },
  {
   "cell_type": "code",
   "execution_count": 4,
   "metadata": {},
   "outputs": [
    {
     "name": "stdout",
     "output_type": "stream",
     "text": [
      "\n",
      "Configuration nelectrons: 2 m_s: 0\n",
      "Vector : 0\n",
      " a'0001'b'0001' : (0.310690909624+0.317521482706j)\n",
      " a'0001'b'0010' : (0.15748628974-0.0677337273955j)\n",
      " a'0001'b'0100' : (-0.19282335043+0.213071733713j)\n",
      " a'0001'b'1000' : (0.125708281994+0.22103510797j)\n",
      " a'0010'b'0001' : (-0.149656876922+0.0548685751855j)\n",
      " a'0010'b'0010' : (-0.190324097872-0.147809222341j)\n",
      " a'0010'b'0100' : (0.11197950691+0.101334512234j)\n",
      " a'0010'b'1000' : (-0.0393132977188+0.157989040017j)\n",
      " a'0100'b'0001' : (0.287829071283+0.327365010977j)\n",
      " a'0100'b'0010' : (-0.0718781799078+0.0790174230933j)\n",
      " a'0100'b'0100' : (-0.21523976326-0.141604334116j)\n",
      " a'0100'b'1000' : (-0.0821905732155+0.077456176281j)\n",
      " a'1000'b'0001' : (0.0510522946715-0.213787823915j)\n",
      " a'1000'b'0010' : (-0.356601685286+0.0892099589109j)\n",
      " a'1000'b'0100' : (-0.0511336624622-0.012471690774j)\n",
      " a'1000'b'1000' : (0.0956465154886+0.131596699357j)\n"
     ]
    }
   ],
   "source": [
    "wfFQE = fqe.get_spin_nonconserving_wavefunction(2)\n",
    "wfFQE.set_wfn(strategy='random')\n",
    "if fqeprint:\n",
    "    wfFQE.print_wfn()"
   ]
  },
  {
   "cell_type": "markdown",
   "metadata": {},
   "source": [
    "### 2.A.4 Element access\n",
    "\n",
    "Note that, to allow access to all states in the wavefunction, access to elements is modified from the original proposal and is accomplished with getter style access.  This can be entire configurations, or certain vectors only."
   ]
  },
  {
   "cell_type": "code",
   "execution_count": 5,
   "metadata": {},
   "outputs": [
    {
     "name": "stdout",
     "output_type": "stream",
     "text": [
      "[[-0.3974418 -0.18869783j  0.        +0.j        ]\n",
      " [-0.07667992+0.01476797j  0.        +0.j        ]\n",
      " [-0.18107681+0.00204423j  0.        +0.j        ]\n",
      " [-0.16820516-0.24501884j  0.        +0.j        ]]\n"
     ]
    }
   ],
   "source": [
    "interesting_states = wfn_from_cirq.get_coeff((2, 0), vec=[0,2])\n",
    "if fqeprint:\n",
    "    print(interesting_states)"
   ]
  },
  {
   "cell_type": "code",
   "execution_count": 6,
   "metadata": {},
   "outputs": [
    {
     "name": "stdout",
     "output_type": "stream",
     "text": [
      "[[-0.33481863-0.01285594j  0.73      -0.23000002j]\n",
      " [-0.04924554+0.03334156j  0.73      -0.23000002j]\n",
      " [-0.12614049+0.055754j    0.73      -0.23000002j]\n",
      " [-0.19124927-0.12105164j  0.73      -0.23000002j]]\n"
     ]
    }
   ],
   "source": [
    "interesting_states[:, 1] += 1. + .1j\n",
    "interesting_states *= .7 - .3j\n",
    "if fqeprint:\n",
    "    print(interesting_states)"
   ]
  },
  {
   "cell_type": "code",
   "execution_count": 7,
   "metadata": {},
   "outputs": [
    {
     "name": "stdout",
     "output_type": "stream",
     "text": [
      "\n",
      "Configuration nelectrons: 0 m_s: 0\n",
      "Vector : 0\n",
      " a'00'b'00' : (-0.115888677537+0.0117649901658j)\n",
      "\n",
      "Configuration nelectrons: 1 m_s: -1\n",
      "Vector : 0\n",
      " a'00'b'01' : (0.0214223209769-0.0905582234263j)\n",
      " a'00'b'10' : (-0.0251946039498+0.0996859148145j)\n",
      "\n",
      "Configuration nelectrons: 1 m_s: 1\n",
      "Vector : 0\n",
      " a'01'b'00' : (0.193952187896-0.272474914789j)\n",
      " a'10'b'00' : (-0.0338174588978-0.0668213963509j)\n",
      "\n",
      "Configuration nelectrons: 2 m_s: -2\n",
      "Vector : 0\n",
      " a'00'b'11' : (-0.112479321659+0.420672267675j)\n",
      "\n",
      "Configuration nelectrons: 2 m_s: 0\n",
      "Vector : 0\n",
      " a'01'b'01' : (-0.334818631411-0.0128559395671j)\n",
      " a'01'b'10' : (-0.0492455437779+0.0333415567875j)\n",
      " a'10'b'01' : (-0.126140490174+0.0557540021837j)\n",
      " a'10'b'10' : (-0.191249266267-0.121051639318j)\n",
      "\n",
      "Configuration nelectrons: 2 m_s: 2\n",
      "Vector : 0\n",
      " a'11'b'00' : (0.0813785493374-0.0194330774248j)\n",
      "\n",
      "Configuration nelectrons: 3 m_s: -1\n",
      "Vector : 0\n",
      " a'01'b'11' : (0.019435627386+0.0649750679731j)\n",
      " a'10'b'11' : (-0.292287766933+0.131124004722j)\n",
      "\n",
      "Configuration nelectrons: 3 m_s: 1\n",
      "Vector : 0\n",
      " a'11'b'01' : (-0.350453704596-0.287787854671j)\n",
      " a'11'b'10' : (0.0177712645382+0.0899046286941j)\n",
      "\n",
      "Configuration nelectrons: 4 m_s: 0\n",
      "Vector : 0\n",
      " a'11'b'11' : (-0.0353552140296-0.0990737825632j)\n"
     ]
    }
   ],
   "source": [
    "data = {}\n",
    "data[(2, 0)] = interesting_states\n",
    "wfn_from_cirq.set_wfn(vrange=[0, 2], strategy='from_data', raw_data=data)\n",
    "if fqeprint:\n",
    "    wfn_from_cirq.print_wfn()"
   ]
  },
  {
   "cell_type": "markdown",
   "metadata": {},
   "source": [
    "### 2.A.6 Fermionic algebra operations and their unitaries on the state"
   ]
  },
  {
   "cell_type": "code",
   "execution_count": 8,
   "metadata": {},
   "outputs": [],
   "source": [
    "from openfermion import FermionOperator\n",
    "ops = FermionOperator('2^ 0', 1.2)\n",
    "new_wfn = wfn_from_cirq.apply(ops)"
   ]
  },
  {
   "cell_type": "code",
   "execution_count": 9,
   "metadata": {},
   "outputs": [
    {
     "name": "stdout",
     "output_type": "stream",
     "text": [
      "\n",
      "Configuration nelectrons: 2 m_s: 0\n",
      "Vector : 0\n",
      " a'0001'b'0001' : (0.310690909624+0.317521482706j)\n",
      " a'0001'b'0010' : (0.15748628974-0.0677337273955j)\n",
      " a'0001'b'0100' : (-0.19282335043+0.213071733713j)\n",
      " a'0001'b'1000' : (0.125708281994+0.22103510797j)\n",
      " a'0010'b'0001' : (-0.149656876922+0.0548685751855j)\n",
      " a'0010'b'0010' : (-0.190324097872-0.147809222341j)\n",
      " a'0010'b'0100' : (0.11197950691+0.101334512234j)\n",
      " a'0010'b'1000' : (-0.0393132977188+0.157989040017j)\n",
      " a'0100'b'0001' : (0.287829071283+0.327365010977j)\n",
      " a'0100'b'0010' : (-0.0718781799078+0.0790174230933j)\n",
      " a'0100'b'0100' : (-0.21523976326-0.141604334116j)\n",
      " a'0100'b'1000' : (-0.0821905732155+0.077456176281j)\n",
      " a'1000'b'0001' : (0.0510522946715-0.213787823915j)\n",
      " a'1000'b'0010' : (-0.356601685286+0.0892099589109j)\n",
      " a'1000'b'0100' : (-0.0511336624622-0.012471690774j)\n",
      " a'1000'b'1000' : (0.0956465154886+0.131596699357j)\n",
      "\n",
      "Configuration nelectrons: 2 m_s: 0\n",
      "Vector : 0\n",
      " a'0001'b'0001' : (0.310690909624+0.317521482706j)\n",
      " a'0001'b'0010' : (0.15748628974-0.0677337273955j)\n",
      " a'0001'b'0100' : (-0.19282335043+0.213071733713j)\n",
      " a'0001'b'1000' : (0.125708281994+0.22103510797j)\n"
     ]
    }
   ],
   "source": [
    "new_wfn = fqe.apply(FermionOperator('0^ 0', 1.0), wfFQE)\n",
    "if fqeprint:\n",
    "    wfFQE.print_wfn()\n",
    "    new_wfn.print_wfn()"
   ]
  },
  {
   "cell_type": "code",
   "execution_count": 10,
   "metadata": {},
   "outputs": [
    {
     "name": "stdout",
     "output_type": "stream",
     "text": [
      "(0.06639636307954788+0j)\n"
     ]
    }
   ],
   "source": [
    "ops = FermionOperator('2^ 2', 0.5)\n",
    "opexpec = fqe.vdot(wfFQE, wfFQE.apply(ops))\n",
    "if fqeprint:\n",
    "    print(opexpec)"
   ]
  },
  {
   "cell_type": "code",
   "execution_count": 11,
   "metadata": {},
   "outputs": [
    {
     "name": "stdout",
     "output_type": "stream",
     "text": [
      "(0.06639636307954788+0j)\n"
     ]
    }
   ],
   "source": [
    "ops = FermionOperator('2^ 2', 0.5)\n",
    "opexpec = fqe.vdot(wfFQE, fqe.apply(ops, wfFQE))\n",
    "if fqeprint:\n",
    "print(opexpec)"
   ]
  },
  {
   "cell_type": "code",
   "execution_count": 12,
   "metadata": {},
   "outputs": [
    {
     "name": "stdout",
     "output_type": "stream",
     "text": [
      "\n",
      "Configuration nelectrons: 2 m_s: 0\n",
      "Vector : 0\n",
      " a'0001'b'0001' : (0.310690909624+0.317521482706j)\n",
      " a'0001'b'0010' : (0.15748628974-0.0677337273955j)\n",
      " a'0001'b'0100' : (-0.19282335043+0.213071733713j)\n",
      " a'0001'b'1000' : (0.125708281994+0.22103510797j)\n",
      " a'0010'b'0001' : (-0.149656876922+0.0548685751855j)\n",
      " a'0010'b'0010' : (-0.190324097872-0.147809222341j)\n",
      " a'0010'b'0100' : (0.11197950691+0.101334512234j)\n",
      " a'0010'b'1000' : (-0.0393132977188+0.157989040017j)\n",
      " a'0100'b'0001' : (0.287829071283+0.327365010977j)\n",
      " a'0100'b'0010' : (-0.0718781799078+0.0790174230933j)\n",
      " a'0100'b'0100' : (-0.21523976326-0.141604334116j)\n",
      " a'0100'b'1000' : (-0.0821905732155+0.077456176281j)\n",
      " a'1000'b'0001' : (0.0510522946715-0.213787823915j)\n",
      " a'1000'b'0010' : (-0.356601685286+0.0892099589109j)\n",
      " a'1000'b'0100' : (-0.0511336624622-0.012471690774j)\n",
      " a'1000'b'1000' : (0.0956465154886+0.131596699357j)\n",
      "\n",
      "Configuration nelectrons: 2 m_s: 0\n",
      "Vector : 0\n",
      " a'0001'b'0001' : (0.256298422813+0.342907607555j)\n",
      " a'0001'b'0010' : (0.0605258457363-0.0695345774293j)\n",
      " a'0001'b'0100' : (-0.126293942332+0.207005023956j)\n",
      " a'0001'b'1000' : (0.137194260955+0.261647224426j)\n",
      " a'0010'b'0001' : (-0.169450834394-0.105979114771j)\n",
      " a'0010'b'0010' : (-0.238490462303-0.149219095707j)\n",
      " a'0010'b'0100' : (0.204942896962+0.069316752255j)\n",
      " a'0010'b'1000' : (-0.0302310474217+0.0562074147165j)\n",
      " a'0100'b'0001' : (0.287521421909+0.32701510191j)\n",
      " a'0100'b'0010' : (-0.0718013495207+0.0789329633117j)\n",
      " a'0100'b'0100' : (-0.215009689331-0.141452968121j)\n",
      " a'0100'b'1000' : (-0.0821027234197+0.0773733854294j)\n",
      " a'1000'b'0001' : (0.0509977266192-0.213559314609j)\n",
      " a'1000'b'0010' : (-0.356220513582+0.0891146063805j)\n",
      " a'1000'b'0100' : (-0.051079005003-0.0124583598226j)\n",
      " a'1000'b'1000' : (0.0955442786217+0.131456032395j)\n",
      "\n",
      "Configuration nelectrons: 2 m_s: 0\n",
      "Vector : 0\n",
      " a'0001'b'0001' : (0.256298422813+0.342907607555j)\n",
      " a'0001'b'0010' : (0.0605258457363-0.0695345774293j)\n",
      " a'0001'b'0100' : (-0.126293942332+0.207005023956j)\n",
      " a'0001'b'1000' : (0.137194260955+0.261647224426j)\n",
      " a'0010'b'0001' : (-0.169450834394-0.105979114771j)\n",
      " a'0010'b'0010' : (-0.238490462303-0.149219095707j)\n",
      " a'0010'b'0100' : (0.204942896962+0.069316752255j)\n",
      " a'0010'b'1000' : (-0.0302310474217+0.0562074147165j)\n",
      " a'0100'b'0001' : (0.287521421909+0.32701510191j)\n",
      " a'0100'b'0010' : (-0.0718013495207+0.0789329633117j)\n",
      " a'0100'b'0100' : (-0.215009689331-0.141452968121j)\n",
      " a'0100'b'1000' : (-0.0821027234197+0.0773733854294j)\n",
      " a'1000'b'0001' : (0.0509977266192-0.213559314609j)\n",
      " a'1000'b'0010' : (-0.356220513582+0.0891146063805j)\n",
      " a'1000'b'0100' : (-0.051079005003-0.0124583598226j)\n",
      " a'1000'b'1000' : (0.0955442786217+0.131456032395j)\n"
     ]
    }
   ],
   "source": [
    "ops = FermionOperator('2^ 0', 0.2 - .3j) + FermionOperator('0^ 2', 0.2 + .3j)\n",
    "wfFQE.print_wfn()\n",
    "wfFQE2 = wfFQE.apply_generated_unitary(ops, algo='taylor')\n",
    "wfFQE2.print_wfn()\n",
    "ops = FermionOperator('2^ 0', 0.2 - .3j) + FermionOperator('0^ 2', 0.2 + .3j)\n",
    "wfFQE2 = fqe.apply_generated_unitary(ops, wfFQE, algo='taylor')\n",
    "wfFQE2.print_wfn()"
   ]
  },
  {
   "cell_type": "markdown",
   "metadata": {},
   "source": [
    "### 3.B.1 Hamiltonian data structure\n",
    "\n",
    "Hamiltonians can be incorporated from OpenFermion objects or initialized from numpy arrays.  Notice a slight change in the arguments to get_two_body to include a constant potential term and additionally a chemical potential."
   ]
  },
  {
   "cell_type": "code",
   "execution_count": 13,
   "metadata": {},
   "outputs": [],
   "source": [
    "from openfermion import get_quadratic_hamiltonian\n",
    "ops = FermionOperator((), 1.) + FermionOperator('1^ 1', 3.) + FermionOperator('1^ 2', 3. + 4.j) + FermionOperator('2^ 1', 3. - 4.j) + FermionOperator('3^ 4', 2. + 5.j) + FermionOperator('4^ 3', 2. - 5.j)\n",
    "hamOF = get_quadratic_hamiltonian(ops, -0.03)\n",
    "hamFQE = fqe.get_hamiltonian_from_openfermion(hamOF)\n",
    "hamFQE = fqe.get_quadratic_hamiltonian(ops, -0.03)"
   ]
  },
  {
   "cell_type": "code",
   "execution_count": 15,
   "metadata": {},
   "outputs": [],
   "source": [
    "e = 1.0\n",
    "t = numpy.random.rand(4, 4) + numpy.random.rand(4, 4)*1.j\n",
    "h = t + numpy.conjugate(t.T)\n",
    "symmh = [\n",
    "    [[1, 2], 1.0, False],\n",
    "    [[2, 1], 1.0, True]\n",
    "]\n",
    "t = numpy.random.rand(4, 4, 4, 4)\n",
    "g = t - t.T\n",
    "symmg = [\n",
    "    [[1, 2, 3, 4], 1.0, True],\n",
    "    [[4, 3, 2, 1], -1.0, True]\n",
    "]\n",
    "hamFQE = fqe.get_two_body_hamiltonian(-0.3, h, g, 0.0, symmh, symmg)"
   ]
  },
  {
   "cell_type": "code",
   "execution_count": 16,
   "metadata": {},
   "outputs": [],
   "source": [
    "hamOF = fqe.hamiltonian_to_openfermion(hamFQE)"
   ]
  },
  {
   "cell_type": "code",
   "execution_count": null,
   "metadata": {},
   "outputs": [],
   "source": []
  }
 ],
 "metadata": {
  "kernelspec": {
   "display_name": "Python 3",
   "language": "python",
   "name": "python3"
  },
  "language_info": {
   "codemirror_mode": {
    "name": "ipython",
    "version": 3
   },
   "file_extension": ".py",
   "mimetype": "text/x-python",
   "name": "python",
   "nbconvert_exporter": "python",
   "pygments_lexer": "ipython3",
   "version": "3.5.7"
  }
 },
 "nbformat": 4,
 "nbformat_minor": 2
}
